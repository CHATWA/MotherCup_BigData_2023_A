{
  "nbformat": 4,
  "nbformat_minor": 0,
  "metadata": {
    "colab": {
      "provenance": [],
      "gpuType": "V100"
    },
    "kernelspec": {
      "name": "python3",
      "display_name": "Python 3"
    },
    "language_info": {
      "name": "python"
    },
    "accelerator": "GPU"
  },
  "cells": [
    {
      "cell_type": "code",
      "source": [
        "!pip install keras_tuner"
      ],
      "metadata": {
        "id": "z9ysUkUVOGzp",
        "colab": {
          "base_uri": "https://localhost:8080/"
        },
        "outputId": "69e6ad16-5040-4826-c59a-584769390c46"
      },
      "execution_count": 1,
      "outputs": [
        {
          "output_type": "stream",
          "name": "stdout",
          "text": [
            "Collecting keras_tuner\n",
            "  Downloading keras_tuner-1.4.5-py3-none-any.whl (129 kB)\n",
            "\u001b[2K     \u001b[90m━━━━━━━━━━━━━━━━━━━━━━━━━━━━━━━━━━━━━━━━\u001b[0m \u001b[32m129.5/129.5 kB\u001b[0m \u001b[31m2.8 MB/s\u001b[0m eta \u001b[36m0:00:00\u001b[0m\n",
            "\u001b[?25hCollecting keras-core (from keras_tuner)\n",
            "  Downloading keras_core-0.1.7-py3-none-any.whl (950 kB)\n",
            "\u001b[2K     \u001b[90m━━━━━━━━━━━━━━━━━━━━━━━━━━━━━━━━━━━━━━━━\u001b[0m \u001b[32m950.8/950.8 kB\u001b[0m \u001b[31m25.7 MB/s\u001b[0m eta \u001b[36m0:00:00\u001b[0m\n",
            "\u001b[?25hRequirement already satisfied: packaging in /usr/local/lib/python3.10/dist-packages (from keras_tuner) (23.2)\n",
            "Requirement already satisfied: requests in /usr/local/lib/python3.10/dist-packages (from keras_tuner) (2.31.0)\n",
            "Collecting kt-legacy (from keras_tuner)\n",
            "  Downloading kt_legacy-1.0.5-py3-none-any.whl (9.6 kB)\n",
            "Requirement already satisfied: absl-py in /usr/local/lib/python3.10/dist-packages (from keras-core->keras_tuner) (1.4.0)\n",
            "Requirement already satisfied: numpy in /usr/local/lib/python3.10/dist-packages (from keras-core->keras_tuner) (1.23.5)\n",
            "Requirement already satisfied: rich in /usr/local/lib/python3.10/dist-packages (from keras-core->keras_tuner) (13.6.0)\n",
            "Collecting namex (from keras-core->keras_tuner)\n",
            "  Downloading namex-0.0.7-py3-none-any.whl (5.8 kB)\n",
            "Requirement already satisfied: h5py in /usr/local/lib/python3.10/dist-packages (from keras-core->keras_tuner) (3.9.0)\n",
            "Requirement already satisfied: dm-tree in /usr/local/lib/python3.10/dist-packages (from keras-core->keras_tuner) (0.1.8)\n",
            "Requirement already satisfied: charset-normalizer<4,>=2 in /usr/local/lib/python3.10/dist-packages (from requests->keras_tuner) (3.3.1)\n",
            "Requirement already satisfied: idna<4,>=2.5 in /usr/local/lib/python3.10/dist-packages (from requests->keras_tuner) (3.4)\n",
            "Requirement already satisfied: urllib3<3,>=1.21.1 in /usr/local/lib/python3.10/dist-packages (from requests->keras_tuner) (2.0.7)\n",
            "Requirement already satisfied: certifi>=2017.4.17 in /usr/local/lib/python3.10/dist-packages (from requests->keras_tuner) (2023.7.22)\n",
            "Requirement already satisfied: markdown-it-py>=2.2.0 in /usr/local/lib/python3.10/dist-packages (from rich->keras-core->keras_tuner) (3.0.0)\n",
            "Requirement already satisfied: pygments<3.0.0,>=2.13.0 in /usr/local/lib/python3.10/dist-packages (from rich->keras-core->keras_tuner) (2.16.1)\n",
            "Requirement already satisfied: mdurl~=0.1 in /usr/local/lib/python3.10/dist-packages (from markdown-it-py>=2.2.0->rich->keras-core->keras_tuner) (0.1.2)\n",
            "Installing collected packages: namex, kt-legacy, keras-core, keras_tuner\n",
            "Successfully installed keras-core-0.1.7 keras_tuner-1.4.5 kt-legacy-1.0.5 namex-0.0.7\n"
          ]
        }
      ]
    },
    {
      "cell_type": "code",
      "source": [
        "# 导包\n",
        "!pip install keras_tuner\n",
        "import os\n",
        "import json\n",
        "import shutil\n",
        "import numpy as np\n",
        "import keras_tuner as kt\n",
        "from tensorflow import keras\n",
        "import tensorflow as tf\n",
        "from kerastuner.tuners import RandomSearch\n",
        "from kerastuner.engine.hyperparameters import HyperParameter as hp\n",
        "from keras.layers import Dense, Dropout, Activation, Add, MaxPooling2D, Conv2D, Flatten, BatchNormalization\n",
        "from keras.models import Sequential\n",
        "from keras.preprocessing.image import ImageDataGenerator\n",
        "import matplotlib.pyplot as plt\n",
        "from keras.applications import VGG16\n",
        "from tensorflow.keras.applications import InceptionV3\n",
        "from tensorflow.keras.preprocessing.image import ImageDataGenerator\n",
        "from sklearn.model_selection import train_test_split\n",
        "import seaborn as sns\n",
        "from PIL import Image\n",
        "from matplotlib.font_manager import FontProperties\n",
        "from tensorflow.keras.regularizers import l2\n",
        "from tensorflow.keras.callbacks import EarlyStopping, CSVLogger, ModelCheckpoint\n",
        "\n",
        "%matplotlib inline\n",
        "%config InlineBackend.figure_format = 'svg'"
      ],
      "metadata": {
        "id": "iHMoDLyagqbl",
        "ExecuteTime": {
          "end_time": "2023-11-01T15:13:11.672724Z",
          "start_time": "2023-11-01T15:13:10.484919200Z"
        },
        "colab": {
          "base_uri": "https://localhost:8080/"
        },
        "outputId": "29acd0c0-673b-42f5-bfff-700d76c824ae"
      },
      "execution_count": 2,
      "outputs": [
        {
          "output_type": "stream",
          "name": "stdout",
          "text": [
            "Requirement already satisfied: keras_tuner in /usr/local/lib/python3.10/dist-packages (1.4.5)\n",
            "Requirement already satisfied: keras-core in /usr/local/lib/python3.10/dist-packages (from keras_tuner) (0.1.7)\n",
            "Requirement already satisfied: packaging in /usr/local/lib/python3.10/dist-packages (from keras_tuner) (23.2)\n",
            "Requirement already satisfied: requests in /usr/local/lib/python3.10/dist-packages (from keras_tuner) (2.31.0)\n",
            "Requirement already satisfied: kt-legacy in /usr/local/lib/python3.10/dist-packages (from keras_tuner) (1.0.5)\n",
            "Requirement already satisfied: absl-py in /usr/local/lib/python3.10/dist-packages (from keras-core->keras_tuner) (1.4.0)\n",
            "Requirement already satisfied: numpy in /usr/local/lib/python3.10/dist-packages (from keras-core->keras_tuner) (1.23.5)\n",
            "Requirement already satisfied: rich in /usr/local/lib/python3.10/dist-packages (from keras-core->keras_tuner) (13.6.0)\n",
            "Requirement already satisfied: namex in /usr/local/lib/python3.10/dist-packages (from keras-core->keras_tuner) (0.0.7)\n",
            "Requirement already satisfied: h5py in /usr/local/lib/python3.10/dist-packages (from keras-core->keras_tuner) (3.9.0)\n",
            "Requirement already satisfied: dm-tree in /usr/local/lib/python3.10/dist-packages (from keras-core->keras_tuner) (0.1.8)\n",
            "Requirement already satisfied: charset-normalizer<4,>=2 in /usr/local/lib/python3.10/dist-packages (from requests->keras_tuner) (3.3.1)\n",
            "Requirement already satisfied: idna<4,>=2.5 in /usr/local/lib/python3.10/dist-packages (from requests->keras_tuner) (3.4)\n",
            "Requirement already satisfied: urllib3<3,>=1.21.1 in /usr/local/lib/python3.10/dist-packages (from requests->keras_tuner) (2.0.7)\n",
            "Requirement already satisfied: certifi>=2017.4.17 in /usr/local/lib/python3.10/dist-packages (from requests->keras_tuner) (2023.7.22)\n",
            "Requirement already satisfied: markdown-it-py>=2.2.0 in /usr/local/lib/python3.10/dist-packages (from rich->keras-core->keras_tuner) (3.0.0)\n",
            "Requirement already satisfied: pygments<3.0.0,>=2.13.0 in /usr/local/lib/python3.10/dist-packages (from rich->keras-core->keras_tuner) (2.16.1)\n",
            "Requirement already satisfied: mdurl~=0.1 in /usr/local/lib/python3.10/dist-packages (from markdown-it-py>=2.2.0->rich->keras-core->keras_tuner) (0.1.2)\n",
            "Using TensorFlow backend\n"
          ]
        },
        {
          "output_type": "stream",
          "name": "stderr",
          "text": [
            "<ipython-input-2-b1a8cb481bdd>:10: DeprecationWarning: `import kerastuner` is deprecated, please use `import keras_tuner`.\n",
            "  from kerastuner.tuners import RandomSearch\n"
          ]
        }
      ]
    },
    {
      "cell_type": "code",
      "source": [
        "gpu_info = !nvidia-smi\n",
        "gpu_info = '\\n'.join(gpu_info)\n",
        "if gpu_info.find('failed') >= 0:\n",
        "  print('Not connected to a GPU')\n",
        "else:\n",
        "  print(gpu_info)"
      ],
      "metadata": {
        "id": "RZLJDDPDEDGd"
      },
      "execution_count": null,
      "outputs": []
    },
    {
      "cell_type": "code",
      "source": [
        "from psutil import virtual_memory\n",
        "ram_gb = virtual_memory().total / 1e9\n",
        "print('Your runtime has {:.1f} gigabytes of available RAM\\n'.format(ram_gb))\n",
        "\n",
        "if ram_gb < 20:\n",
        "  print('Not using a high-RAM runtime')\n",
        "else:\n",
        "  print('You are using a high-RAM runtime!')"
      ],
      "metadata": {
        "id": "V7QmGJylEJW6"
      },
      "execution_count": null,
      "outputs": []
    },
    {
      "cell_type": "code",
      "execution_count": 7,
      "outputs": [
        {
          "output_type": "stream",
          "name": "stdout",
          "text": [
            "Cloning into 'MotherCup'...\n",
            "remote: Enumerating objects: 2105, done.\u001b[K\n",
            "remote: Counting objects: 100% (1878/1878), done.\u001b[K\n",
            "remote: Compressing objects: 100% (1869/1869), done.\u001b[K\n",
            "remote: Total 2105 (delta 7), reused 1877 (delta 7), pack-reused 227\u001b[K\n",
            "Receiving objects: 100% (2105/2105), 2.24 GiB | 23.67 MiB/s, done.\n",
            "Resolving deltas: 100% (7/7), done.\n",
            "Updating files: 100% (1055/1055), done.\n"
          ]
        }
      ],
      "source": [
        "# 下载数据集\n",
        "!git clone -b trian --single-branch https://github.com/CHATWA/MotherCup.git"
      ],
      "metadata": {
        "id": "t7-FZxgKcvpN",
        "colab": {
          "base_uri": "https://localhost:8080/"
        },
        "outputId": "edc69048-fbe5-4bac-d015-c06c67e19e44"
      }
    },
    {
      "cell_type": "code",
      "source": [
        "!git clone https://e.coding.net/g-hymp8005/example-project/MotherCupData.git"
      ],
      "metadata": {
        "id": "0AtqBt7zh5dZ"
      },
      "execution_count": null,
      "outputs": []
    },
    {
      "cell_type": "code",
      "source": [
        "os.chdir(r'./MotherCup')"
      ],
      "metadata": {
        "id": "d0s5G3QMf6eM"
      },
      "execution_count": 8,
      "outputs": []
    },
    {
      "cell_type": "code",
      "execution_count": 9,
      "outputs": [
        {
          "output_type": "stream",
          "name": "stdout",
          "text": [
            "Found 892 images belonging to 2 classes.\n",
            "Found 160 images belonging to 2 classes.\n"
          ]
        }
      ],
      "source": [
        "with open('class_indices.json', 'r') as f:\n",
        "  class_indices = json.load(f)\n",
        "\n",
        "\n",
        "# 创建训练数据生成器并进行数据增强和预处理\n",
        "train_datagen = ImageDataGenerator(\n",
        "  rescale=1 / 255,  # 像素值缩放到 [0,1] 范围内\n",
        "  shear_range=0.2,  # 随机剪切变换的角度范围\n",
        "  zoom_range=0.25,  # 随机缩放变换的范围\n",
        "  vertical_flip=True,  # 垂直翻转\n",
        "  horizontal_flip=True,  # 水平翻转\n",
        "  rotation_range=45,  # 随机旋转的角度范围\n",
        "  brightness_range=(0.45, 1.95),  # 随机调整亮度\n",
        "  width_shift_range=0.15,  # 水平位移范围\n",
        "  height_shift_range=0.15,  # 垂直位移范围\n",
        "  channel_shift_range=0.2,  # 随机通道移动\n",
        "  preprocessing_function=tf.keras.applications.vgg16.preprocess_input\n",
        ")\n",
        "\n",
        "# 从目录加载训练数据并应用数据生成器\n",
        "train_data = train_datagen.flow_from_directory(\n",
        "  './data/train',  # 训练数据目录路径\n",
        "  target_size=(299, 299),# 调整图像大小\n",
        "  class_mode='sparse',  # 目标变量是稀疏标签\n",
        "  shuffle=True,  # 是否随机打乱样本顺序\n",
        "  seed=1,  # 随机数种子，用于复现性\n",
        "  classes=class_indices.keys()  # 加载自定义的类别编号映射\n",
        ")\n",
        "\n",
        "# 创建测试数据生成器并进行预处理\n",
        "test_datagen = ImageDataGenerator(\n",
        "    rescale=1 / 255,  # 像素值缩放到 [0,1] 范围内\n",
        "    shear_range=0.3,  # 随机剪切变换的角度范围\n",
        "    zoom_range=0.35,  # 随机缩放变换的范围\n",
        "    rotation_range=50,  # 随机旋转的角度范围\n",
        "    brightness_range=(0.2, 1.9),  # 随机调整亮度\n",
        "    width_shift_range=0.2,  # 水平位移范围\n",
        "    height_shift_range=0.2,  # 垂直位移范围\n",
        "    channel_shift_range=0.25,  # 随机通道移动\n",
        "    preprocessing_function=tf.keras.applications.vgg16.preprocess_input\n",
        ")\n",
        "\n",
        "# 从目录加载测试数据并应用数据生成器\n",
        "test_data = test_datagen.flow_from_directory(\n",
        "  \"./data/val\",  # 测试数据目录路径\n",
        "  target_size=(299, 299),  # 调整图像大小\n",
        "  class_mode='sparse',  # 目标变量是稀疏标签\n",
        "  shuffle=True,     # 是否随机打乱样本顺序\n",
        "  seed=1,        # 随机数种子，用于复现性\n",
        "  classes=class_indices.keys()  # 加载自定义的类别编号映射\n",
        ")"
      ],
      "metadata": {
        "ExecuteTime": {
          "start_time": "2023-10-29T10:38:55.047437700Z"
        },
        "id": "a7LN7J_rcvpO",
        "outputId": "b8b01bce-5a8f-4a68-e93a-489db45d7adc",
        "colab": {
          "base_uri": "https://localhost:8080/"
        }
      }
    },
    {
      "cell_type": "markdown",
      "source": [
        "# 编码"
      ],
      "metadata": {
        "id": "Ox39Geoh1CGT"
      }
    },
    {
      "cell_type": "code",
      "source": [
        "print(train_data.class_indices)"
      ],
      "metadata": {
        "colab": {
          "base_uri": "https://localhost:8080/"
        },
        "id": "q5YGApEF1CQQ",
        "outputId": "8626a9aa-c6d3-4376-ae9a-6caeddc95cb6",
        "ExecuteTime": {
          "end_time": "2023-10-29T10:38:58.308745300Z",
          "start_time": "2023-10-29T10:38:58.205498700Z"
        }
      },
      "execution_count": 10,
      "outputs": [
        {
          "output_type": "stream",
          "name": "stdout",
          "text": [
            "{'normal': 0, 'potholes': 1}\n"
          ]
        }
      ]
    },
    {
      "cell_type": "markdown",
      "source": [
        "# 构建网络模型"
      ],
      "metadata": {
        "id": "XUvoe5HQ1Nkf"
      }
    },
    {
      "cell_type": "code",
      "source": [
        "# 加载预训练的InceptionV3模型\n",
        "inception_model = InceptionV3(weights='imagenet', include_top=False)\n",
        "\n",
        "# 冻结模型的所有层，以便保持其权重不变\n",
        "for layer in inception_model.layers:\n",
        "  layer.trainable = False\n",
        "\n",
        "# 添加自定义的全局平均池化层\n",
        "model = Sequential()\n",
        "model.add(inception_model)\n",
        "model.add(tf.keras.layers.GlobalAveragePooling2D())\n",
        "\n",
        "# 添加全连接层，其中每一层后面都有一个Dropout层用于防止过拟合\n",
        "model.add(Dense(2048, activation='relu', kernel_regularizer=l2(0.001)))  # 添加L2正则化项\n",
        "model.add(Dropout(0.35))\n",
        "model.add(Dense(1024, activation='relu', kernel_regularizer=l2(0.001)))  # 添加L2正则化项\n",
        "model.add(Dropout(0.3))\n",
        "model.add(Dense(512, activation='relu', kernel_regularizer=l2(0.001)))  # 添加L2正则化项\n",
        "model.add(Dropout(0.25))\n",
        "model.add(Dense(256, activation='relu', kernel_regularizer=l2(0.001)))  # 添加L2正则化项\n",
        "model.add(Dropout(0.2))\n",
        "\n",
        "# 添加最终输出层，这里是一个具有两个类别的分类器\n",
        "model.add(Dense(2, activation='softmax'))\n",
        "\n",
        "# 打印模型的详细信息\n",
        "model.summary()\n",
        "# 编译模型\n",
        "model.compile(optimizer='adam', loss=keras.losses.SparseCategoricalCrossentropy(), metrics=['accuracy'])"
      ],
      "metadata": {
        "id": "__YjJlPJ1Nre",
        "ExecuteTime": {
          "end_time": "2023-10-29T10:39:03.380080500Z",
          "start_time": "2023-10-29T10:39:00.509649500Z"
        },
        "colab": {
          "base_uri": "https://localhost:8080/"
        },
        "outputId": "0043807a-8a49-4670-9ea0-f2d029eb10e8"
      },
      "execution_count": 11,
      "outputs": [
        {
          "output_type": "stream",
          "name": "stdout",
          "text": [
            "Downloading data from https://storage.googleapis.com/tensorflow/keras-applications/inception_v3/inception_v3_weights_tf_dim_ordering_tf_kernels_notop.h5\n",
            "87910968/87910968 [==============================] - 4s 0us/step\n",
            "Model: \"sequential\"\n",
            "_________________________________________________________________\n",
            " Layer (type)                Output Shape              Param #   \n",
            "=================================================================\n",
            " inception_v3 (Functional)   (None, None, None, 2048   21802784  \n",
            "                             )                                   \n",
            "                                                                 \n",
            " global_average_pooling2d (  (None, 2048)              0         \n",
            " GlobalAveragePooling2D)                                         \n",
            "                                                                 \n",
            " dense (Dense)               (None, 2048)              4196352   \n",
            "                                                                 \n",
            " dropout (Dropout)           (None, 2048)              0         \n",
            "                                                                 \n",
            " dense_1 (Dense)             (None, 1024)              2098176   \n",
            "                                                                 \n",
            " dropout_1 (Dropout)         (None, 1024)              0         \n",
            "                                                                 \n",
            " dense_2 (Dense)             (None, 512)               524800    \n",
            "                                                                 \n",
            " dropout_2 (Dropout)         (None, 512)               0         \n",
            "                                                                 \n",
            " dense_3 (Dense)             (None, 256)               131328    \n",
            "                                                                 \n",
            " dropout_3 (Dropout)         (None, 256)               0         \n",
            "                                                                 \n",
            " dense_4 (Dense)             (None, 2)                 514       \n",
            "                                                                 \n",
            "=================================================================\n",
            "Total params: 28753954 (109.69 MB)\n",
            "Trainable params: 6951170 (26.52 MB)\n",
            "Non-trainable params: 21802784 (83.17 MB)\n",
            "_________________________________________________________________\n"
          ]
        }
      ]
    },
    {
      "cell_type": "code",
      "source": [
        "point_filepath = './checkpoint/Baseline.ckpt'\n",
        "bestpoint_filepath = './checkpoint_best/Baseline.ckpt'"
      ],
      "metadata": {
        "id": "V2ya29d5I_mT"
      },
      "execution_count": 12,
      "outputs": []
    },
    {
      "cell_type": "code",
      "source": [
        "# 断点续训\n",
        "model.load_weights(point_filepath)"
      ],
      "metadata": {
        "colab": {
          "base_uri": "https://localhost:8080/"
        },
        "id": "dfkvoKQiM9B6",
        "outputId": "475a4bd4-9221-4808-8303-f0efc7e21d7e"
      },
      "execution_count": null,
      "outputs": [
        {
          "output_type": "execute_result",
          "data": {
            "text/plain": [
              "<tensorflow.python.checkpoint.checkpoint.CheckpointLoadStatus at 0x7c589239a2f0>"
            ]
          },
          "metadata": {},
          "execution_count": 25
        }
      ]
    },
    {
      "cell_type": "code",
      "source": [
        "# 设置早停回调函数\n",
        "early = EarlyStopping(monitor='val_loss', patience=5)\n",
        "\n",
        "# 实例化ModelCheckpoint\n",
        "cp_callback_save = ModelCheckpoint(filepath=point_filepath)\n",
        "class SaveBestModel(tf.keras.callbacks.Callback):\n",
        "  def __init__(self, filepath):\n",
        "    super(SaveBestModel, self).__init__()\n",
        "    self.filepath = filepath\n",
        "    self.best_val_accuracy = -float('inf')\n",
        "    self.best_train_accuracy = -float('inf')\n",
        "\n",
        "  def on_epoch_end(self, epoch, logs=None):\n",
        "    val_accuracy = logs.get('val_accuracy')\n",
        "    train_accuracy = logs.get('accuracy')\n",
        "\n",
        "    if val_accuracy is not None and train_accuracy is not None:\n",
        "      if val_accuracy > self.best_val_accuracy and train_accuracy > self.best_train_accuracy:\n",
        "        self.best_val_accuracy = val_accuracy\n",
        "        self.best_train_accuracy = train_accuracy\n",
        "        self.model.save_weights(self.filepath, overwrite=True)\n",
        "        print(f\"\\nSaved model with val_accuracy: {val_accuracy} and train_accuracy: {train_accuracy}.\")\n",
        "\n",
        "bestpoint_filepath = './best_model.h5'\n",
        "cp_callback_save_best = SaveBestModel(filepath=bestpoint_filepath)\n",
        "\n",
        "history = model.fit(\n",
        "  train_data,  # 训练数据生成器\n",
        "  validation_data=test_data,  # 验证数据生成器\n",
        "  callbacks=[early,cp_callback_save,cp_callback_save_best],  # 使用早停回调\n",
        "  epochs=300  # 训练的epoch数\n",
        ")"
      ],
      "metadata": {
        "colab": {
          "base_uri": "https://localhost:8080/"
        },
        "id": "71JWLoVJK__p",
        "outputId": "c019415a-d723-4af0-ebd7-3eaa8a0abf59"
      },
      "execution_count": 13,
      "outputs": [
        {
          "output_type": "stream",
          "name": "stdout",
          "text": [
            "Epoch 1/300\n",
            "28/28 [==============================] - ETA: 0s - loss: 4.9331 - accuracy: 0.5168\n",
            "Saved model with val_accuracy: 0.9125000238418579 and train_accuracy: 0.5168161392211914.\n",
            "28/28 [==============================] - 125s 4s/step - loss: 4.9331 - accuracy: 0.5168 - val_loss: 3.8530 - val_accuracy: 0.9125\n",
            "Epoch 2/300\n",
            "28/28 [==============================] - ETA: 0s - loss: 3.3740 - accuracy: 0.8543\n",
            "Saved model with val_accuracy: 0.9437500238418579 and train_accuracy: 0.8542600870132446.\n",
            "28/28 [==============================] - 104s 4s/step - loss: 3.3740 - accuracy: 0.8543 - val_loss: 2.8376 - val_accuracy: 0.9438\n",
            "Epoch 3/300\n",
            "28/28 [==============================] - 102s 4s/step - loss: 2.6336 - accuracy: 0.9316 - val_loss: 2.3755 - val_accuracy: 0.9375\n",
            "Epoch 4/300\n",
            "28/28 [==============================] - 101s 4s/step - loss: 2.2352 - accuracy: 0.9182 - val_loss: 2.0113 - val_accuracy: 0.9312\n",
            "Epoch 5/300\n",
            "28/28 [==============================] - 100s 4s/step - loss: 1.8839 - accuracy: 0.9361 - val_loss: 1.9101 - val_accuracy: 0.8750\n",
            "Epoch 6/300\n",
            "28/28 [==============================] - 103s 4s/step - loss: 1.5838 - accuracy: 0.9608 - val_loss: 1.5014 - val_accuracy: 0.9375\n",
            "Epoch 7/300\n",
            "28/28 [==============================] - 101s 4s/step - loss: 1.4736 - accuracy: 0.9238 - val_loss: 1.3236 - val_accuracy: 0.9375\n",
            "Epoch 8/300\n",
            "28/28 [==============================] - 100s 4s/step - loss: 1.2524 - accuracy: 0.9518 - val_loss: 1.1824 - val_accuracy: 0.9438\n",
            "Epoch 9/300\n",
            "28/28 [==============================] - 103s 4s/step - loss: 1.1337 - accuracy: 0.9417 - val_loss: 1.1082 - val_accuracy: 0.9187\n",
            "Epoch 10/300\n",
            "28/28 [==============================] - 101s 4s/step - loss: 0.9868 - accuracy: 0.9630 - val_loss: 1.1045 - val_accuracy: 0.9312\n",
            "Epoch 11/300\n",
            "28/28 [==============================] - 100s 4s/step - loss: 0.8969 - accuracy: 0.9664 - val_loss: 0.8943 - val_accuracy: 0.9312\n",
            "Epoch 12/300\n",
            "28/28 [==============================] - 102s 4s/step - loss: 0.8134 - accuracy: 0.9596 - val_loss: 0.8063 - val_accuracy: 0.9375\n",
            "Epoch 13/300\n",
            "28/28 [==============================] - 100s 4s/step - loss: 0.8000 - accuracy: 0.9462 - val_loss: 0.8465 - val_accuracy: 0.9312\n",
            "Epoch 14/300\n",
            "28/28 [==============================] - 100s 4s/step - loss: 0.7157 - accuracy: 0.9518 - val_loss: 0.8872 - val_accuracy: 0.8750\n",
            "Epoch 15/300\n",
            "28/28 [==============================] - ETA: 0s - loss: 0.6700 - accuracy: 0.9518\n",
            "Saved model with val_accuracy: 0.9624999761581421 and train_accuracy: 0.9517937302589417.\n",
            "28/28 [==============================] - 106s 4s/step - loss: 0.6700 - accuracy: 0.9518 - val_loss: 0.6624 - val_accuracy: 0.9625\n",
            "Epoch 16/300\n",
            "28/28 [==============================] - 98s 4s/step - loss: 0.6170 - accuracy: 0.9630 - val_loss: 0.7707 - val_accuracy: 0.8875\n",
            "Epoch 17/300\n",
            "28/28 [==============================] - 101s 4s/step - loss: 0.5505 - accuracy: 0.9720 - val_loss: 0.7373 - val_accuracy: 0.9000\n",
            "Epoch 18/300\n",
            "28/28 [==============================] - 102s 4s/step - loss: 0.6089 - accuracy: 0.9327 - val_loss: 0.7066 - val_accuracy: 0.8750\n",
            "Epoch 19/300\n",
            "28/28 [==============================] - 98s 3s/step - loss: 0.5492 - accuracy: 0.9529 - val_loss: 0.5546 - val_accuracy: 0.9250\n",
            "Epoch 20/300\n",
            "28/28 [==============================] - ETA: 0s - loss: 0.4929 - accuracy: 0.9630\n",
            "Saved model with val_accuracy: 0.96875 and train_accuracy: 0.963004469871521.\n",
            "28/28 [==============================] - 102s 4s/step - loss: 0.4929 - accuracy: 0.9630 - val_loss: 0.4735 - val_accuracy: 0.9688\n",
            "Epoch 21/300\n",
            "28/28 [==============================] - 101s 4s/step - loss: 0.4641 - accuracy: 0.9619 - val_loss: 0.5819 - val_accuracy: 0.8938\n",
            "Epoch 22/300\n",
            "28/28 [==============================] - 101s 4s/step - loss: 0.4585 - accuracy: 0.9540 - val_loss: 0.4817 - val_accuracy: 0.9438\n",
            "Epoch 23/300\n",
            "28/28 [==============================] - 101s 4s/step - loss: 0.4182 - accuracy: 0.9652 - val_loss: 0.4496 - val_accuracy: 0.9500\n",
            "Epoch 24/300\n",
            "28/28 [==============================] - ETA: 0s - loss: 0.3817 - accuracy: 0.9731\n",
            "Saved model with val_accuracy: 0.981249988079071 and train_accuracy: 0.9730941653251648.\n",
            "28/28 [==============================] - 103s 4s/step - loss: 0.3817 - accuracy: 0.9731 - val_loss: 0.4056 - val_accuracy: 0.9812\n",
            "Epoch 25/300\n",
            "28/28 [==============================] - 102s 4s/step - loss: 0.3544 - accuracy: 0.9798 - val_loss: 0.4874 - val_accuracy: 0.9438\n",
            "Epoch 26/300\n",
            "28/28 [==============================] - 99s 4s/step - loss: 0.3820 - accuracy: 0.9641 - val_loss: 0.3810 - val_accuracy: 0.9625\n",
            "Epoch 27/300\n",
            "28/28 [==============================] - 101s 4s/step - loss: 0.3733 - accuracy: 0.9630 - val_loss: 0.3996 - val_accuracy: 0.9375\n",
            "Epoch 28/300\n",
            "28/28 [==============================] - 103s 4s/step - loss: 0.3896 - accuracy: 0.9507 - val_loss: 0.4423 - val_accuracy: 0.9375\n",
            "Epoch 29/300\n",
            "28/28 [==============================] - 104s 4s/step - loss: 0.3456 - accuracy: 0.9664 - val_loss: 0.3672 - val_accuracy: 0.9625\n",
            "Epoch 30/300\n",
            "28/28 [==============================] - 102s 4s/step - loss: 0.3301 - accuracy: 0.9630 - val_loss: 0.3592 - val_accuracy: 0.9250\n",
            "Epoch 31/300\n",
            "28/28 [==============================] - 102s 4s/step - loss: 0.2852 - accuracy: 0.9765 - val_loss: 0.2568 - val_accuracy: 0.9812\n",
            "Epoch 32/300\n",
            "28/28 [==============================] - 100s 4s/step - loss: 0.3312 - accuracy: 0.9484 - val_loss: 0.3425 - val_accuracy: 0.9312\n",
            "Epoch 33/300\n",
            "28/28 [==============================] - 102s 4s/step - loss: 0.2813 - accuracy: 0.9697 - val_loss: 0.4257 - val_accuracy: 0.9000\n",
            "Epoch 34/300\n",
            "28/28 [==============================] - 101s 4s/step - loss: 0.2797 - accuracy: 0.9619 - val_loss: 0.2873 - val_accuracy: 0.9625\n",
            "Epoch 35/300\n",
            "28/28 [==============================] - 101s 4s/step - loss: 0.2607 - accuracy: 0.9742 - val_loss: 0.2622 - val_accuracy: 0.9688\n",
            "Epoch 36/300\n",
            "28/28 [==============================] - 101s 4s/step - loss: 0.2782 - accuracy: 0.9652 - val_loss: 0.2900 - val_accuracy: 0.9438\n"
          ]
        }
      ]
    },
    {
      "cell_type": "code",
      "source": [
        "# 保存整个模型\n",
        "model.save('my_model_InceptionV3.keras')"
      ],
      "metadata": {
        "id": "DRo0yaE2NEnV"
      },
      "execution_count": 14,
      "outputs": []
    },
    {
      "cell_type": "code",
      "source": [
        "# 绘图\n",
        "sns.set_style(\"whitegrid\")  # 使用白色背景，并带网格线\n",
        "\n",
        "# 从训练历史中提取准确度和损失值\n",
        "acc = history.history['accuracy']\n",
        "val_acc = history.history['val_accuracy']\n",
        "loss = history.history['loss']\n",
        "val_loss = history.history['val_loss']\n",
        "epochs = range(1, len(loss) + 1)\n",
        "\n",
        "# 绘制准确度曲线\n",
        "plt.figure(figsize=(12, 5))  # 设置整体图表大小\n",
        "plt.subplot(1, 2, 1)  # 创建一个1行2列的子图，进入第1个子图\n",
        "plt.plot(epochs, acc, color='green', label='Training Accuracy')  # 训练集准确度\n",
        "plt.plot(epochs, val_acc, color='blue', label='Validation Accuracy')  # 验证集准确度\n",
        "plt.xticks(range(min(epochs)-1, max(epochs)+1, 5))\n",
        "plt.title('Accuracy')  # 图表标题\n",
        "plt.ylabel('Accuracy')  # y轴标签\n",
        "plt.xlabel('Epochs')  # x轴标签\n",
        "plt.legend()  # 添加图例\n",
        "\n",
        "# 绘制损失曲线\n",
        "plt.subplot(1, 2, 2)  # 进入第2个子图\n",
        "plt.plot(epochs, loss, color='pink', label='Training Loss')  # 训练集损失\n",
        "plt.plot(epochs, val_loss, color='red', label='Validation Loss')  # 验证集损失\n",
        "plt.xticks(range(min(epochs)-1, max(epochs)+1, 5))\n",
        "plt.title('Loss')  # 图表标题\n",
        "plt.xlabel('Epochs')  # x轴标签\n",
        "plt.ylabel('Loss')  # y轴标签\n",
        "plt.legend()  # 添加图例\n",
        "\n",
        "plt.tight_layout()  # 调整子图之间的间距\n",
        "plt.savefig('jieguotu.png')\n",
        "plt.show()"
      ],
      "metadata": {
        "colab": {
          "base_uri": "https://localhost:8080/",
          "height": 488
        },
        "id": "Wj3_RmZ92M7b",
        "outputId": "5fcf035f-1fe7-4ece-f3a4-b1b61c8e2ed9",
        "ExecuteTime": {
          "end_time": "2023-10-29T12:31:04.549955400Z",
          "start_time": "2023-10-29T12:31:03.504329800Z"
        }
      },
      "execution_count": 15,
      "outputs": [
        {
          "output_type": "display_data",
          "data": {
            "text/plain": [
              "<Figure size 1200x500 with 2 Axes>"
            ],
            "image/svg+xml": "<?xml version=\"1.0\" encoding=\"utf-8\" standalone=\"no\"?>\n<!DOCTYPE svg PUBLIC \"-//W3C//DTD SVG 1.1//EN\"\n  \"http://www.w3.org/Graphics/SVG/1.1/DTD/svg11.dtd\">\n<svg xmlns:xlink=\"http://www.w3.org/1999/xlink\" width=\"856.46125pt\" height=\"351.034375pt\" viewBox=\"0 0 856.46125 351.034375\" xmlns=\"http://www.w3.org/2000/svg\" version=\"1.1\">\n <metadata>\n  <rdf:RDF xmlns:dc=\"http://purl.org/dc/elements/1.1/\" xmlns:cc=\"http://creativecommons.org/ns#\" xmlns:rdf=\"http://www.w3.org/1999/02/22-rdf-syntax-ns#\">\n   <cc:Work>\n    <dc:type rdf:resource=\"http://purl.org/dc/dcmitype/StillImage\"/>\n    <dc:date>2023-11-03T10:15:56.904080</dc:date>\n    <dc:format>image/svg+xml</dc:format>\n    <dc:creator>\n     <cc:Agent>\n      <dc:title>Matplotlib v3.7.1, https://matplotlib.org/</dc:title>\n     </cc:Agent>\n    </dc:creator>\n   </cc:Work>\n  </rdf:RDF>\n </metadata>\n <defs>\n  <style type=\"text/css\">*{stroke-linejoin: round; stroke-linecap: butt}</style>\n </defs>\n <g id=\"figure_1\">\n  <g id=\"patch_1\">\n   <path d=\"M 0 351.034375 \nL 856.46125 351.034375 \nL 856.46125 0 \nL 0 0 \nz\n\" style=\"fill: #ffffff\"/>\n  </g>\n  <g id=\"axes_1\">\n   <g id=\"patch_2\">\n    <path d=\"M 43.78125 313.478125 \nL 427.38625 313.478125 \nL 427.38625 22.318125 \nL 43.78125 22.318125 \nz\n\" style=\"fill: #ffffff\"/>\n   </g>\n   <g id=\"matplotlib.axis_1\">\n    <g id=\"xtick_1\">\n     <g id=\"line2d_1\">\n      <path d=\"M 51.254075 313.478125 \nL 51.254075 22.318125 \n\" clip-path=\"url(#p4fe069aee9)\" style=\"fill: none; stroke: #cccccc; stroke-width: 0.8; stroke-linecap: round\"/>\n     </g>\n     <g id=\"text_1\">\n      <!-- 0 -->\n      <g style=\"fill: #262626\" transform=\"translate(48.072825 328.076563) scale(0.1 -0.1)\">\n       <defs>\n        <path id=\"DejaVuSans-30\" d=\"M 2034 4250 \nQ 1547 4250 1301 3770 \nQ 1056 3291 1056 2328 \nQ 1056 1369 1301 889 \nQ 1547 409 2034 409 \nQ 2525 409 2770 889 \nQ 3016 1369 3016 2328 \nQ 3016 3291 2770 3770 \nQ 2525 4250 2034 4250 \nz\nM 2034 4750 \nQ 2819 4750 3233 4129 \nQ 3647 3509 3647 2328 \nQ 3647 1150 3233 529 \nQ 2819 -91 2034 -91 \nQ 1250 -91 836 529 \nQ 422 1150 422 2328 \nQ 422 3509 836 4129 \nQ 1250 4750 2034 4750 \nz\n\" transform=\"scale(0.015625)\"/>\n       </defs>\n       <use xlink:href=\"#DejaVuSans-30\"/>\n      </g>\n     </g>\n    </g>\n    <g id=\"xtick_2\">\n     <g id=\"line2d_2\">\n      <path d=\"M 101.072906 313.478125 \nL 101.072906 22.318125 \n\" clip-path=\"url(#p4fe069aee9)\" style=\"fill: none; stroke: #cccccc; stroke-width: 0.8; stroke-linecap: round\"/>\n     </g>\n     <g id=\"text_2\">\n      <!-- 5 -->\n      <g style=\"fill: #262626\" transform=\"translate(97.891656 328.076563) scale(0.1 -0.1)\">\n       <defs>\n        <path id=\"DejaVuSans-35\" d=\"M 691 4666 \nL 3169 4666 \nL 3169 4134 \nL 1269 4134 \nL 1269 2991 \nQ 1406 3038 1543 3061 \nQ 1681 3084 1819 3084 \nQ 2600 3084 3056 2656 \nQ 3513 2228 3513 1497 \nQ 3513 744 3044 326 \nQ 2575 -91 1722 -91 \nQ 1428 -91 1123 -41 \nQ 819 9 494 109 \nL 494 744 \nQ 775 591 1075 516 \nQ 1375 441 1709 441 \nQ 2250 441 2565 725 \nQ 2881 1009 2881 1497 \nQ 2881 1984 2565 2268 \nQ 2250 2553 1709 2553 \nQ 1456 2553 1204 2497 \nQ 953 2441 691 2322 \nL 691 4666 \nz\n\" transform=\"scale(0.015625)\"/>\n       </defs>\n       <use xlink:href=\"#DejaVuSans-35\"/>\n      </g>\n     </g>\n    </g>\n    <g id=\"xtick_3\">\n     <g id=\"line2d_3\">\n      <path d=\"M 150.891737 313.478125 \nL 150.891737 22.318125 \n\" clip-path=\"url(#p4fe069aee9)\" style=\"fill: none; stroke: #cccccc; stroke-width: 0.8; stroke-linecap: round\"/>\n     </g>\n     <g id=\"text_3\">\n      <!-- 10 -->\n      <g style=\"fill: #262626\" transform=\"translate(144.529237 328.076563) scale(0.1 -0.1)\">\n       <defs>\n        <path id=\"DejaVuSans-31\" d=\"M 794 531 \nL 1825 531 \nL 1825 4091 \nL 703 3866 \nL 703 4441 \nL 1819 4666 \nL 2450 4666 \nL 2450 531 \nL 3481 531 \nL 3481 0 \nL 794 0 \nL 794 531 \nz\n\" transform=\"scale(0.015625)\"/>\n       </defs>\n       <use xlink:href=\"#DejaVuSans-31\"/>\n       <use xlink:href=\"#DejaVuSans-30\" x=\"63.623047\"/>\n      </g>\n     </g>\n    </g>\n    <g id=\"xtick_4\">\n     <g id=\"line2d_4\">\n      <path d=\"M 200.710568 313.478125 \nL 200.710568 22.318125 \n\" clip-path=\"url(#p4fe069aee9)\" style=\"fill: none; stroke: #cccccc; stroke-width: 0.8; stroke-linecap: round\"/>\n     </g>\n     <g id=\"text_4\">\n      <!-- 15 -->\n      <g style=\"fill: #262626\" transform=\"translate(194.348068 328.076563) scale(0.1 -0.1)\">\n       <use xlink:href=\"#DejaVuSans-31\"/>\n       <use xlink:href=\"#DejaVuSans-35\" x=\"63.623047\"/>\n      </g>\n     </g>\n    </g>\n    <g id=\"xtick_5\">\n     <g id=\"line2d_5\">\n      <path d=\"M 250.529399 313.478125 \nL 250.529399 22.318125 \n\" clip-path=\"url(#p4fe069aee9)\" style=\"fill: none; stroke: #cccccc; stroke-width: 0.8; stroke-linecap: round\"/>\n     </g>\n     <g id=\"text_5\">\n      <!-- 20 -->\n      <g style=\"fill: #262626\" transform=\"translate(244.166899 328.076563) scale(0.1 -0.1)\">\n       <defs>\n        <path id=\"DejaVuSans-32\" d=\"M 1228 531 \nL 3431 531 \nL 3431 0 \nL 469 0 \nL 469 531 \nQ 828 903 1448 1529 \nQ 2069 2156 2228 2338 \nQ 2531 2678 2651 2914 \nQ 2772 3150 2772 3378 \nQ 2772 3750 2511 3984 \nQ 2250 4219 1831 4219 \nQ 1534 4219 1204 4116 \nQ 875 4013 500 3803 \nL 500 4441 \nQ 881 4594 1212 4672 \nQ 1544 4750 1819 4750 \nQ 2544 4750 2975 4387 \nQ 3406 4025 3406 3419 \nQ 3406 3131 3298 2873 \nQ 3191 2616 2906 2266 \nQ 2828 2175 2409 1742 \nQ 1991 1309 1228 531 \nz\n\" transform=\"scale(0.015625)\"/>\n       </defs>\n       <use xlink:href=\"#DejaVuSans-32\"/>\n       <use xlink:href=\"#DejaVuSans-30\" x=\"63.623047\"/>\n      </g>\n     </g>\n    </g>\n    <g id=\"xtick_6\">\n     <g id=\"line2d_6\">\n      <path d=\"M 300.348231 313.478125 \nL 300.348231 22.318125 \n\" clip-path=\"url(#p4fe069aee9)\" style=\"fill: none; stroke: #cccccc; stroke-width: 0.8; stroke-linecap: round\"/>\n     </g>\n     <g id=\"text_6\">\n      <!-- 25 -->\n      <g style=\"fill: #262626\" transform=\"translate(293.985731 328.076563) scale(0.1 -0.1)\">\n       <use xlink:href=\"#DejaVuSans-32\"/>\n       <use xlink:href=\"#DejaVuSans-35\" x=\"63.623047\"/>\n      </g>\n     </g>\n    </g>\n    <g id=\"xtick_7\">\n     <g id=\"line2d_7\">\n      <path d=\"M 350.167062 313.478125 \nL 350.167062 22.318125 \n\" clip-path=\"url(#p4fe069aee9)\" style=\"fill: none; stroke: #cccccc; stroke-width: 0.8; stroke-linecap: round\"/>\n     </g>\n     <g id=\"text_7\">\n      <!-- 30 -->\n      <g style=\"fill: #262626\" transform=\"translate(343.804562 328.076563) scale(0.1 -0.1)\">\n       <defs>\n        <path id=\"DejaVuSans-33\" d=\"M 2597 2516 \nQ 3050 2419 3304 2112 \nQ 3559 1806 3559 1356 \nQ 3559 666 3084 287 \nQ 2609 -91 1734 -91 \nQ 1441 -91 1130 -33 \nQ 819 25 488 141 \nL 488 750 \nQ 750 597 1062 519 \nQ 1375 441 1716 441 \nQ 2309 441 2620 675 \nQ 2931 909 2931 1356 \nQ 2931 1769 2642 2001 \nQ 2353 2234 1838 2234 \nL 1294 2234 \nL 1294 2753 \nL 1863 2753 \nQ 2328 2753 2575 2939 \nQ 2822 3125 2822 3475 \nQ 2822 3834 2567 4026 \nQ 2313 4219 1838 4219 \nQ 1578 4219 1281 4162 \nQ 984 4106 628 3988 \nL 628 4550 \nQ 988 4650 1302 4700 \nQ 1616 4750 1894 4750 \nQ 2613 4750 3031 4423 \nQ 3450 4097 3450 3541 \nQ 3450 3153 3228 2886 \nQ 3006 2619 2597 2516 \nz\n\" transform=\"scale(0.015625)\"/>\n       </defs>\n       <use xlink:href=\"#DejaVuSans-33\"/>\n       <use xlink:href=\"#DejaVuSans-30\" x=\"63.623047\"/>\n      </g>\n     </g>\n    </g>\n    <g id=\"xtick_8\">\n     <g id=\"line2d_8\">\n      <path d=\"M 399.985893 313.478125 \nL 399.985893 22.318125 \n\" clip-path=\"url(#p4fe069aee9)\" style=\"fill: none; stroke: #cccccc; stroke-width: 0.8; stroke-linecap: round\"/>\n     </g>\n     <g id=\"text_8\">\n      <!-- 35 -->\n      <g style=\"fill: #262626\" transform=\"translate(393.623393 328.076563) scale(0.1 -0.1)\">\n       <use xlink:href=\"#DejaVuSans-33\"/>\n       <use xlink:href=\"#DejaVuSans-35\" x=\"63.623047\"/>\n      </g>\n     </g>\n    </g>\n    <g id=\"text_9\">\n     <!-- Epochs -->\n     <g style=\"fill: #262626\" transform=\"translate(217.668125 341.754687) scale(0.1 -0.1)\">\n      <defs>\n       <path id=\"DejaVuSans-45\" d=\"M 628 4666 \nL 3578 4666 \nL 3578 4134 \nL 1259 4134 \nL 1259 2753 \nL 3481 2753 \nL 3481 2222 \nL 1259 2222 \nL 1259 531 \nL 3634 531 \nL 3634 0 \nL 628 0 \nL 628 4666 \nz\n\" transform=\"scale(0.015625)\"/>\n       <path id=\"DejaVuSans-70\" d=\"M 1159 525 \nL 1159 -1331 \nL 581 -1331 \nL 581 3500 \nL 1159 3500 \nL 1159 2969 \nQ 1341 3281 1617 3432 \nQ 1894 3584 2278 3584 \nQ 2916 3584 3314 3078 \nQ 3713 2572 3713 1747 \nQ 3713 922 3314 415 \nQ 2916 -91 2278 -91 \nQ 1894 -91 1617 61 \nQ 1341 213 1159 525 \nz\nM 3116 1747 \nQ 3116 2381 2855 2742 \nQ 2594 3103 2138 3103 \nQ 1681 3103 1420 2742 \nQ 1159 2381 1159 1747 \nQ 1159 1113 1420 752 \nQ 1681 391 2138 391 \nQ 2594 391 2855 752 \nQ 3116 1113 3116 1747 \nz\n\" transform=\"scale(0.015625)\"/>\n       <path id=\"DejaVuSans-6f\" d=\"M 1959 3097 \nQ 1497 3097 1228 2736 \nQ 959 2375 959 1747 \nQ 959 1119 1226 758 \nQ 1494 397 1959 397 \nQ 2419 397 2687 759 \nQ 2956 1122 2956 1747 \nQ 2956 2369 2687 2733 \nQ 2419 3097 1959 3097 \nz\nM 1959 3584 \nQ 2709 3584 3137 3096 \nQ 3566 2609 3566 1747 \nQ 3566 888 3137 398 \nQ 2709 -91 1959 -91 \nQ 1206 -91 779 398 \nQ 353 888 353 1747 \nQ 353 2609 779 3096 \nQ 1206 3584 1959 3584 \nz\n\" transform=\"scale(0.015625)\"/>\n       <path id=\"DejaVuSans-63\" d=\"M 3122 3366 \nL 3122 2828 \nQ 2878 2963 2633 3030 \nQ 2388 3097 2138 3097 \nQ 1578 3097 1268 2742 \nQ 959 2388 959 1747 \nQ 959 1106 1268 751 \nQ 1578 397 2138 397 \nQ 2388 397 2633 464 \nQ 2878 531 3122 666 \nL 3122 134 \nQ 2881 22 2623 -34 \nQ 2366 -91 2075 -91 \nQ 1284 -91 818 406 \nQ 353 903 353 1747 \nQ 353 2603 823 3093 \nQ 1294 3584 2113 3584 \nQ 2378 3584 2631 3529 \nQ 2884 3475 3122 3366 \nz\n\" transform=\"scale(0.015625)\"/>\n       <path id=\"DejaVuSans-68\" d=\"M 3513 2113 \nL 3513 0 \nL 2938 0 \nL 2938 2094 \nQ 2938 2591 2744 2837 \nQ 2550 3084 2163 3084 \nQ 1697 3084 1428 2787 \nQ 1159 2491 1159 1978 \nL 1159 0 \nL 581 0 \nL 581 4863 \nL 1159 4863 \nL 1159 2956 \nQ 1366 3272 1645 3428 \nQ 1925 3584 2291 3584 \nQ 2894 3584 3203 3211 \nQ 3513 2838 3513 2113 \nz\n\" transform=\"scale(0.015625)\"/>\n       <path id=\"DejaVuSans-73\" d=\"M 2834 3397 \nL 2834 2853 \nQ 2591 2978 2328 3040 \nQ 2066 3103 1784 3103 \nQ 1356 3103 1142 2972 \nQ 928 2841 928 2578 \nQ 928 2378 1081 2264 \nQ 1234 2150 1697 2047 \nL 1894 2003 \nQ 2506 1872 2764 1633 \nQ 3022 1394 3022 966 \nQ 3022 478 2636 193 \nQ 2250 -91 1575 -91 \nQ 1294 -91 989 -36 \nQ 684 19 347 128 \nL 347 722 \nQ 666 556 975 473 \nQ 1284 391 1588 391 \nQ 1994 391 2212 530 \nQ 2431 669 2431 922 \nQ 2431 1156 2273 1281 \nQ 2116 1406 1581 1522 \nL 1381 1569 \nQ 847 1681 609 1914 \nQ 372 2147 372 2553 \nQ 372 3047 722 3315 \nQ 1072 3584 1716 3584 \nQ 2034 3584 2315 3537 \nQ 2597 3491 2834 3397 \nz\n\" transform=\"scale(0.015625)\"/>\n      </defs>\n      <use xlink:href=\"#DejaVuSans-45\"/>\n      <use xlink:href=\"#DejaVuSans-70\" x=\"63.183594\"/>\n      <use xlink:href=\"#DejaVuSans-6f\" x=\"126.660156\"/>\n      <use xlink:href=\"#DejaVuSans-63\" x=\"187.841797\"/>\n      <use xlink:href=\"#DejaVuSans-68\" x=\"242.822266\"/>\n      <use xlink:href=\"#DejaVuSans-73\" x=\"306.201172\"/>\n     </g>\n    </g>\n   </g>\n   <g id=\"matplotlib.axis_2\">\n    <g id=\"ytick_1\">\n     <g id=\"line2d_9\">\n      <path d=\"M 43.78125 309.827461 \nL 427.38625 309.827461 \n\" clip-path=\"url(#p4fe069aee9)\" style=\"fill: none; stroke: #cccccc; stroke-width: 0.8; stroke-linecap: round\"/>\n     </g>\n     <g id=\"text_10\">\n      <!-- 0.5 -->\n      <g style=\"fill: #262626\" transform=\"translate(20.878125 313.62668) scale(0.1 -0.1)\">\n       <defs>\n        <path id=\"DejaVuSans-2e\" d=\"M 684 794 \nL 1344 794 \nL 1344 0 \nL 684 0 \nL 684 794 \nz\n\" transform=\"scale(0.015625)\"/>\n       </defs>\n       <use xlink:href=\"#DejaVuSans-30\"/>\n       <use xlink:href=\"#DejaVuSans-2e\" x=\"63.623047\"/>\n       <use xlink:href=\"#DejaVuSans-35\" x=\"95.410156\"/>\n      </g>\n     </g>\n    </g>\n    <g id=\"ytick_2\">\n     <g id=\"line2d_10\">\n      <path d=\"M 43.78125 252.835296 \nL 427.38625 252.835296 \n\" clip-path=\"url(#p4fe069aee9)\" style=\"fill: none; stroke: #cccccc; stroke-width: 0.8; stroke-linecap: round\"/>\n     </g>\n     <g id=\"text_11\">\n      <!-- 0.6 -->\n      <g style=\"fill: #262626\" transform=\"translate(20.878125 256.634514) scale(0.1 -0.1)\">\n       <defs>\n        <path id=\"DejaVuSans-36\" d=\"M 2113 2584 \nQ 1688 2584 1439 2293 \nQ 1191 2003 1191 1497 \nQ 1191 994 1439 701 \nQ 1688 409 2113 409 \nQ 2538 409 2786 701 \nQ 3034 994 3034 1497 \nQ 3034 2003 2786 2293 \nQ 2538 2584 2113 2584 \nz\nM 3366 4563 \nL 3366 3988 \nQ 3128 4100 2886 4159 \nQ 2644 4219 2406 4219 \nQ 1781 4219 1451 3797 \nQ 1122 3375 1075 2522 \nQ 1259 2794 1537 2939 \nQ 1816 3084 2150 3084 \nQ 2853 3084 3261 2657 \nQ 3669 2231 3669 1497 \nQ 3669 778 3244 343 \nQ 2819 -91 2113 -91 \nQ 1303 -91 875 529 \nQ 447 1150 447 2328 \nQ 447 3434 972 4092 \nQ 1497 4750 2381 4750 \nQ 2619 4750 2861 4703 \nQ 3103 4656 3366 4563 \nz\n\" transform=\"scale(0.015625)\"/>\n       </defs>\n       <use xlink:href=\"#DejaVuSans-30\"/>\n       <use xlink:href=\"#DejaVuSans-2e\" x=\"63.623047\"/>\n       <use xlink:href=\"#DejaVuSans-36\" x=\"95.410156\"/>\n      </g>\n     </g>\n    </g>\n    <g id=\"ytick_3\">\n     <g id=\"line2d_11\">\n      <path d=\"M 43.78125 195.84313 \nL 427.38625 195.84313 \n\" clip-path=\"url(#p4fe069aee9)\" style=\"fill: none; stroke: #cccccc; stroke-width: 0.8; stroke-linecap: round\"/>\n     </g>\n     <g id=\"text_12\">\n      <!-- 0.7 -->\n      <g style=\"fill: #262626\" transform=\"translate(20.878125 199.642349) scale(0.1 -0.1)\">\n       <defs>\n        <path id=\"DejaVuSans-37\" d=\"M 525 4666 \nL 3525 4666 \nL 3525 4397 \nL 1831 0 \nL 1172 0 \nL 2766 4134 \nL 525 4134 \nL 525 4666 \nz\n\" transform=\"scale(0.015625)\"/>\n       </defs>\n       <use xlink:href=\"#DejaVuSans-30\"/>\n       <use xlink:href=\"#DejaVuSans-2e\" x=\"63.623047\"/>\n       <use xlink:href=\"#DejaVuSans-37\" x=\"95.410156\"/>\n      </g>\n     </g>\n    </g>\n    <g id=\"ytick_4\">\n     <g id=\"line2d_12\">\n      <path d=\"M 43.78125 138.850964 \nL 427.38625 138.850964 \n\" clip-path=\"url(#p4fe069aee9)\" style=\"fill: none; stroke: #cccccc; stroke-width: 0.8; stroke-linecap: round\"/>\n     </g>\n     <g id=\"text_13\">\n      <!-- 0.8 -->\n      <g style=\"fill: #262626\" transform=\"translate(20.878125 142.650183) scale(0.1 -0.1)\">\n       <defs>\n        <path id=\"DejaVuSans-38\" d=\"M 2034 2216 \nQ 1584 2216 1326 1975 \nQ 1069 1734 1069 1313 \nQ 1069 891 1326 650 \nQ 1584 409 2034 409 \nQ 2484 409 2743 651 \nQ 3003 894 3003 1313 \nQ 3003 1734 2745 1975 \nQ 2488 2216 2034 2216 \nz\nM 1403 2484 \nQ 997 2584 770 2862 \nQ 544 3141 544 3541 \nQ 544 4100 942 4425 \nQ 1341 4750 2034 4750 \nQ 2731 4750 3128 4425 \nQ 3525 4100 3525 3541 \nQ 3525 3141 3298 2862 \nQ 3072 2584 2669 2484 \nQ 3125 2378 3379 2068 \nQ 3634 1759 3634 1313 \nQ 3634 634 3220 271 \nQ 2806 -91 2034 -91 \nQ 1263 -91 848 271 \nQ 434 634 434 1313 \nQ 434 1759 690 2068 \nQ 947 2378 1403 2484 \nz\nM 1172 3481 \nQ 1172 3119 1398 2916 \nQ 1625 2713 2034 2713 \nQ 2441 2713 2670 2916 \nQ 2900 3119 2900 3481 \nQ 2900 3844 2670 4047 \nQ 2441 4250 2034 4250 \nQ 1625 4250 1398 4047 \nQ 1172 3844 1172 3481 \nz\n\" transform=\"scale(0.015625)\"/>\n       </defs>\n       <use xlink:href=\"#DejaVuSans-30\"/>\n       <use xlink:href=\"#DejaVuSans-2e\" x=\"63.623047\"/>\n       <use xlink:href=\"#DejaVuSans-38\" x=\"95.410156\"/>\n      </g>\n     </g>\n    </g>\n    <g id=\"ytick_5\">\n     <g id=\"line2d_13\">\n      <path d=\"M 43.78125 81.858798 \nL 427.38625 81.858798 \n\" clip-path=\"url(#p4fe069aee9)\" style=\"fill: none; stroke: #cccccc; stroke-width: 0.8; stroke-linecap: round\"/>\n     </g>\n     <g id=\"text_14\">\n      <!-- 0.9 -->\n      <g style=\"fill: #262626\" transform=\"translate(20.878125 85.658017) scale(0.1 -0.1)\">\n       <defs>\n        <path id=\"DejaVuSans-39\" d=\"M 703 97 \nL 703 672 \nQ 941 559 1184 500 \nQ 1428 441 1663 441 \nQ 2288 441 2617 861 \nQ 2947 1281 2994 2138 \nQ 2813 1869 2534 1725 \nQ 2256 1581 1919 1581 \nQ 1219 1581 811 2004 \nQ 403 2428 403 3163 \nQ 403 3881 828 4315 \nQ 1253 4750 1959 4750 \nQ 2769 4750 3195 4129 \nQ 3622 3509 3622 2328 \nQ 3622 1225 3098 567 \nQ 2575 -91 1691 -91 \nQ 1453 -91 1209 -44 \nQ 966 3 703 97 \nz\nM 1959 2075 \nQ 2384 2075 2632 2365 \nQ 2881 2656 2881 3163 \nQ 2881 3666 2632 3958 \nQ 2384 4250 1959 4250 \nQ 1534 4250 1286 3958 \nQ 1038 3666 1038 3163 \nQ 1038 2656 1286 2365 \nQ 1534 2075 1959 2075 \nz\n\" transform=\"scale(0.015625)\"/>\n       </defs>\n       <use xlink:href=\"#DejaVuSans-30\"/>\n       <use xlink:href=\"#DejaVuSans-2e\" x=\"63.623047\"/>\n       <use xlink:href=\"#DejaVuSans-39\" x=\"95.410156\"/>\n      </g>\n     </g>\n    </g>\n    <g id=\"ytick_6\">\n     <g id=\"line2d_14\">\n      <path d=\"M 43.78125 24.866633 \nL 427.38625 24.866633 \n\" clip-path=\"url(#p4fe069aee9)\" style=\"fill: none; stroke: #cccccc; stroke-width: 0.8; stroke-linecap: round\"/>\n     </g>\n     <g id=\"text_15\">\n      <!-- 1.0 -->\n      <g style=\"fill: #262626\" transform=\"translate(20.878125 28.665851) scale(0.1 -0.1)\">\n       <use xlink:href=\"#DejaVuSans-31\"/>\n       <use xlink:href=\"#DejaVuSans-2e\" x=\"63.623047\"/>\n       <use xlink:href=\"#DejaVuSans-30\" x=\"95.410156\"/>\n      </g>\n     </g>\n    </g>\n    <g id=\"text_16\">\n     <!-- Accuracy -->\n     <g style=\"fill: #262626\" transform=\"translate(14.798438 190.72625) rotate(-90) scale(0.1 -0.1)\">\n      <defs>\n       <path id=\"DejaVuSans-41\" d=\"M 2188 4044 \nL 1331 1722 \nL 3047 1722 \nL 2188 4044 \nz\nM 1831 4666 \nL 2547 4666 \nL 4325 0 \nL 3669 0 \nL 3244 1197 \nL 1141 1197 \nL 716 0 \nL 50 0 \nL 1831 4666 \nz\n\" transform=\"scale(0.015625)\"/>\n       <path id=\"DejaVuSans-75\" d=\"M 544 1381 \nL 544 3500 \nL 1119 3500 \nL 1119 1403 \nQ 1119 906 1312 657 \nQ 1506 409 1894 409 \nQ 2359 409 2629 706 \nQ 2900 1003 2900 1516 \nL 2900 3500 \nL 3475 3500 \nL 3475 0 \nL 2900 0 \nL 2900 538 \nQ 2691 219 2414 64 \nQ 2138 -91 1772 -91 \nQ 1169 -91 856 284 \nQ 544 659 544 1381 \nz\nM 1991 3584 \nL 1991 3584 \nz\n\" transform=\"scale(0.015625)\"/>\n       <path id=\"DejaVuSans-72\" d=\"M 2631 2963 \nQ 2534 3019 2420 3045 \nQ 2306 3072 2169 3072 \nQ 1681 3072 1420 2755 \nQ 1159 2438 1159 1844 \nL 1159 0 \nL 581 0 \nL 581 3500 \nL 1159 3500 \nL 1159 2956 \nQ 1341 3275 1631 3429 \nQ 1922 3584 2338 3584 \nQ 2397 3584 2469 3576 \nQ 2541 3569 2628 3553 \nL 2631 2963 \nz\n\" transform=\"scale(0.015625)\"/>\n       <path id=\"DejaVuSans-61\" d=\"M 2194 1759 \nQ 1497 1759 1228 1600 \nQ 959 1441 959 1056 \nQ 959 750 1161 570 \nQ 1363 391 1709 391 \nQ 2188 391 2477 730 \nQ 2766 1069 2766 1631 \nL 2766 1759 \nL 2194 1759 \nz\nM 3341 1997 \nL 3341 0 \nL 2766 0 \nL 2766 531 \nQ 2569 213 2275 61 \nQ 1981 -91 1556 -91 \nQ 1019 -91 701 211 \nQ 384 513 384 1019 \nQ 384 1609 779 1909 \nQ 1175 2209 1959 2209 \nL 2766 2209 \nL 2766 2266 \nQ 2766 2663 2505 2880 \nQ 2244 3097 1772 3097 \nQ 1472 3097 1187 3025 \nQ 903 2953 641 2809 \nL 641 3341 \nQ 956 3463 1253 3523 \nQ 1550 3584 1831 3584 \nQ 2591 3584 2966 3190 \nQ 3341 2797 3341 1997 \nz\n\" transform=\"scale(0.015625)\"/>\n       <path id=\"DejaVuSans-79\" d=\"M 2059 -325 \nQ 1816 -950 1584 -1140 \nQ 1353 -1331 966 -1331 \nL 506 -1331 \nL 506 -850 \nL 844 -850 \nQ 1081 -850 1212 -737 \nQ 1344 -625 1503 -206 \nL 1606 56 \nL 191 3500 \nL 800 3500 \nL 1894 763 \nL 2988 3500 \nL 3597 3500 \nL 2059 -325 \nz\n\" transform=\"scale(0.015625)\"/>\n      </defs>\n      <use xlink:href=\"#DejaVuSans-41\"/>\n      <use xlink:href=\"#DejaVuSans-63\" x=\"66.658203\"/>\n      <use xlink:href=\"#DejaVuSans-63\" x=\"121.638672\"/>\n      <use xlink:href=\"#DejaVuSans-75\" x=\"176.619141\"/>\n      <use xlink:href=\"#DejaVuSans-72\" x=\"239.998047\"/>\n      <use xlink:href=\"#DejaVuSans-61\" x=\"281.111328\"/>\n      <use xlink:href=\"#DejaVuSans-63\" x=\"342.390625\"/>\n      <use xlink:href=\"#DejaVuSans-79\" x=\"397.371094\"/>\n     </g>\n    </g>\n   </g>\n   <g id=\"line2d_15\">\n    <path d=\"M 61.217841 300.24358 \nL 71.181607 107.926965 \nL 81.145373 63.841102 \nL 91.10914 71.508194 \nL 101.072906 61.285404 \nL 111.036672 47.229035 \nL 121.000438 68.313589 \nL 130.964205 52.34043 \nL 140.927971 58.090766 \nL 150.891737 45.951186 \nL 160.855503 44.034396 \nL 170.819269 47.867942 \nL 180.783036 55.535068 \nL 190.746802 52.34043 \nL 200.710568 52.34043 \nL 210.674334 45.951186 \nL 220.638101 40.839758 \nL 230.601867 63.20216 \nL 240.565633 51.701522 \nL 250.529399 45.951186 \nL 260.493166 46.590094 \nL 270.456932 51.062581 \nL 280.420698 44.673338 \nL 290.384464 40.20085 \nL 300.348231 36.367304 \nL 310.311997 45.312245 \nL 320.275763 45.951186 \nL 330.239529 52.979371 \nL 340.203295 44.034396 \nL 350.167062 45.951186 \nL 360.130828 38.284061 \nL 370.094594 54.25722 \nL 380.05836 42.11764 \nL 390.022127 46.590094 \nL 399.985893 39.561909 \nL 409.949659 44.673338 \n\" clip-path=\"url(#p4fe069aee9)\" style=\"fill: none; stroke: #008000; stroke-width: 1.5; stroke-linecap: round\"/>\n   </g>\n   <g id=\"line2d_16\">\n    <path d=\"M 61.217841 74.734764 \nL 71.181607 56.924712 \nL 81.145373 60.486736 \nL 91.10914 64.04876 \nL 101.072906 96.10684 \nL 111.036672 60.486736 \nL 121.000438 60.486736 \nL 130.964205 56.924712 \nL 140.927971 71.172774 \nL 150.891737 64.04876 \nL 160.855503 64.04876 \nL 170.819269 60.486736 \nL 180.783036 64.04876 \nL 190.746802 96.10684 \nL 200.710568 46.238708 \nL 210.674334 88.982826 \nL 220.638101 81.858812 \nL 230.601867 96.10684 \nL 240.565633 67.61075 \nL 250.529399 42.676684 \nL 260.493166 85.420802 \nL 270.456932 56.924712 \nL 280.420698 53.362722 \nL 290.384464 35.55267 \nL 300.348231 56.924712 \nL 310.311997 46.238708 \nL 320.275763 60.486736 \nL 330.239529 60.486736 \nL 340.203295 46.238708 \nL 350.167062 67.61075 \nL 360.130828 35.55267 \nL 370.094594 64.04876 \nL 380.05836 81.858812 \nL 390.022127 46.238708 \nL 399.985893 42.676684 \nL 409.949659 56.924712 \n\" clip-path=\"url(#p4fe069aee9)\" style=\"fill: none; stroke: #0000ff; stroke-width: 1.5; stroke-linecap: round\"/>\n   </g>\n   <g id=\"patch_3\">\n    <path d=\"M 43.78125 313.478125 \nL 43.78125 22.318125 \n\" style=\"fill: none; stroke: #cccccc; stroke-width: 0.8; stroke-linejoin: miter; stroke-linecap: square\"/>\n   </g>\n   <g id=\"patch_4\">\n    <path d=\"M 427.38625 313.478125 \nL 427.38625 22.318125 \n\" style=\"fill: none; stroke: #cccccc; stroke-width: 0.8; stroke-linejoin: miter; stroke-linecap: square\"/>\n   </g>\n   <g id=\"patch_5\">\n    <path d=\"M 43.78125 313.478125 \nL 427.38625 313.478125 \n\" style=\"fill: none; stroke: #cccccc; stroke-width: 0.8; stroke-linejoin: miter; stroke-linecap: square\"/>\n   </g>\n   <g id=\"patch_6\">\n    <path d=\"M 43.78125 22.318125 \nL 427.38625 22.318125 \n\" style=\"fill: none; stroke: #cccccc; stroke-width: 0.8; stroke-linejoin: miter; stroke-linecap: square\"/>\n   </g>\n   <g id=\"text_17\">\n    <!-- Accuracy -->\n    <g style=\"fill: #262626\" transform=\"translate(208.19 16.318125) scale(0.12 -0.12)\">\n     <use xlink:href=\"#DejaVuSans-41\"/>\n     <use xlink:href=\"#DejaVuSans-63\" x=\"66.658203\"/>\n     <use xlink:href=\"#DejaVuSans-63\" x=\"121.638672\"/>\n     <use xlink:href=\"#DejaVuSans-75\" x=\"176.619141\"/>\n     <use xlink:href=\"#DejaVuSans-72\" x=\"239.998047\"/>\n     <use xlink:href=\"#DejaVuSans-61\" x=\"281.111328\"/>\n     <use xlink:href=\"#DejaVuSans-63\" x=\"342.390625\"/>\n     <use xlink:href=\"#DejaVuSans-79\" x=\"397.371094\"/>\n    </g>\n   </g>\n   <g id=\"legend_1\">\n    <g id=\"patch_7\">\n     <path d=\"M 290.170625 308.478125 \nL 420.38625 308.478125 \nQ 422.38625 308.478125 422.38625 306.478125 \nL 422.38625 278.121875 \nQ 422.38625 276.121875 420.38625 276.121875 \nL 290.170625 276.121875 \nQ 288.170625 276.121875 288.170625 278.121875 \nL 288.170625 306.478125 \nQ 288.170625 308.478125 290.170625 308.478125 \nz\n\" style=\"fill: #ffffff; opacity: 0.8; stroke: #cccccc; stroke-linejoin: miter\"/>\n    </g>\n    <g id=\"line2d_17\">\n     <path d=\"M 292.170625 284.220312 \nL 302.170625 284.220312 \nL 312.170625 284.220312 \n\" style=\"fill: none; stroke: #008000; stroke-width: 1.5; stroke-linecap: round\"/>\n    </g>\n    <g id=\"text_18\">\n     <!-- Training Accuracy -->\n     <g style=\"fill: #262626\" transform=\"translate(320.170625 287.720312) scale(0.1 -0.1)\">\n      <defs>\n       <path id=\"DejaVuSans-54\" d=\"M -19 4666 \nL 3928 4666 \nL 3928 4134 \nL 2272 4134 \nL 2272 0 \nL 1638 0 \nL 1638 4134 \nL -19 4134 \nL -19 4666 \nz\n\" transform=\"scale(0.015625)\"/>\n       <path id=\"DejaVuSans-69\" d=\"M 603 3500 \nL 1178 3500 \nL 1178 0 \nL 603 0 \nL 603 3500 \nz\nM 603 4863 \nL 1178 4863 \nL 1178 4134 \nL 603 4134 \nL 603 4863 \nz\n\" transform=\"scale(0.015625)\"/>\n       <path id=\"DejaVuSans-6e\" d=\"M 3513 2113 \nL 3513 0 \nL 2938 0 \nL 2938 2094 \nQ 2938 2591 2744 2837 \nQ 2550 3084 2163 3084 \nQ 1697 3084 1428 2787 \nQ 1159 2491 1159 1978 \nL 1159 0 \nL 581 0 \nL 581 3500 \nL 1159 3500 \nL 1159 2956 \nQ 1366 3272 1645 3428 \nQ 1925 3584 2291 3584 \nQ 2894 3584 3203 3211 \nQ 3513 2838 3513 2113 \nz\n\" transform=\"scale(0.015625)\"/>\n       <path id=\"DejaVuSans-67\" d=\"M 2906 1791 \nQ 2906 2416 2648 2759 \nQ 2391 3103 1925 3103 \nQ 1463 3103 1205 2759 \nQ 947 2416 947 1791 \nQ 947 1169 1205 825 \nQ 1463 481 1925 481 \nQ 2391 481 2648 825 \nQ 2906 1169 2906 1791 \nz\nM 3481 434 \nQ 3481 -459 3084 -895 \nQ 2688 -1331 1869 -1331 \nQ 1566 -1331 1297 -1286 \nQ 1028 -1241 775 -1147 \nL 775 -588 \nQ 1028 -725 1275 -790 \nQ 1522 -856 1778 -856 \nQ 2344 -856 2625 -561 \nQ 2906 -266 2906 331 \nL 2906 616 \nQ 2728 306 2450 153 \nQ 2172 0 1784 0 \nQ 1141 0 747 490 \nQ 353 981 353 1791 \nQ 353 2603 747 3093 \nQ 1141 3584 1784 3584 \nQ 2172 3584 2450 3431 \nQ 2728 3278 2906 2969 \nL 2906 3500 \nL 3481 3500 \nL 3481 434 \nz\n\" transform=\"scale(0.015625)\"/>\n       <path id=\"DejaVuSans-20\" transform=\"scale(0.015625)\"/>\n      </defs>\n      <use xlink:href=\"#DejaVuSans-54\"/>\n      <use xlink:href=\"#DejaVuSans-72\" x=\"46.333984\"/>\n      <use xlink:href=\"#DejaVuSans-61\" x=\"87.447266\"/>\n      <use xlink:href=\"#DejaVuSans-69\" x=\"148.726562\"/>\n      <use xlink:href=\"#DejaVuSans-6e\" x=\"176.509766\"/>\n      <use xlink:href=\"#DejaVuSans-69\" x=\"239.888672\"/>\n      <use xlink:href=\"#DejaVuSans-6e\" x=\"267.671875\"/>\n      <use xlink:href=\"#DejaVuSans-67\" x=\"331.050781\"/>\n      <use xlink:href=\"#DejaVuSans-20\" x=\"394.527344\"/>\n      <use xlink:href=\"#DejaVuSans-41\" x=\"426.314453\"/>\n      <use xlink:href=\"#DejaVuSans-63\" x=\"492.972656\"/>\n      <use xlink:href=\"#DejaVuSans-63\" x=\"547.953125\"/>\n      <use xlink:href=\"#DejaVuSans-75\" x=\"602.933594\"/>\n      <use xlink:href=\"#DejaVuSans-72\" x=\"666.3125\"/>\n      <use xlink:href=\"#DejaVuSans-61\" x=\"707.425781\"/>\n      <use xlink:href=\"#DejaVuSans-63\" x=\"768.705078\"/>\n      <use xlink:href=\"#DejaVuSans-79\" x=\"823.685547\"/>\n     </g>\n    </g>\n    <g id=\"line2d_18\">\n     <path d=\"M 292.170625 298.898438 \nL 302.170625 298.898438 \nL 312.170625 298.898438 \n\" style=\"fill: none; stroke: #0000ff; stroke-width: 1.5; stroke-linecap: round\"/>\n    </g>\n    <g id=\"text_19\">\n     <!-- Validation Accuracy -->\n     <g style=\"fill: #262626\" transform=\"translate(320.170625 302.398438) scale(0.1 -0.1)\">\n      <defs>\n       <path id=\"DejaVuSans-56\" d=\"M 1831 0 \nL 50 4666 \nL 709 4666 \nL 2188 738 \nL 3669 4666 \nL 4325 4666 \nL 2547 0 \nL 1831 0 \nz\n\" transform=\"scale(0.015625)\"/>\n       <path id=\"DejaVuSans-6c\" d=\"M 603 4863 \nL 1178 4863 \nL 1178 0 \nL 603 0 \nL 603 4863 \nz\n\" transform=\"scale(0.015625)\"/>\n       <path id=\"DejaVuSans-64\" d=\"M 2906 2969 \nL 2906 4863 \nL 3481 4863 \nL 3481 0 \nL 2906 0 \nL 2906 525 \nQ 2725 213 2448 61 \nQ 2172 -91 1784 -91 \nQ 1150 -91 751 415 \nQ 353 922 353 1747 \nQ 353 2572 751 3078 \nQ 1150 3584 1784 3584 \nQ 2172 3584 2448 3432 \nQ 2725 3281 2906 2969 \nz\nM 947 1747 \nQ 947 1113 1208 752 \nQ 1469 391 1925 391 \nQ 2381 391 2643 752 \nQ 2906 1113 2906 1747 \nQ 2906 2381 2643 2742 \nQ 2381 3103 1925 3103 \nQ 1469 3103 1208 2742 \nQ 947 2381 947 1747 \nz\n\" transform=\"scale(0.015625)\"/>\n       <path id=\"DejaVuSans-74\" d=\"M 1172 4494 \nL 1172 3500 \nL 2356 3500 \nL 2356 3053 \nL 1172 3053 \nL 1172 1153 \nQ 1172 725 1289 603 \nQ 1406 481 1766 481 \nL 2356 481 \nL 2356 0 \nL 1766 0 \nQ 1100 0 847 248 \nQ 594 497 594 1153 \nL 594 3053 \nL 172 3053 \nL 172 3500 \nL 594 3500 \nL 594 4494 \nL 1172 4494 \nz\n\" transform=\"scale(0.015625)\"/>\n      </defs>\n      <use xlink:href=\"#DejaVuSans-56\"/>\n      <use xlink:href=\"#DejaVuSans-61\" x=\"60.658203\"/>\n      <use xlink:href=\"#DejaVuSans-6c\" x=\"121.9375\"/>\n      <use xlink:href=\"#DejaVuSans-69\" x=\"149.720703\"/>\n      <use xlink:href=\"#DejaVuSans-64\" x=\"177.503906\"/>\n      <use xlink:href=\"#DejaVuSans-61\" x=\"240.980469\"/>\n      <use xlink:href=\"#DejaVuSans-74\" x=\"302.259766\"/>\n      <use xlink:href=\"#DejaVuSans-69\" x=\"341.46875\"/>\n      <use xlink:href=\"#DejaVuSans-6f\" x=\"369.251953\"/>\n      <use xlink:href=\"#DejaVuSans-6e\" x=\"430.433594\"/>\n      <use xlink:href=\"#DejaVuSans-20\" x=\"493.8125\"/>\n      <use xlink:href=\"#DejaVuSans-41\" x=\"525.599609\"/>\n      <use xlink:href=\"#DejaVuSans-63\" x=\"592.257812\"/>\n      <use xlink:href=\"#DejaVuSans-63\" x=\"647.238281\"/>\n      <use xlink:href=\"#DejaVuSans-75\" x=\"702.21875\"/>\n      <use xlink:href=\"#DejaVuSans-72\" x=\"765.597656\"/>\n      <use xlink:href=\"#DejaVuSans-61\" x=\"806.710938\"/>\n      <use xlink:href=\"#DejaVuSans-63\" x=\"867.990234\"/>\n      <use xlink:href=\"#DejaVuSans-79\" x=\"922.970703\"/>\n     </g>\n    </g>\n   </g>\n  </g>\n  <g id=\"axes_2\">\n   <g id=\"patch_8\">\n    <path d=\"M 465.65625 313.478125 \nL 849.26125 313.478125 \nL 849.26125 22.318125 \nL 465.65625 22.318125 \nz\n\" style=\"fill: #ffffff\"/>\n   </g>\n   <g id=\"matplotlib.axis_3\">\n    <g id=\"xtick_9\">\n     <g id=\"line2d_19\">\n      <path d=\"M 473.129075 313.478125 \nL 473.129075 22.318125 \n\" clip-path=\"url(#pcc1807c450)\" style=\"fill: none; stroke: #cccccc; stroke-width: 0.8; stroke-linecap: round\"/>\n     </g>\n     <g id=\"text_20\">\n      <!-- 0 -->\n      <g style=\"fill: #262626\" transform=\"translate(469.947825 328.076563) scale(0.1 -0.1)\">\n       <use xlink:href=\"#DejaVuSans-30\"/>\n      </g>\n     </g>\n    </g>\n    <g id=\"xtick_10\">\n     <g id=\"line2d_20\">\n      <path d=\"M 522.947906 313.478125 \nL 522.947906 22.318125 \n\" clip-path=\"url(#pcc1807c450)\" style=\"fill: none; stroke: #cccccc; stroke-width: 0.8; stroke-linecap: round\"/>\n     </g>\n     <g id=\"text_21\">\n      <!-- 5 -->\n      <g style=\"fill: #262626\" transform=\"translate(519.766656 328.076563) scale(0.1 -0.1)\">\n       <use xlink:href=\"#DejaVuSans-35\"/>\n      </g>\n     </g>\n    </g>\n    <g id=\"xtick_11\">\n     <g id=\"line2d_21\">\n      <path d=\"M 572.766737 313.478125 \nL 572.766737 22.318125 \n\" clip-path=\"url(#pcc1807c450)\" style=\"fill: none; stroke: #cccccc; stroke-width: 0.8; stroke-linecap: round\"/>\n     </g>\n     <g id=\"text_22\">\n      <!-- 10 -->\n      <g style=\"fill: #262626\" transform=\"translate(566.404237 328.076563) scale(0.1 -0.1)\">\n       <use xlink:href=\"#DejaVuSans-31\"/>\n       <use xlink:href=\"#DejaVuSans-30\" x=\"63.623047\"/>\n      </g>\n     </g>\n    </g>\n    <g id=\"xtick_12\">\n     <g id=\"line2d_22\">\n      <path d=\"M 622.585568 313.478125 \nL 622.585568 22.318125 \n\" clip-path=\"url(#pcc1807c450)\" style=\"fill: none; stroke: #cccccc; stroke-width: 0.8; stroke-linecap: round\"/>\n     </g>\n     <g id=\"text_23\">\n      <!-- 15 -->\n      <g style=\"fill: #262626\" transform=\"translate(616.223068 328.076563) scale(0.1 -0.1)\">\n       <use xlink:href=\"#DejaVuSans-31\"/>\n       <use xlink:href=\"#DejaVuSans-35\" x=\"63.623047\"/>\n      </g>\n     </g>\n    </g>\n    <g id=\"xtick_13\">\n     <g id=\"line2d_23\">\n      <path d=\"M 672.404399 313.478125 \nL 672.404399 22.318125 \n\" clip-path=\"url(#pcc1807c450)\" style=\"fill: none; stroke: #cccccc; stroke-width: 0.8; stroke-linecap: round\"/>\n     </g>\n     <g id=\"text_24\">\n      <!-- 20 -->\n      <g style=\"fill: #262626\" transform=\"translate(666.041899 328.076563) scale(0.1 -0.1)\">\n       <use xlink:href=\"#DejaVuSans-32\"/>\n       <use xlink:href=\"#DejaVuSans-30\" x=\"63.623047\"/>\n      </g>\n     </g>\n    </g>\n    <g id=\"xtick_14\">\n     <g id=\"line2d_24\">\n      <path d=\"M 722.223231 313.478125 \nL 722.223231 22.318125 \n\" clip-path=\"url(#pcc1807c450)\" style=\"fill: none; stroke: #cccccc; stroke-width: 0.8; stroke-linecap: round\"/>\n     </g>\n     <g id=\"text_25\">\n      <!-- 25 -->\n      <g style=\"fill: #262626\" transform=\"translate(715.860731 328.076563) scale(0.1 -0.1)\">\n       <use xlink:href=\"#DejaVuSans-32\"/>\n       <use xlink:href=\"#DejaVuSans-35\" x=\"63.623047\"/>\n      </g>\n     </g>\n    </g>\n    <g id=\"xtick_15\">\n     <g id=\"line2d_25\">\n      <path d=\"M 772.042062 313.478125 \nL 772.042062 22.318125 \n\" clip-path=\"url(#pcc1807c450)\" style=\"fill: none; stroke: #cccccc; stroke-width: 0.8; stroke-linecap: round\"/>\n     </g>\n     <g id=\"text_26\">\n      <!-- 30 -->\n      <g style=\"fill: #262626\" transform=\"translate(765.679562 328.076563) scale(0.1 -0.1)\">\n       <use xlink:href=\"#DejaVuSans-33\"/>\n       <use xlink:href=\"#DejaVuSans-30\" x=\"63.623047\"/>\n      </g>\n     </g>\n    </g>\n    <g id=\"xtick_16\">\n     <g id=\"line2d_26\">\n      <path d=\"M 821.860893 313.478125 \nL 821.860893 22.318125 \n\" clip-path=\"url(#pcc1807c450)\" style=\"fill: none; stroke: #cccccc; stroke-width: 0.8; stroke-linecap: round\"/>\n     </g>\n     <g id=\"text_27\">\n      <!-- 35 -->\n      <g style=\"fill: #262626\" transform=\"translate(815.498393 328.076563) scale(0.1 -0.1)\">\n       <use xlink:href=\"#DejaVuSans-33\"/>\n       <use xlink:href=\"#DejaVuSans-35\" x=\"63.623047\"/>\n      </g>\n     </g>\n    </g>\n    <g id=\"text_28\">\n     <!-- Epochs -->\n     <g style=\"fill: #262626\" transform=\"translate(639.543125 341.754687) scale(0.1 -0.1)\">\n      <use xlink:href=\"#DejaVuSans-45\"/>\n      <use xlink:href=\"#DejaVuSans-70\" x=\"63.183594\"/>\n      <use xlink:href=\"#DejaVuSans-6f\" x=\"126.660156\"/>\n      <use xlink:href=\"#DejaVuSans-63\" x=\"187.841797\"/>\n      <use xlink:href=\"#DejaVuSans-68\" x=\"242.822266\"/>\n      <use xlink:href=\"#DejaVuSans-73\" x=\"306.201172\"/>\n     </g>\n    </g>\n   </g>\n   <g id=\"matplotlib.axis_4\">\n    <g id=\"ytick_7\">\n     <g id=\"line2d_27\">\n      <path d=\"M 465.65625 258.175602 \nL 849.26125 258.175602 \n\" clip-path=\"url(#pcc1807c450)\" style=\"fill: none; stroke: #cccccc; stroke-width: 0.8; stroke-linecap: round\"/>\n     </g>\n     <g id=\"text_29\">\n      <!-- 1 -->\n      <g style=\"fill: #262626\" transform=\"translate(452.29375 261.97482) scale(0.1 -0.1)\">\n       <use xlink:href=\"#DejaVuSans-31\"/>\n      </g>\n     </g>\n    </g>\n    <g id=\"ytick_8\">\n     <g id=\"line2d_28\">\n      <path d=\"M 465.65625 201.573046 \nL 849.26125 201.573046 \n\" clip-path=\"url(#pcc1807c450)\" style=\"fill: none; stroke: #cccccc; stroke-width: 0.8; stroke-linecap: round\"/>\n     </g>\n     <g id=\"text_30\">\n      <!-- 2 -->\n      <g style=\"fill: #262626\" transform=\"translate(452.29375 205.372265) scale(0.1 -0.1)\">\n       <use xlink:href=\"#DejaVuSans-32\"/>\n      </g>\n     </g>\n    </g>\n    <g id=\"ytick_9\">\n     <g id=\"line2d_29\">\n      <path d=\"M 465.65625 144.97049 \nL 849.26125 144.97049 \n\" clip-path=\"url(#pcc1807c450)\" style=\"fill: none; stroke: #cccccc; stroke-width: 0.8; stroke-linecap: round\"/>\n     </g>\n     <g id=\"text_31\">\n      <!-- 3 -->\n      <g style=\"fill: #262626\" transform=\"translate(452.29375 148.769709) scale(0.1 -0.1)\">\n       <use xlink:href=\"#DejaVuSans-33\"/>\n      </g>\n     </g>\n    </g>\n    <g id=\"ytick_10\">\n     <g id=\"line2d_30\">\n      <path d=\"M 465.65625 88.367934 \nL 849.26125 88.367934 \n\" clip-path=\"url(#pcc1807c450)\" style=\"fill: none; stroke: #cccccc; stroke-width: 0.8; stroke-linecap: round\"/>\n     </g>\n     <g id=\"text_32\">\n      <!-- 4 -->\n      <g style=\"fill: #262626\" transform=\"translate(452.29375 92.167153) scale(0.1 -0.1)\">\n       <defs>\n        <path id=\"DejaVuSans-34\" d=\"M 2419 4116 \nL 825 1625 \nL 2419 1625 \nL 2419 4116 \nz\nM 2253 4666 \nL 3047 4666 \nL 3047 1625 \nL 3713 1625 \nL 3713 1100 \nL 3047 1100 \nL 3047 0 \nL 2419 0 \nL 2419 1100 \nL 313 1100 \nL 313 1709 \nL 2253 4666 \nz\n\" transform=\"scale(0.015625)\"/>\n       </defs>\n       <use xlink:href=\"#DejaVuSans-34\"/>\n      </g>\n     </g>\n    </g>\n    <g id=\"ytick_11\">\n     <g id=\"line2d_31\">\n      <path d=\"M 465.65625 31.765378 \nL 849.26125 31.765378 \n\" clip-path=\"url(#pcc1807c450)\" style=\"fill: none; stroke: #cccccc; stroke-width: 0.8; stroke-linecap: round\"/>\n     </g>\n     <g id=\"text_33\">\n      <!-- 5 -->\n      <g style=\"fill: #262626\" transform=\"translate(452.29375 35.564597) scale(0.1 -0.1)\">\n       <use xlink:href=\"#DejaVuSans-35\"/>\n      </g>\n     </g>\n    </g>\n    <g id=\"text_34\">\n     <!-- Loss -->\n     <g style=\"fill: #262626\" transform=\"translate(446.214062 178.865313) rotate(-90) scale(0.1 -0.1)\">\n      <defs>\n       <path id=\"DejaVuSans-4c\" d=\"M 628 4666 \nL 1259 4666 \nL 1259 531 \nL 3531 531 \nL 3531 0 \nL 628 0 \nL 628 4666 \nz\n\" transform=\"scale(0.015625)\"/>\n      </defs>\n      <use xlink:href=\"#DejaVuSans-4c\"/>\n      <use xlink:href=\"#DejaVuSans-6f\" x=\"53.962891\"/>\n      <use xlink:href=\"#DejaVuSans-73\" x=\"115.144531\"/>\n      <use xlink:href=\"#DejaVuSans-73\" x=\"167.244141\"/>\n     </g>\n    </g>\n   </g>\n   <g id=\"line2d_32\">\n    <path d=\"M 483.092841 35.55267 \nL 493.056607 123.799497 \nL 503.020373 165.712055 \nL 512.98414 188.261613 \nL 522.947906 208.144505 \nL 532.911672 225.130627 \nL 542.875438 231.37114 \nL 552.839205 243.888365 \nL 562.802971 250.607799 \nL 572.766737 258.924468 \nL 582.730503 264.012921 \nL 592.694269 268.736898 \nL 602.658036 269.497482 \nL 612.621802 274.267798 \nL 622.585568 276.85268 \nL 632.549334 279.854543 \nL 642.513101 283.615938 \nL 652.476867 280.314649 \nL 662.440633 283.692182 \nL 672.404399 286.877156 \nL 682.368166 288.50676 \nL 692.331932 288.828055 \nL 702.295698 291.108319 \nL 712.259464 293.173483 \nL 722.223231 294.71729 \nL 732.186997 293.157898 \nL 742.150763 293.646933 \nL 752.114529 292.725351 \nL 762.078295 295.216919 \nL 772.042062 296.094944 \nL 782.005828 298.635738 \nL 791.969594 296.03343 \nL 801.93336 298.856418 \nL 811.897127 298.947208 \nL 821.860893 300.022597 \nL 831.824659 299.029532 \n\" clip-path=\"url(#pcc1807c450)\" style=\"fill: none; stroke: #ffc0cb; stroke-width: 1.5; stroke-linecap: round\"/>\n   </g>\n   <g id=\"line2d_33\">\n    <path d=\"M 483.092841 96.687974 \nL 493.056607 154.160276 \nL 503.020373 180.321069 \nL 512.98414 200.935024 \nL 522.947906 206.659876 \nL 532.911672 229.7973 \nL 542.875438 239.861211 \nL 552.839205 247.8533 \nL 562.802971 252.04888 \nL 572.766737 252.261063 \nL 582.730503 264.159377 \nL 592.694269 269.13805 \nL 602.658036 266.865509 \nL 612.621802 264.559952 \nL 622.585568 277.287198 \nL 632.549334 271.154346 \nL 642.513101 273.045172 \nL 652.476867 274.782744 \nL 662.440633 283.383799 \nL 672.404399 287.979664 \nL 682.368166 281.842142 \nL 692.331932 287.511944 \nL 702.295698 289.32956 \nL 712.259464 291.822915 \nL 722.223231 287.190511 \nL 732.186997 293.214682 \nL 742.150763 292.160014 \nL 752.114529 289.742856 \nL 762.078295 293.994771 \nL 772.042062 294.448473 \nL 782.005828 300.24358 \nL 791.969594 295.391281 \nL 801.93336 290.681018 \nL 811.897127 298.518563 \nL 821.860893 299.936912 \nL 831.824659 298.362153 \n\" clip-path=\"url(#pcc1807c450)\" style=\"fill: none; stroke: #ff0000; stroke-width: 1.5; stroke-linecap: round\"/>\n   </g>\n   <g id=\"patch_9\">\n    <path d=\"M 465.65625 313.478125 \nL 465.65625 22.318125 \n\" style=\"fill: none; stroke: #cccccc; stroke-width: 0.8; stroke-linejoin: miter; stroke-linecap: square\"/>\n   </g>\n   <g id=\"patch_10\">\n    <path d=\"M 849.26125 313.478125 \nL 849.26125 22.318125 \n\" style=\"fill: none; stroke: #cccccc; stroke-width: 0.8; stroke-linejoin: miter; stroke-linecap: square\"/>\n   </g>\n   <g id=\"patch_11\">\n    <path d=\"M 465.65625 313.478125 \nL 849.26125 313.478125 \n\" style=\"fill: none; stroke: #cccccc; stroke-width: 0.8; stroke-linejoin: miter; stroke-linecap: square\"/>\n   </g>\n   <g id=\"patch_12\">\n    <path d=\"M 465.65625 22.318125 \nL 849.26125 22.318125 \n\" style=\"fill: none; stroke: #cccccc; stroke-width: 0.8; stroke-linejoin: miter; stroke-linecap: square\"/>\n   </g>\n   <g id=\"text_35\">\n    <!-- Loss -->\n    <g style=\"fill: #262626\" transform=\"translate(644.298125 16.318125) scale(0.12 -0.12)\">\n     <use xlink:href=\"#DejaVuSans-4c\"/>\n     <use xlink:href=\"#DejaVuSans-6f\" x=\"53.962891\"/>\n     <use xlink:href=\"#DejaVuSans-73\" x=\"115.144531\"/>\n     <use xlink:href=\"#DejaVuSans-73\" x=\"167.244141\"/>\n    </g>\n   </g>\n   <g id=\"legend_2\">\n    <g id=\"patch_13\">\n     <path d=\"M 735.7675 59.674375 \nL 842.26125 59.674375 \nQ 844.26125 59.674375 844.26125 57.674375 \nL 844.26125 29.318125 \nQ 844.26125 27.318125 842.26125 27.318125 \nL 735.7675 27.318125 \nQ 733.7675 27.318125 733.7675 29.318125 \nL 733.7675 57.674375 \nQ 733.7675 59.674375 735.7675 59.674375 \nz\n\" style=\"fill: #ffffff; opacity: 0.8; stroke: #cccccc; stroke-linejoin: miter\"/>\n    </g>\n    <g id=\"line2d_34\">\n     <path d=\"M 737.7675 35.416562 \nL 747.7675 35.416562 \nL 757.7675 35.416562 \n\" style=\"fill: none; stroke: #ffc0cb; stroke-width: 1.5; stroke-linecap: round\"/>\n    </g>\n    <g id=\"text_36\">\n     <!-- Training Loss -->\n     <g style=\"fill: #262626\" transform=\"translate(765.7675 38.916562) scale(0.1 -0.1)\">\n      <use xlink:href=\"#DejaVuSans-54\"/>\n      <use xlink:href=\"#DejaVuSans-72\" x=\"46.333984\"/>\n      <use xlink:href=\"#DejaVuSans-61\" x=\"87.447266\"/>\n      <use xlink:href=\"#DejaVuSans-69\" x=\"148.726562\"/>\n      <use xlink:href=\"#DejaVuSans-6e\" x=\"176.509766\"/>\n      <use xlink:href=\"#DejaVuSans-69\" x=\"239.888672\"/>\n      <use xlink:href=\"#DejaVuSans-6e\" x=\"267.671875\"/>\n      <use xlink:href=\"#DejaVuSans-67\" x=\"331.050781\"/>\n      <use xlink:href=\"#DejaVuSans-20\" x=\"394.527344\"/>\n      <use xlink:href=\"#DejaVuSans-4c\" x=\"426.314453\"/>\n      <use xlink:href=\"#DejaVuSans-6f\" x=\"480.277344\"/>\n      <use xlink:href=\"#DejaVuSans-73\" x=\"541.458984\"/>\n      <use xlink:href=\"#DejaVuSans-73\" x=\"593.558594\"/>\n     </g>\n    </g>\n    <g id=\"line2d_35\">\n     <path d=\"M 737.7675 50.094688 \nL 747.7675 50.094688 \nL 757.7675 50.094688 \n\" style=\"fill: none; stroke: #ff0000; stroke-width: 1.5; stroke-linecap: round\"/>\n    </g>\n    <g id=\"text_37\">\n     <!-- Validation Loss -->\n     <g style=\"fill: #262626\" transform=\"translate(765.7675 53.594688) scale(0.1 -0.1)\">\n      <use xlink:href=\"#DejaVuSans-56\"/>\n      <use xlink:href=\"#DejaVuSans-61\" x=\"60.658203\"/>\n      <use xlink:href=\"#DejaVuSans-6c\" x=\"121.9375\"/>\n      <use xlink:href=\"#DejaVuSans-69\" x=\"149.720703\"/>\n      <use xlink:href=\"#DejaVuSans-64\" x=\"177.503906\"/>\n      <use xlink:href=\"#DejaVuSans-61\" x=\"240.980469\"/>\n      <use xlink:href=\"#DejaVuSans-74\" x=\"302.259766\"/>\n      <use xlink:href=\"#DejaVuSans-69\" x=\"341.46875\"/>\n      <use xlink:href=\"#DejaVuSans-6f\" x=\"369.251953\"/>\n      <use xlink:href=\"#DejaVuSans-6e\" x=\"430.433594\"/>\n      <use xlink:href=\"#DejaVuSans-20\" x=\"493.8125\"/>\n      <use xlink:href=\"#DejaVuSans-4c\" x=\"525.599609\"/>\n      <use xlink:href=\"#DejaVuSans-6f\" x=\"579.5625\"/>\n      <use xlink:href=\"#DejaVuSans-73\" x=\"640.744141\"/>\n      <use xlink:href=\"#DejaVuSans-73\" x=\"692.84375\"/>\n     </g>\n    </g>\n   </g>\n  </g>\n </g>\n <defs>\n  <clipPath id=\"p4fe069aee9\">\n   <rect x=\"43.78125\" y=\"22.318125\" width=\"383.605\" height=\"291.16\"/>\n  </clipPath>\n  <clipPath id=\"pcc1807c450\">\n   <rect x=\"465.65625\" y=\"22.318125\" width=\"383.605\" height=\"291.16\"/>\n  </clipPath>\n </defs>\n</svg>\n"
          },
          "metadata": {}
        }
      ]
    },
    {
      "cell_type": "code",
      "source": [
        "# 加载模型权重\n",
        "from tensorflow.keras.models import load_model\n",
        "\n",
        "model = load_model('my_model_InceptionV3.keras')\n",
        "model.load_weights('best_model.h5')\n",
        "# 打印模型的详细信息\n",
        "model.summary()"
      ],
      "metadata": {
        "colab": {
          "base_uri": "https://localhost:8080/"
        },
        "id": "kRcFzMslXxas",
        "outputId": "ecc11318-5e05-477f-b1ce-ccda30ab894f"
      },
      "execution_count": 16,
      "outputs": [
        {
          "output_type": "stream",
          "name": "stdout",
          "text": [
            "Model: \"sequential\"\n",
            "_________________________________________________________________\n",
            " Layer (type)                Output Shape              Param #   \n",
            "=================================================================\n",
            " inception_v3 (Functional)   (None, None, None, 2048   21802784  \n",
            "                             )                                   \n",
            "                                                                 \n",
            " global_average_pooling2d (  (None, 2048)              0         \n",
            " GlobalAveragePooling2D)                                         \n",
            "                                                                 \n",
            " dense (Dense)               (None, 2048)              4196352   \n",
            "                                                                 \n",
            " dropout (Dropout)           (None, 2048)              0         \n",
            "                                                                 \n",
            " dense_1 (Dense)             (None, 1024)              2098176   \n",
            "                                                                 \n",
            " dropout_1 (Dropout)         (None, 1024)              0         \n",
            "                                                                 \n",
            " dense_2 (Dense)             (None, 512)               524800    \n",
            "                                                                 \n",
            " dropout_2 (Dropout)         (None, 512)               0         \n",
            "                                                                 \n",
            " dense_3 (Dense)             (None, 256)               131328    \n",
            "                                                                 \n",
            " dropout_3 (Dropout)         (None, 256)               0         \n",
            "                                                                 \n",
            " dense_4 (Dense)             (None, 2)                 514       \n",
            "                                                                 \n",
            "=================================================================\n",
            "Total params: 28753954 (109.69 MB)\n",
            "Trainable params: 6951170 (26.52 MB)\n",
            "Non-trainable params: 21802784 (83.17 MB)\n",
            "_________________________________________________________________\n"
          ]
        }
      ]
    },
    {
      "cell_type": "code",
      "source": [
        "from sklearn.metrics import classification_report\n",
        "\n",
        "# 创建测试数据生成器并进行预处理\n",
        "test_datagen = ImageDataGenerator(\n",
        "    rescale=1 / 255,  # 像素值缩放到 [0,1] 范围内\n",
        "    shear_range=0.3,  # 随机剪切变换的角度范围\n",
        "    zoom_range=0.35,  # 随机缩放变换的范围\n",
        "    rotation_range=50,  # 随机旋转的角度范围\n",
        "    brightness_range=(0.2, 1.9),  # 随机调整亮度\n",
        "    width_shift_range=0.2,  # 水平位移范围\n",
        "    height_shift_range=0.2,  # 垂直位移范围\n",
        "    channel_shift_range=0.25,  # 随机通道移动\n",
        ")\n",
        "\n",
        "# 从目录加载测试数据并应用数据生成器\n",
        "test_data = test_datagen.flow_from_directory(\n",
        "  \"./data/val\",\n",
        "  target_size=(299, 299),\n",
        "  class_mode='sparse',\n",
        "  shuffle=False,  # 不需要打乱样本顺序，因为我们要计算评估指标\n",
        "  seed=1,\n",
        "  classes=class_indices.keys()  # 加载自定义的类别编号映射\n",
        ")\n",
        "\n",
        "# 预测测试集\n",
        "y_true = test_data.classes\n",
        "y_pred_prob = model.predict(test_data)\n",
        "y_pred = np.argmax(y_pred_prob,axis=1)\n",
        "\n",
        "# 计算评估指标\n",
        "accuracy = tf.reduce_mean(tf.cast(tf.equal(y_true, y_pred), dtype=tf.float32))\n",
        "\n",
        "# 计算分类报告\n",
        "classification_rep = classification_report(y_true, y_pred, target_names=class_indices.keys())\n",
        "\n",
        "print(f'Accuracy: {accuracy.numpy()}')\n",
        "print(f'Classification Report:\\n{classification_rep}')"
      ],
      "metadata": {
        "colab": {
          "base_uri": "https://localhost:8080/"
        },
        "id": "58Srd2Y1X2aV",
        "outputId": "d4200328-a640-4710-e800-13533471524a"
      },
      "execution_count": 34,
      "outputs": [
        {
          "output_type": "stream",
          "name": "stdout",
          "text": [
            "Found 160 images belonging to 2 classes.\n",
            "5/5 [==============================] - 11s 2s/step\n",
            "Accuracy: 0.9125000238418579\n",
            "Classification Report:\n",
            "              precision    recall  f1-score   support\n",
            "\n",
            "      normal       0.93      0.89      0.91        80\n",
            "    potholes       0.89      0.94      0.91        80\n",
            "\n",
            "    accuracy                           0.91       160\n",
            "   macro avg       0.91      0.91      0.91       160\n",
            "weighted avg       0.91      0.91      0.91       160\n",
            "\n"
          ]
        }
      ]
    },
    {
      "cell_type": "code",
      "source": [
        "from sklearn.metrics import confusion_matrix\n",
        "import seaborn as sns\n",
        "import matplotlib.pyplot as plt\n",
        "\n",
        "# 计算混淆矩阵\n",
        "conf_mat = confusion_matrix(y_true, y_pred)\n",
        "\n",
        "# 绘制混淆矩阵\n",
        "plt.figure(figsize=(8, 6))\n",
        "sns.heatmap(conf_mat, annot=True, fmt='d', cmap='Blues',\n",
        "            xticklabels=class_indices.keys(),\n",
        "            yticklabels=class_indices.keys())\n",
        "plt.xlabel('Predicted')\n",
        "plt.ylabel('Actual')\n",
        "plt.title('Confusion Matrix')\n",
        "plt.show()\n"
      ],
      "metadata": {
        "colab": {
          "base_uri": "https://localhost:8080/",
          "height": 543
        },
        "id": "3jcEzhg4uqEF",
        "outputId": "3eb83bd0-ed60-44cf-ad27-997690c11950"
      },
      "execution_count": 33,
      "outputs": [
        {
          "output_type": "display_data",
          "data": {
            "text/plain": [
              "<Figure size 800x600 with 2 Axes>"
            ],
            "image/svg+xml": "<?xml version=\"1.0\" encoding=\"utf-8\" standalone=\"no\"?>\n<!DOCTYPE svg PUBLIC \"-//W3C//DTD SVG 1.1//EN\"\n  \"http://www.w3.org/Graphics/SVG/1.1/DTD/svg11.dtd\">\n<svg xmlns:xlink=\"http://www.w3.org/1999/xlink\" width=\"460.55325pt\" height=\"392.514375pt\" viewBox=\"0 0 460.55325 392.514375\" xmlns=\"http://www.w3.org/2000/svg\" version=\"1.1\">\n <metadata>\n  <rdf:RDF xmlns:dc=\"http://purl.org/dc/elements/1.1/\" xmlns:cc=\"http://creativecommons.org/ns#\" xmlns:rdf=\"http://www.w3.org/1999/02/22-rdf-syntax-ns#\">\n   <cc:Work>\n    <dc:type rdf:resource=\"http://purl.org/dc/dcmitype/StillImage\"/>\n    <dc:date>2023-11-03T10:37:01.323336</dc:date>\n    <dc:format>image/svg+xml</dc:format>\n    <dc:creator>\n     <cc:Agent>\n      <dc:title>Matplotlib v3.7.1, https://matplotlib.org/</dc:title>\n     </cc:Agent>\n    </dc:creator>\n   </cc:Work>\n  </rdf:RDF>\n </metadata>\n <defs>\n  <style type=\"text/css\">*{stroke-linejoin: round; stroke-linecap: butt}</style>\n </defs>\n <g id=\"figure_1\">\n  <g id=\"patch_1\">\n   <path d=\"M 0 392.514375 \nL 460.55325 392.514375 \nL 460.55325 0 \nL 0 0 \nz\n\" style=\"fill: #ffffff\"/>\n  </g>\n  <g id=\"axes_1\">\n   <g id=\"patch_2\">\n    <path d=\"M 37.55625 354.958125 \nL 394.67625 354.958125 \nL 394.67625 22.318125 \nL 37.55625 22.318125 \nz\n\" style=\"fill: #ffffff\"/>\n   </g>\n   <g id=\"matplotlib.axis_1\">\n    <g id=\"xtick_1\">\n     <g id=\"line2d_1\">\n      <path d=\"M 126.83625 354.958125 \nL 126.83625 22.318125 \n\" clip-path=\"url(#p60ca0f3e5a)\" style=\"fill: none; stroke: #cccccc; stroke-width: 0.8; stroke-linecap: round\"/>\n     </g>\n     <g id=\"text_1\">\n      <!-- normal -->\n      <g style=\"fill: #262626\" transform=\"translate(109.316719 369.556562) scale(0.1 -0.1)\">\n       <defs>\n        <path id=\"DejaVuSans-6e\" d=\"M 3513 2113 \nL 3513 0 \nL 2938 0 \nL 2938 2094 \nQ 2938 2591 2744 2837 \nQ 2550 3084 2163 3084 \nQ 1697 3084 1428 2787 \nQ 1159 2491 1159 1978 \nL 1159 0 \nL 581 0 \nL 581 3500 \nL 1159 3500 \nL 1159 2956 \nQ 1366 3272 1645 3428 \nQ 1925 3584 2291 3584 \nQ 2894 3584 3203 3211 \nQ 3513 2838 3513 2113 \nz\n\" transform=\"scale(0.015625)\"/>\n        <path id=\"DejaVuSans-6f\" d=\"M 1959 3097 \nQ 1497 3097 1228 2736 \nQ 959 2375 959 1747 \nQ 959 1119 1226 758 \nQ 1494 397 1959 397 \nQ 2419 397 2687 759 \nQ 2956 1122 2956 1747 \nQ 2956 2369 2687 2733 \nQ 2419 3097 1959 3097 \nz\nM 1959 3584 \nQ 2709 3584 3137 3096 \nQ 3566 2609 3566 1747 \nQ 3566 888 3137 398 \nQ 2709 -91 1959 -91 \nQ 1206 -91 779 398 \nQ 353 888 353 1747 \nQ 353 2609 779 3096 \nQ 1206 3584 1959 3584 \nz\n\" transform=\"scale(0.015625)\"/>\n        <path id=\"DejaVuSans-72\" d=\"M 2631 2963 \nQ 2534 3019 2420 3045 \nQ 2306 3072 2169 3072 \nQ 1681 3072 1420 2755 \nQ 1159 2438 1159 1844 \nL 1159 0 \nL 581 0 \nL 581 3500 \nL 1159 3500 \nL 1159 2956 \nQ 1341 3275 1631 3429 \nQ 1922 3584 2338 3584 \nQ 2397 3584 2469 3576 \nQ 2541 3569 2628 3553 \nL 2631 2963 \nz\n\" transform=\"scale(0.015625)\"/>\n        <path id=\"DejaVuSans-6d\" d=\"M 3328 2828 \nQ 3544 3216 3844 3400 \nQ 4144 3584 4550 3584 \nQ 5097 3584 5394 3201 \nQ 5691 2819 5691 2113 \nL 5691 0 \nL 5113 0 \nL 5113 2094 \nQ 5113 2597 4934 2840 \nQ 4756 3084 4391 3084 \nQ 3944 3084 3684 2787 \nQ 3425 2491 3425 1978 \nL 3425 0 \nL 2847 0 \nL 2847 2094 \nQ 2847 2600 2669 2842 \nQ 2491 3084 2119 3084 \nQ 1678 3084 1418 2786 \nQ 1159 2488 1159 1978 \nL 1159 0 \nL 581 0 \nL 581 3500 \nL 1159 3500 \nL 1159 2956 \nQ 1356 3278 1631 3431 \nQ 1906 3584 2284 3584 \nQ 2666 3584 2933 3390 \nQ 3200 3197 3328 2828 \nz\n\" transform=\"scale(0.015625)\"/>\n        <path id=\"DejaVuSans-61\" d=\"M 2194 1759 \nQ 1497 1759 1228 1600 \nQ 959 1441 959 1056 \nQ 959 750 1161 570 \nQ 1363 391 1709 391 \nQ 2188 391 2477 730 \nQ 2766 1069 2766 1631 \nL 2766 1759 \nL 2194 1759 \nz\nM 3341 1997 \nL 3341 0 \nL 2766 0 \nL 2766 531 \nQ 2569 213 2275 61 \nQ 1981 -91 1556 -91 \nQ 1019 -91 701 211 \nQ 384 513 384 1019 \nQ 384 1609 779 1909 \nQ 1175 2209 1959 2209 \nL 2766 2209 \nL 2766 2266 \nQ 2766 2663 2505 2880 \nQ 2244 3097 1772 3097 \nQ 1472 3097 1187 3025 \nQ 903 2953 641 2809 \nL 641 3341 \nQ 956 3463 1253 3523 \nQ 1550 3584 1831 3584 \nQ 2591 3584 2966 3190 \nQ 3341 2797 3341 1997 \nz\n\" transform=\"scale(0.015625)\"/>\n        <path id=\"DejaVuSans-6c\" d=\"M 603 4863 \nL 1178 4863 \nL 1178 0 \nL 603 0 \nL 603 4863 \nz\n\" transform=\"scale(0.015625)\"/>\n       </defs>\n       <use xlink:href=\"#DejaVuSans-6e\"/>\n       <use xlink:href=\"#DejaVuSans-6f\" x=\"63.378906\"/>\n       <use xlink:href=\"#DejaVuSans-72\" x=\"124.560547\"/>\n       <use xlink:href=\"#DejaVuSans-6d\" x=\"163.923828\"/>\n       <use xlink:href=\"#DejaVuSans-61\" x=\"261.335938\"/>\n       <use xlink:href=\"#DejaVuSans-6c\" x=\"322.615234\"/>\n      </g>\n     </g>\n    </g>\n    <g id=\"xtick_2\">\n     <g id=\"line2d_2\">\n      <path d=\"M 305.39625 354.958125 \nL 305.39625 22.318125 \n\" clip-path=\"url(#p60ca0f3e5a)\" style=\"fill: none; stroke: #cccccc; stroke-width: 0.8; stroke-linecap: round\"/>\n     </g>\n     <g id=\"text_2\">\n      <!-- potholes -->\n      <g style=\"fill: #262626\" transform=\"translate(283.904063 369.556562) scale(0.1 -0.1)\">\n       <defs>\n        <path id=\"DejaVuSans-70\" d=\"M 1159 525 \nL 1159 -1331 \nL 581 -1331 \nL 581 3500 \nL 1159 3500 \nL 1159 2969 \nQ 1341 3281 1617 3432 \nQ 1894 3584 2278 3584 \nQ 2916 3584 3314 3078 \nQ 3713 2572 3713 1747 \nQ 3713 922 3314 415 \nQ 2916 -91 2278 -91 \nQ 1894 -91 1617 61 \nQ 1341 213 1159 525 \nz\nM 3116 1747 \nQ 3116 2381 2855 2742 \nQ 2594 3103 2138 3103 \nQ 1681 3103 1420 2742 \nQ 1159 2381 1159 1747 \nQ 1159 1113 1420 752 \nQ 1681 391 2138 391 \nQ 2594 391 2855 752 \nQ 3116 1113 3116 1747 \nz\n\" transform=\"scale(0.015625)\"/>\n        <path id=\"DejaVuSans-74\" d=\"M 1172 4494 \nL 1172 3500 \nL 2356 3500 \nL 2356 3053 \nL 1172 3053 \nL 1172 1153 \nQ 1172 725 1289 603 \nQ 1406 481 1766 481 \nL 2356 481 \nL 2356 0 \nL 1766 0 \nQ 1100 0 847 248 \nQ 594 497 594 1153 \nL 594 3053 \nL 172 3053 \nL 172 3500 \nL 594 3500 \nL 594 4494 \nL 1172 4494 \nz\n\" transform=\"scale(0.015625)\"/>\n        <path id=\"DejaVuSans-68\" d=\"M 3513 2113 \nL 3513 0 \nL 2938 0 \nL 2938 2094 \nQ 2938 2591 2744 2837 \nQ 2550 3084 2163 3084 \nQ 1697 3084 1428 2787 \nQ 1159 2491 1159 1978 \nL 1159 0 \nL 581 0 \nL 581 4863 \nL 1159 4863 \nL 1159 2956 \nQ 1366 3272 1645 3428 \nQ 1925 3584 2291 3584 \nQ 2894 3584 3203 3211 \nQ 3513 2838 3513 2113 \nz\n\" transform=\"scale(0.015625)\"/>\n        <path id=\"DejaVuSans-65\" d=\"M 3597 1894 \nL 3597 1613 \nL 953 1613 \nQ 991 1019 1311 708 \nQ 1631 397 2203 397 \nQ 2534 397 2845 478 \nQ 3156 559 3463 722 \nL 3463 178 \nQ 3153 47 2828 -22 \nQ 2503 -91 2169 -91 \nQ 1331 -91 842 396 \nQ 353 884 353 1716 \nQ 353 2575 817 3079 \nQ 1281 3584 2069 3584 \nQ 2775 3584 3186 3129 \nQ 3597 2675 3597 1894 \nz\nM 3022 2063 \nQ 3016 2534 2758 2815 \nQ 2500 3097 2075 3097 \nQ 1594 3097 1305 2825 \nQ 1016 2553 972 2059 \nL 3022 2063 \nz\n\" transform=\"scale(0.015625)\"/>\n        <path id=\"DejaVuSans-73\" d=\"M 2834 3397 \nL 2834 2853 \nQ 2591 2978 2328 3040 \nQ 2066 3103 1784 3103 \nQ 1356 3103 1142 2972 \nQ 928 2841 928 2578 \nQ 928 2378 1081 2264 \nQ 1234 2150 1697 2047 \nL 1894 2003 \nQ 2506 1872 2764 1633 \nQ 3022 1394 3022 966 \nQ 3022 478 2636 193 \nQ 2250 -91 1575 -91 \nQ 1294 -91 989 -36 \nQ 684 19 347 128 \nL 347 722 \nQ 666 556 975 473 \nQ 1284 391 1588 391 \nQ 1994 391 2212 530 \nQ 2431 669 2431 922 \nQ 2431 1156 2273 1281 \nQ 2116 1406 1581 1522 \nL 1381 1569 \nQ 847 1681 609 1914 \nQ 372 2147 372 2553 \nQ 372 3047 722 3315 \nQ 1072 3584 1716 3584 \nQ 2034 3584 2315 3537 \nQ 2597 3491 2834 3397 \nz\n\" transform=\"scale(0.015625)\"/>\n       </defs>\n       <use xlink:href=\"#DejaVuSans-70\"/>\n       <use xlink:href=\"#DejaVuSans-6f\" x=\"63.476562\"/>\n       <use xlink:href=\"#DejaVuSans-74\" x=\"124.658203\"/>\n       <use xlink:href=\"#DejaVuSans-68\" x=\"163.867188\"/>\n       <use xlink:href=\"#DejaVuSans-6f\" x=\"227.246094\"/>\n       <use xlink:href=\"#DejaVuSans-6c\" x=\"288.427734\"/>\n       <use xlink:href=\"#DejaVuSans-65\" x=\"316.210938\"/>\n       <use xlink:href=\"#DejaVuSans-73\" x=\"377.734375\"/>\n      </g>\n     </g>\n    </g>\n    <g id=\"text_3\">\n     <!-- Predicted -->\n     <g style=\"fill: #262626\" transform=\"translate(192.645938 383.234687) scale(0.1 -0.1)\">\n      <defs>\n       <path id=\"DejaVuSans-50\" d=\"M 1259 4147 \nL 1259 2394 \nL 2053 2394 \nQ 2494 2394 2734 2622 \nQ 2975 2850 2975 3272 \nQ 2975 3691 2734 3919 \nQ 2494 4147 2053 4147 \nL 1259 4147 \nz\nM 628 4666 \nL 2053 4666 \nQ 2838 4666 3239 4311 \nQ 3641 3956 3641 3272 \nQ 3641 2581 3239 2228 \nQ 2838 1875 2053 1875 \nL 1259 1875 \nL 1259 0 \nL 628 0 \nL 628 4666 \nz\n\" transform=\"scale(0.015625)\"/>\n       <path id=\"DejaVuSans-64\" d=\"M 2906 2969 \nL 2906 4863 \nL 3481 4863 \nL 3481 0 \nL 2906 0 \nL 2906 525 \nQ 2725 213 2448 61 \nQ 2172 -91 1784 -91 \nQ 1150 -91 751 415 \nQ 353 922 353 1747 \nQ 353 2572 751 3078 \nQ 1150 3584 1784 3584 \nQ 2172 3584 2448 3432 \nQ 2725 3281 2906 2969 \nz\nM 947 1747 \nQ 947 1113 1208 752 \nQ 1469 391 1925 391 \nQ 2381 391 2643 752 \nQ 2906 1113 2906 1747 \nQ 2906 2381 2643 2742 \nQ 2381 3103 1925 3103 \nQ 1469 3103 1208 2742 \nQ 947 2381 947 1747 \nz\n\" transform=\"scale(0.015625)\"/>\n       <path id=\"DejaVuSans-69\" d=\"M 603 3500 \nL 1178 3500 \nL 1178 0 \nL 603 0 \nL 603 3500 \nz\nM 603 4863 \nL 1178 4863 \nL 1178 4134 \nL 603 4134 \nL 603 4863 \nz\n\" transform=\"scale(0.015625)\"/>\n       <path id=\"DejaVuSans-63\" d=\"M 3122 3366 \nL 3122 2828 \nQ 2878 2963 2633 3030 \nQ 2388 3097 2138 3097 \nQ 1578 3097 1268 2742 \nQ 959 2388 959 1747 \nQ 959 1106 1268 751 \nQ 1578 397 2138 397 \nQ 2388 397 2633 464 \nQ 2878 531 3122 666 \nL 3122 134 \nQ 2881 22 2623 -34 \nQ 2366 -91 2075 -91 \nQ 1284 -91 818 406 \nQ 353 903 353 1747 \nQ 353 2603 823 3093 \nQ 1294 3584 2113 3584 \nQ 2378 3584 2631 3529 \nQ 2884 3475 3122 3366 \nz\n\" transform=\"scale(0.015625)\"/>\n      </defs>\n      <use xlink:href=\"#DejaVuSans-50\"/>\n      <use xlink:href=\"#DejaVuSans-72\" x=\"58.552734\"/>\n      <use xlink:href=\"#DejaVuSans-65\" x=\"97.416016\"/>\n      <use xlink:href=\"#DejaVuSans-64\" x=\"158.939453\"/>\n      <use xlink:href=\"#DejaVuSans-69\" x=\"222.416016\"/>\n      <use xlink:href=\"#DejaVuSans-63\" x=\"250.199219\"/>\n      <use xlink:href=\"#DejaVuSans-74\" x=\"305.179688\"/>\n      <use xlink:href=\"#DejaVuSans-65\" x=\"344.388672\"/>\n      <use xlink:href=\"#DejaVuSans-64\" x=\"405.912109\"/>\n     </g>\n    </g>\n   </g>\n   <g id=\"matplotlib.axis_2\">\n    <g id=\"ytick_1\">\n     <g id=\"line2d_3\">\n      <path d=\"M 37.55625 105.478125 \nL 394.67625 105.478125 \n\" clip-path=\"url(#p60ca0f3e5a)\" style=\"fill: none; stroke: #cccccc; stroke-width: 0.8; stroke-linecap: round\"/>\n     </g>\n     <g id=\"text_4\">\n      <!-- normal -->\n      <g style=\"fill: #262626\" transform=\"translate(28.476563 122.997656) rotate(-90) scale(0.1 -0.1)\">\n       <use xlink:href=\"#DejaVuSans-6e\"/>\n       <use xlink:href=\"#DejaVuSans-6f\" x=\"63.378906\"/>\n       <use xlink:href=\"#DejaVuSans-72\" x=\"124.560547\"/>\n       <use xlink:href=\"#DejaVuSans-6d\" x=\"163.923828\"/>\n       <use xlink:href=\"#DejaVuSans-61\" x=\"261.335938\"/>\n       <use xlink:href=\"#DejaVuSans-6c\" x=\"322.615234\"/>\n      </g>\n     </g>\n    </g>\n    <g id=\"ytick_2\">\n     <g id=\"line2d_4\">\n      <path d=\"M 37.55625 271.798125 \nL 394.67625 271.798125 \n\" clip-path=\"url(#p60ca0f3e5a)\" style=\"fill: none; stroke: #cccccc; stroke-width: 0.8; stroke-linecap: round\"/>\n     </g>\n     <g id=\"text_5\">\n      <!-- potholes -->\n      <g style=\"fill: #262626\" transform=\"translate(28.476563 293.290313) rotate(-90) scale(0.1 -0.1)\">\n       <use xlink:href=\"#DejaVuSans-70\"/>\n       <use xlink:href=\"#DejaVuSans-6f\" x=\"63.476562\"/>\n       <use xlink:href=\"#DejaVuSans-74\" x=\"124.658203\"/>\n       <use xlink:href=\"#DejaVuSans-68\" x=\"163.867188\"/>\n       <use xlink:href=\"#DejaVuSans-6f\" x=\"227.246094\"/>\n       <use xlink:href=\"#DejaVuSans-6c\" x=\"288.427734\"/>\n       <use xlink:href=\"#DejaVuSans-65\" x=\"316.210938\"/>\n       <use xlink:href=\"#DejaVuSans-73\" x=\"377.734375\"/>\n      </g>\n     </g>\n    </g>\n    <g id=\"text_6\">\n     <!-- Actual -->\n     <g style=\"fill: #262626\" transform=\"translate(14.798438 204.302187) rotate(-90) scale(0.1 -0.1)\">\n      <defs>\n       <path id=\"DejaVuSans-41\" d=\"M 2188 4044 \nL 1331 1722 \nL 3047 1722 \nL 2188 4044 \nz\nM 1831 4666 \nL 2547 4666 \nL 4325 0 \nL 3669 0 \nL 3244 1197 \nL 1141 1197 \nL 716 0 \nL 50 0 \nL 1831 4666 \nz\n\" transform=\"scale(0.015625)\"/>\n       <path id=\"DejaVuSans-75\" d=\"M 544 1381 \nL 544 3500 \nL 1119 3500 \nL 1119 1403 \nQ 1119 906 1312 657 \nQ 1506 409 1894 409 \nQ 2359 409 2629 706 \nQ 2900 1003 2900 1516 \nL 2900 3500 \nL 3475 3500 \nL 3475 0 \nL 2900 0 \nL 2900 538 \nQ 2691 219 2414 64 \nQ 2138 -91 1772 -91 \nQ 1169 -91 856 284 \nQ 544 659 544 1381 \nz\nM 1991 3584 \nL 1991 3584 \nz\n\" transform=\"scale(0.015625)\"/>\n      </defs>\n      <use xlink:href=\"#DejaVuSans-41\"/>\n      <use xlink:href=\"#DejaVuSans-63\" x=\"66.658203\"/>\n      <use xlink:href=\"#DejaVuSans-74\" x=\"121.638672\"/>\n      <use xlink:href=\"#DejaVuSans-75\" x=\"160.847656\"/>\n      <use xlink:href=\"#DejaVuSans-61\" x=\"224.226562\"/>\n      <use xlink:href=\"#DejaVuSans-6c\" x=\"285.505859\"/>\n     </g>\n    </g>\n   </g>\n   <g id=\"QuadMesh_1\">\n    <path d=\"M 37.55625 22.318125 \nL 216.11625 22.318125 \nL 216.11625 188.638125 \nL 37.55625 188.638125 \nL 37.55625 22.318125 \n\" clip-path=\"url(#p60ca0f3e5a)\" style=\"fill: #083e81\"/>\n    <path d=\"M 216.11625 22.318125 \nL 394.67625 22.318125 \nL 394.67625 188.638125 \nL 216.11625 188.638125 \nL 216.11625 22.318125 \n\" clip-path=\"url(#p60ca0f3e5a)\" style=\"fill: #ecf4fb\"/>\n    <path d=\"M 37.55625 188.638125 \nL 216.11625 188.638125 \nL 216.11625 354.958125 \nL 37.55625 354.958125 \nL 37.55625 188.638125 \n\" clip-path=\"url(#p60ca0f3e5a)\" style=\"fill: #f7fbff\"/>\n    <path d=\"M 216.11625 188.638125 \nL 394.67625 188.638125 \nL 394.67625 354.958125 \nL 216.11625 354.958125 \nL 216.11625 188.638125 \n\" clip-path=\"url(#p60ca0f3e5a)\" style=\"fill: #08306b\"/>\n   </g>\n   <g id=\"text_7\">\n    <!-- 71 -->\n    <g style=\"fill: #ffffff\" transform=\"translate(120.47375 108.2375) scale(0.1 -0.1)\">\n     <defs>\n      <path id=\"DejaVuSans-37\" d=\"M 525 4666 \nL 3525 4666 \nL 3525 4397 \nL 1831 0 \nL 1172 0 \nL 2766 4134 \nL 525 4134 \nL 525 4666 \nz\n\" transform=\"scale(0.015625)\"/>\n      <path id=\"DejaVuSans-31\" d=\"M 794 531 \nL 1825 531 \nL 1825 4091 \nL 703 3866 \nL 703 4441 \nL 1819 4666 \nL 2450 4666 \nL 2450 531 \nL 3481 531 \nL 3481 0 \nL 794 0 \nL 794 531 \nz\n\" transform=\"scale(0.015625)\"/>\n     </defs>\n     <use xlink:href=\"#DejaVuSans-37\"/>\n     <use xlink:href=\"#DejaVuSans-31\" x=\"63.623047\"/>\n    </g>\n   </g>\n   <g id=\"text_8\">\n    <!-- 9 -->\n    <g style=\"fill: #262626\" transform=\"translate(302.215 108.2375) scale(0.1 -0.1)\">\n     <defs>\n      <path id=\"DejaVuSans-39\" d=\"M 703 97 \nL 703 672 \nQ 941 559 1184 500 \nQ 1428 441 1663 441 \nQ 2288 441 2617 861 \nQ 2947 1281 2994 2138 \nQ 2813 1869 2534 1725 \nQ 2256 1581 1919 1581 \nQ 1219 1581 811 2004 \nQ 403 2428 403 3163 \nQ 403 3881 828 4315 \nQ 1253 4750 1959 4750 \nQ 2769 4750 3195 4129 \nQ 3622 3509 3622 2328 \nQ 3622 1225 3098 567 \nQ 2575 -91 1691 -91 \nQ 1453 -91 1209 -44 \nQ 966 3 703 97 \nz\nM 1959 2075 \nQ 2384 2075 2632 2365 \nQ 2881 2656 2881 3163 \nQ 2881 3666 2632 3958 \nQ 2384 4250 1959 4250 \nQ 1534 4250 1286 3958 \nQ 1038 3666 1038 3163 \nQ 1038 2656 1286 2365 \nQ 1534 2075 1959 2075 \nz\n\" transform=\"scale(0.015625)\"/>\n     </defs>\n     <use xlink:href=\"#DejaVuSans-39\"/>\n    </g>\n   </g>\n   <g id=\"text_9\">\n    <!-- 5 -->\n    <g style=\"fill: #262626\" transform=\"translate(123.655 274.5575) scale(0.1 -0.1)\">\n     <defs>\n      <path id=\"DejaVuSans-35\" d=\"M 691 4666 \nL 3169 4666 \nL 3169 4134 \nL 1269 4134 \nL 1269 2991 \nQ 1406 3038 1543 3061 \nQ 1681 3084 1819 3084 \nQ 2600 3084 3056 2656 \nQ 3513 2228 3513 1497 \nQ 3513 744 3044 326 \nQ 2575 -91 1722 -91 \nQ 1428 -91 1123 -41 \nQ 819 9 494 109 \nL 494 744 \nQ 775 591 1075 516 \nQ 1375 441 1709 441 \nQ 2250 441 2565 725 \nQ 2881 1009 2881 1497 \nQ 2881 1984 2565 2268 \nQ 2250 2553 1709 2553 \nQ 1456 2553 1204 2497 \nQ 953 2441 691 2322 \nL 691 4666 \nz\n\" transform=\"scale(0.015625)\"/>\n     </defs>\n     <use xlink:href=\"#DejaVuSans-35\"/>\n    </g>\n   </g>\n   <g id=\"text_10\">\n    <!-- 75 -->\n    <g style=\"fill: #ffffff\" transform=\"translate(299.03375 274.5575) scale(0.1 -0.1)\">\n     <use xlink:href=\"#DejaVuSans-37\"/>\n     <use xlink:href=\"#DejaVuSans-35\" x=\"63.623047\"/>\n    </g>\n   </g>\n   <g id=\"text_11\">\n    <!-- Confusion Matrix -->\n    <g style=\"fill: #262626\" transform=\"translate(165.474375 16.318125) scale(0.12 -0.12)\">\n     <defs>\n      <path id=\"DejaVuSans-43\" d=\"M 4122 4306 \nL 4122 3641 \nQ 3803 3938 3442 4084 \nQ 3081 4231 2675 4231 \nQ 1875 4231 1450 3742 \nQ 1025 3253 1025 2328 \nQ 1025 1406 1450 917 \nQ 1875 428 2675 428 \nQ 3081 428 3442 575 \nQ 3803 722 4122 1019 \nL 4122 359 \nQ 3791 134 3420 21 \nQ 3050 -91 2638 -91 \nQ 1578 -91 968 557 \nQ 359 1206 359 2328 \nQ 359 3453 968 4101 \nQ 1578 4750 2638 4750 \nQ 3056 4750 3426 4639 \nQ 3797 4528 4122 4306 \nz\n\" transform=\"scale(0.015625)\"/>\n      <path id=\"DejaVuSans-66\" d=\"M 2375 4863 \nL 2375 4384 \nL 1825 4384 \nQ 1516 4384 1395 4259 \nQ 1275 4134 1275 3809 \nL 1275 3500 \nL 2222 3500 \nL 2222 3053 \nL 1275 3053 \nL 1275 0 \nL 697 0 \nL 697 3053 \nL 147 3053 \nL 147 3500 \nL 697 3500 \nL 697 3744 \nQ 697 4328 969 4595 \nQ 1241 4863 1831 4863 \nL 2375 4863 \nz\n\" transform=\"scale(0.015625)\"/>\n      <path id=\"DejaVuSans-20\" transform=\"scale(0.015625)\"/>\n      <path id=\"DejaVuSans-4d\" d=\"M 628 4666 \nL 1569 4666 \nL 2759 1491 \nL 3956 4666 \nL 4897 4666 \nL 4897 0 \nL 4281 0 \nL 4281 4097 \nL 3078 897 \nL 2444 897 \nL 1241 4097 \nL 1241 0 \nL 628 0 \nL 628 4666 \nz\n\" transform=\"scale(0.015625)\"/>\n      <path id=\"DejaVuSans-78\" d=\"M 3513 3500 \nL 2247 1797 \nL 3578 0 \nL 2900 0 \nL 1881 1375 \nL 863 0 \nL 184 0 \nL 1544 1831 \nL 300 3500 \nL 978 3500 \nL 1906 2253 \nL 2834 3500 \nL 3513 3500 \nz\n\" transform=\"scale(0.015625)\"/>\n     </defs>\n     <use xlink:href=\"#DejaVuSans-43\"/>\n     <use xlink:href=\"#DejaVuSans-6f\" x=\"69.824219\"/>\n     <use xlink:href=\"#DejaVuSans-6e\" x=\"131.005859\"/>\n     <use xlink:href=\"#DejaVuSans-66\" x=\"194.384766\"/>\n     <use xlink:href=\"#DejaVuSans-75\" x=\"229.589844\"/>\n     <use xlink:href=\"#DejaVuSans-73\" x=\"292.96875\"/>\n     <use xlink:href=\"#DejaVuSans-69\" x=\"345.068359\"/>\n     <use xlink:href=\"#DejaVuSans-6f\" x=\"372.851562\"/>\n     <use xlink:href=\"#DejaVuSans-6e\" x=\"434.033203\"/>\n     <use xlink:href=\"#DejaVuSans-20\" x=\"497.412109\"/>\n     <use xlink:href=\"#DejaVuSans-4d\" x=\"529.199219\"/>\n     <use xlink:href=\"#DejaVuSans-61\" x=\"615.478516\"/>\n     <use xlink:href=\"#DejaVuSans-74\" x=\"676.757812\"/>\n     <use xlink:href=\"#DejaVuSans-72\" x=\"715.966797\"/>\n     <use xlink:href=\"#DejaVuSans-69\" x=\"757.080078\"/>\n     <use xlink:href=\"#DejaVuSans-78\" x=\"784.863281\"/>\n    </g>\n   </g>\n  </g>\n  <g id=\"axes_2\">\n   <g id=\"patch_3\">\n    <path d=\"M 416.99625 354.958125 \nL 433.62825 354.958125 \nL 433.62825 22.318125 \nL 416.99625 22.318125 \nz\n\" style=\"fill: #ffffff\"/>\n   </g>\n   <g id=\"matplotlib.axis_3\"/>\n   <g id=\"matplotlib.axis_4\">\n    <g id=\"ytick_3\">\n     <g id=\"line2d_5\">\n      <defs>\n       <path id=\"med41ad06e3\" d=\"M 0 0 \nL 3.5 0 \n\" style=\"stroke: #262626; stroke-width: 0.8\"/>\n      </defs>\n      <g>\n       <use xlink:href=\"#med41ad06e3\" x=\"433.62825\" y=\"331.198125\" style=\"fill: #262626; stroke: #262626; stroke-width: 0.8\"/>\n      </g>\n     </g>\n     <g id=\"text_12\">\n      <!-- 10 -->\n      <g style=\"fill: #262626\" transform=\"translate(440.62825 334.997344) scale(0.1 -0.1)\">\n       <defs>\n        <path id=\"DejaVuSans-30\" d=\"M 2034 4250 \nQ 1547 4250 1301 3770 \nQ 1056 3291 1056 2328 \nQ 1056 1369 1301 889 \nQ 1547 409 2034 409 \nQ 2525 409 2770 889 \nQ 3016 1369 3016 2328 \nQ 3016 3291 2770 3770 \nQ 2525 4250 2034 4250 \nz\nM 2034 4750 \nQ 2819 4750 3233 4129 \nQ 3647 3509 3647 2328 \nQ 3647 1150 3233 529 \nQ 2819 -91 2034 -91 \nQ 1250 -91 836 529 \nQ 422 1150 422 2328 \nQ 422 3509 836 4129 \nQ 1250 4750 2034 4750 \nz\n\" transform=\"scale(0.015625)\"/>\n       </defs>\n       <use xlink:href=\"#DejaVuSans-31\"/>\n       <use xlink:href=\"#DejaVuSans-30\" x=\"63.623047\"/>\n      </g>\n     </g>\n    </g>\n    <g id=\"ytick_4\">\n     <g id=\"line2d_6\">\n      <g>\n       <use xlink:href=\"#med41ad06e3\" x=\"433.62825\" y=\"283.678125\" style=\"fill: #262626; stroke: #262626; stroke-width: 0.8\"/>\n      </g>\n     </g>\n     <g id=\"text_13\">\n      <!-- 20 -->\n      <g style=\"fill: #262626\" transform=\"translate(440.62825 287.477344) scale(0.1 -0.1)\">\n       <defs>\n        <path id=\"DejaVuSans-32\" d=\"M 1228 531 \nL 3431 531 \nL 3431 0 \nL 469 0 \nL 469 531 \nQ 828 903 1448 1529 \nQ 2069 2156 2228 2338 \nQ 2531 2678 2651 2914 \nQ 2772 3150 2772 3378 \nQ 2772 3750 2511 3984 \nQ 2250 4219 1831 4219 \nQ 1534 4219 1204 4116 \nQ 875 4013 500 3803 \nL 500 4441 \nQ 881 4594 1212 4672 \nQ 1544 4750 1819 4750 \nQ 2544 4750 2975 4387 \nQ 3406 4025 3406 3419 \nQ 3406 3131 3298 2873 \nQ 3191 2616 2906 2266 \nQ 2828 2175 2409 1742 \nQ 1991 1309 1228 531 \nz\n\" transform=\"scale(0.015625)\"/>\n       </defs>\n       <use xlink:href=\"#DejaVuSans-32\"/>\n       <use xlink:href=\"#DejaVuSans-30\" x=\"63.623047\"/>\n      </g>\n     </g>\n    </g>\n    <g id=\"ytick_5\">\n     <g id=\"line2d_7\">\n      <g>\n       <use xlink:href=\"#med41ad06e3\" x=\"433.62825\" y=\"236.158125\" style=\"fill: #262626; stroke: #262626; stroke-width: 0.8\"/>\n      </g>\n     </g>\n     <g id=\"text_14\">\n      <!-- 30 -->\n      <g style=\"fill: #262626\" transform=\"translate(440.62825 239.957344) scale(0.1 -0.1)\">\n       <defs>\n        <path id=\"DejaVuSans-33\" d=\"M 2597 2516 \nQ 3050 2419 3304 2112 \nQ 3559 1806 3559 1356 \nQ 3559 666 3084 287 \nQ 2609 -91 1734 -91 \nQ 1441 -91 1130 -33 \nQ 819 25 488 141 \nL 488 750 \nQ 750 597 1062 519 \nQ 1375 441 1716 441 \nQ 2309 441 2620 675 \nQ 2931 909 2931 1356 \nQ 2931 1769 2642 2001 \nQ 2353 2234 1838 2234 \nL 1294 2234 \nL 1294 2753 \nL 1863 2753 \nQ 2328 2753 2575 2939 \nQ 2822 3125 2822 3475 \nQ 2822 3834 2567 4026 \nQ 2313 4219 1838 4219 \nQ 1578 4219 1281 4162 \nQ 984 4106 628 3988 \nL 628 4550 \nQ 988 4650 1302 4700 \nQ 1616 4750 1894 4750 \nQ 2613 4750 3031 4423 \nQ 3450 4097 3450 3541 \nQ 3450 3153 3228 2886 \nQ 3006 2619 2597 2516 \nz\n\" transform=\"scale(0.015625)\"/>\n       </defs>\n       <use xlink:href=\"#DejaVuSans-33\"/>\n       <use xlink:href=\"#DejaVuSans-30\" x=\"63.623047\"/>\n      </g>\n     </g>\n    </g>\n    <g id=\"ytick_6\">\n     <g id=\"line2d_8\">\n      <g>\n       <use xlink:href=\"#med41ad06e3\" x=\"433.62825\" y=\"188.638125\" style=\"fill: #262626; stroke: #262626; stroke-width: 0.8\"/>\n      </g>\n     </g>\n     <g id=\"text_15\">\n      <!-- 40 -->\n      <g style=\"fill: #262626\" transform=\"translate(440.62825 192.437344) scale(0.1 -0.1)\">\n       <defs>\n        <path id=\"DejaVuSans-34\" d=\"M 2419 4116 \nL 825 1625 \nL 2419 1625 \nL 2419 4116 \nz\nM 2253 4666 \nL 3047 4666 \nL 3047 1625 \nL 3713 1625 \nL 3713 1100 \nL 3047 1100 \nL 3047 0 \nL 2419 0 \nL 2419 1100 \nL 313 1100 \nL 313 1709 \nL 2253 4666 \nz\n\" transform=\"scale(0.015625)\"/>\n       </defs>\n       <use xlink:href=\"#DejaVuSans-34\"/>\n       <use xlink:href=\"#DejaVuSans-30\" x=\"63.623047\"/>\n      </g>\n     </g>\n    </g>\n    <g id=\"ytick_7\">\n     <g id=\"line2d_9\">\n      <g>\n       <use xlink:href=\"#med41ad06e3\" x=\"433.62825\" y=\"141.118125\" style=\"fill: #262626; stroke: #262626; stroke-width: 0.8\"/>\n      </g>\n     </g>\n     <g id=\"text_16\">\n      <!-- 50 -->\n      <g style=\"fill: #262626\" transform=\"translate(440.62825 144.917344) scale(0.1 -0.1)\">\n       <use xlink:href=\"#DejaVuSans-35\"/>\n       <use xlink:href=\"#DejaVuSans-30\" x=\"63.623047\"/>\n      </g>\n     </g>\n    </g>\n    <g id=\"ytick_8\">\n     <g id=\"line2d_10\">\n      <g>\n       <use xlink:href=\"#med41ad06e3\" x=\"433.62825\" y=\"93.598125\" style=\"fill: #262626; stroke: #262626; stroke-width: 0.8\"/>\n      </g>\n     </g>\n     <g id=\"text_17\">\n      <!-- 60 -->\n      <g style=\"fill: #262626\" transform=\"translate(440.62825 97.397344) scale(0.1 -0.1)\">\n       <defs>\n        <path id=\"DejaVuSans-36\" d=\"M 2113 2584 \nQ 1688 2584 1439 2293 \nQ 1191 2003 1191 1497 \nQ 1191 994 1439 701 \nQ 1688 409 2113 409 \nQ 2538 409 2786 701 \nQ 3034 994 3034 1497 \nQ 3034 2003 2786 2293 \nQ 2538 2584 2113 2584 \nz\nM 3366 4563 \nL 3366 3988 \nQ 3128 4100 2886 4159 \nQ 2644 4219 2406 4219 \nQ 1781 4219 1451 3797 \nQ 1122 3375 1075 2522 \nQ 1259 2794 1537 2939 \nQ 1816 3084 2150 3084 \nQ 2853 3084 3261 2657 \nQ 3669 2231 3669 1497 \nQ 3669 778 3244 343 \nQ 2819 -91 2113 -91 \nQ 1303 -91 875 529 \nQ 447 1150 447 2328 \nQ 447 3434 972 4092 \nQ 1497 4750 2381 4750 \nQ 2619 4750 2861 4703 \nQ 3103 4656 3366 4563 \nz\n\" transform=\"scale(0.015625)\"/>\n       </defs>\n       <use xlink:href=\"#DejaVuSans-36\"/>\n       <use xlink:href=\"#DejaVuSans-30\" x=\"63.623047\"/>\n      </g>\n     </g>\n    </g>\n    <g id=\"ytick_9\">\n     <g id=\"line2d_11\">\n      <g>\n       <use xlink:href=\"#med41ad06e3\" x=\"433.62825\" y=\"46.078125\" style=\"fill: #262626; stroke: #262626; stroke-width: 0.8\"/>\n      </g>\n     </g>\n     <g id=\"text_18\">\n      <!-- 70 -->\n      <g style=\"fill: #262626\" transform=\"translate(440.62825 49.877344) scale(0.1 -0.1)\">\n       <use xlink:href=\"#DejaVuSans-37\"/>\n       <use xlink:href=\"#DejaVuSans-30\" x=\"63.623047\"/>\n      </g>\n     </g>\n    </g>\n   </g>\n   <image xlink:href=\"data:image/png;base64,\niVBORw0KGgoAAAANSUhEUgAAABcAAAHOCAYAAABzbJLzAAACJElEQVR4nO2cQWrEMBAElbD//24OATsPcPnYgYKqBwxDq3sk2d79+vm97zPie1X4nHM+u77nnZ9d69vOh42fz7B2VmSyIrLWfFlcLIvVilrNvcWnmmdFxDsV24mQqc+zIpIVkUbuS/FdbbEs4xBlRcA7ctWyWK1o3ol2FH9kexDNikRWRBq5XDwrElkRaeS+FBfLkhWfeK3oHblZEcmKSCOXi2dFIisijVwunhWJrIg0crn4NfSiV5bij4jjf3UnArIi4rVimiPjRyLaBb1aUKAQIdsQZUWiIzTyubXXlmtZ3CtLViS8VvRq3jxH1ncia4i8mk9DZJ4tu+KFCEnzt+Kz2i0o0z0U8T4RbSoi3gX1Hoq8mpsXVDvPxZprO/duFtsX3C0oUIgQ8d1/epsTL6i2845zhLdz84IOixciRD1y24meZEXEa0XvuzmxFb1HC6/m3vhvXxMnC+Cdiu1EyPr782R5khURsebtRIT4DVdWJLyHf7EsXiu2ExHFH+kgimRFpM6RQoQUIiTNkX7DhWRFJM2RdiIkKyJ1jhQiRByia/iQK82RjnNI8UfSHNmGSPwPqC0oUOdIIUJaUKTOkXz+/8W9stQ5Uoj+v7hXlqyIiDUvRIS480JEeDtPFqQQIWLNx49ErLKce/ej/HXnaf7Eq7laFm/nheiJV/NkQbIikuZvxZPlybhz7QdLYs3FnbeHPmlwIWmOtIciWRFJc6SdCPkDls4cWKmaUb8AAAAASUVORK5CYII=\" id=\"imagef4123c4502\" transform=\"scale(1 -1) translate(0 -332.64)\" x=\"416.88\" y=\"-22.32\" width=\"16.56\" height=\"332.64\"/>\n   <g id=\"LineCollection_1\"/>\n   <g id=\"patch_4\">\n    <path d=\"M 416.99625 354.958125 \nL 425.31225 354.958125 \nL 433.62825 354.958125 \nL 433.62825 22.318125 \nL 425.31225 22.318125 \nL 416.99625 22.318125 \nL 416.99625 354.958125 \nz\n\" style=\"fill: none\"/>\n   </g>\n  </g>\n </g>\n <defs>\n  <clipPath id=\"p60ca0f3e5a\">\n   <rect x=\"37.55625\" y=\"22.318125\" width=\"357.12\" height=\"332.64\"/>\n  </clipPath>\n </defs>\n</svg>\n"
          },
          "metadata": {}
        }
      ]
    },
    {
      "cell_type": "code",
      "source": [
        "from sklearn.metrics import roc_curve, auc\n",
        "\n",
        "# 计算每个类别的ROC曲线和AUC\n",
        "fpr, tpr, roc_auc = {}, {}, {}\n",
        "for i in range(len(class_indices)):\n",
        "    fpr[i], tpr[i], _ = roc_curve(y_true, y_pred_prob[:, i], pos_label=i)\n",
        "    roc_auc[i] = auc(fpr[i], tpr[i])\n",
        "\n",
        "# 绘制ROC曲线\n",
        "plt.figure(figsize=(8, 6))\n",
        "for i in range(len(class_indices)):\n",
        "    plt.plot(fpr[i], tpr[i], label=f'ROC curve (area = {roc_auc[i]:.2f}) for class {i}')\n",
        "plt.plot([0, 1], [0, 1], 'k--')\n",
        "plt.xlim([0.0, 1.0])\n",
        "plt.ylim([0.0, 1.05])\n",
        "plt.xlabel('False Positive Rate')\n",
        "plt.ylabel('True Positive Rate')\n",
        "plt.title('Receiver Operating Characteristic (ROC)')\n",
        "plt.legend(loc=\"lower right\")\n",
        "plt.show()\n"
      ],
      "metadata": {
        "colab": {
          "base_uri": "https://localhost:8080/",
          "height": 543
        },
        "id": "7cC7Ya-Nuqzs",
        "outputId": "209ee86f-10f3-43ea-9c14-bf3d9aa33396"
      },
      "execution_count": 31,
      "outputs": [
        {
          "output_type": "display_data",
          "data": {
            "text/plain": [
              "<Figure size 800x600 with 1 Axes>"
            ],
            "image/svg+xml": "<?xml version=\"1.0\" encoding=\"utf-8\" standalone=\"no\"?>\n<!DOCTYPE svg PUBLIC \"-//W3C//DTD SVG 1.1//EN\"\n  \"http://www.w3.org/Graphics/SVG/1.1/DTD/svg11.dtd\">\n<svg xmlns:xlink=\"http://www.w3.org/1999/xlink\" width=\"505.332812pt\" height=\"392.514375pt\" viewBox=\"0 0 505.332812 392.514375\" xmlns=\"http://www.w3.org/2000/svg\" version=\"1.1\">\n <metadata>\n  <rdf:RDF xmlns:dc=\"http://purl.org/dc/elements/1.1/\" xmlns:cc=\"http://creativecommons.org/ns#\" xmlns:rdf=\"http://www.w3.org/1999/02/22-rdf-syntax-ns#\">\n   <cc:Work>\n    <dc:type rdf:resource=\"http://purl.org/dc/dcmitype/StillImage\"/>\n    <dc:date>2023-11-03T10:30:29.189888</dc:date>\n    <dc:format>image/svg+xml</dc:format>\n    <dc:creator>\n     <cc:Agent>\n      <dc:title>Matplotlib v3.7.1, https://matplotlib.org/</dc:title>\n     </cc:Agent>\n    </dc:creator>\n   </cc:Work>\n  </rdf:RDF>\n </metadata>\n <defs>\n  <style type=\"text/css\">*{stroke-linejoin: round; stroke-linecap: butt}</style>\n </defs>\n <g id=\"figure_1\">\n  <g id=\"patch_1\">\n   <path d=\"M 0 392.514375 \nL 505.332812 392.514375 \nL 505.332812 0 \nL 0 0 \nz\n\" style=\"fill: #ffffff\"/>\n  </g>\n  <g id=\"axes_1\">\n   <g id=\"patch_2\">\n    <path d=\"M 43.78125 354.958125 \nL 490.18125 354.958125 \nL 490.18125 22.318125 \nL 43.78125 22.318125 \nz\n\" style=\"fill: #ffffff\"/>\n   </g>\n   <g id=\"matplotlib.axis_1\">\n    <g id=\"xtick_1\">\n     <g id=\"line2d_1\">\n      <path d=\"M 43.78125 354.958125 \nL 43.78125 22.318125 \n\" clip-path=\"url(#pb73b335e7a)\" style=\"fill: none; stroke: #cccccc; stroke-width: 0.8; stroke-linecap: round\"/>\n     </g>\n     <g id=\"text_1\">\n      <!-- 0.0 -->\n      <g style=\"fill: #262626\" transform=\"translate(35.829688 369.556562) scale(0.1 -0.1)\">\n       <defs>\n        <path id=\"DejaVuSans-30\" d=\"M 2034 4250 \nQ 1547 4250 1301 3770 \nQ 1056 3291 1056 2328 \nQ 1056 1369 1301 889 \nQ 1547 409 2034 409 \nQ 2525 409 2770 889 \nQ 3016 1369 3016 2328 \nQ 3016 3291 2770 3770 \nQ 2525 4250 2034 4250 \nz\nM 2034 4750 \nQ 2819 4750 3233 4129 \nQ 3647 3509 3647 2328 \nQ 3647 1150 3233 529 \nQ 2819 -91 2034 -91 \nQ 1250 -91 836 529 \nQ 422 1150 422 2328 \nQ 422 3509 836 4129 \nQ 1250 4750 2034 4750 \nz\n\" transform=\"scale(0.015625)\"/>\n        <path id=\"DejaVuSans-2e\" d=\"M 684 794 \nL 1344 794 \nL 1344 0 \nL 684 0 \nL 684 794 \nz\n\" transform=\"scale(0.015625)\"/>\n       </defs>\n       <use xlink:href=\"#DejaVuSans-30\"/>\n       <use xlink:href=\"#DejaVuSans-2e\" x=\"63.623047\"/>\n       <use xlink:href=\"#DejaVuSans-30\" x=\"95.410156\"/>\n      </g>\n     </g>\n    </g>\n    <g id=\"xtick_2\">\n     <g id=\"line2d_2\">\n      <path d=\"M 133.06125 354.958125 \nL 133.06125 22.318125 \n\" clip-path=\"url(#pb73b335e7a)\" style=\"fill: none; stroke: #cccccc; stroke-width: 0.8; stroke-linecap: round\"/>\n     </g>\n     <g id=\"text_2\">\n      <!-- 0.2 -->\n      <g style=\"fill: #262626\" transform=\"translate(125.109688 369.556562) scale(0.1 -0.1)\">\n       <defs>\n        <path id=\"DejaVuSans-32\" d=\"M 1228 531 \nL 3431 531 \nL 3431 0 \nL 469 0 \nL 469 531 \nQ 828 903 1448 1529 \nQ 2069 2156 2228 2338 \nQ 2531 2678 2651 2914 \nQ 2772 3150 2772 3378 \nQ 2772 3750 2511 3984 \nQ 2250 4219 1831 4219 \nQ 1534 4219 1204 4116 \nQ 875 4013 500 3803 \nL 500 4441 \nQ 881 4594 1212 4672 \nQ 1544 4750 1819 4750 \nQ 2544 4750 2975 4387 \nQ 3406 4025 3406 3419 \nQ 3406 3131 3298 2873 \nQ 3191 2616 2906 2266 \nQ 2828 2175 2409 1742 \nQ 1991 1309 1228 531 \nz\n\" transform=\"scale(0.015625)\"/>\n       </defs>\n       <use xlink:href=\"#DejaVuSans-30\"/>\n       <use xlink:href=\"#DejaVuSans-2e\" x=\"63.623047\"/>\n       <use xlink:href=\"#DejaVuSans-32\" x=\"95.410156\"/>\n      </g>\n     </g>\n    </g>\n    <g id=\"xtick_3\">\n     <g id=\"line2d_3\">\n      <path d=\"M 222.34125 354.958125 \nL 222.34125 22.318125 \n\" clip-path=\"url(#pb73b335e7a)\" style=\"fill: none; stroke: #cccccc; stroke-width: 0.8; stroke-linecap: round\"/>\n     </g>\n     <g id=\"text_3\">\n      <!-- 0.4 -->\n      <g style=\"fill: #262626\" transform=\"translate(214.389688 369.556562) scale(0.1 -0.1)\">\n       <defs>\n        <path id=\"DejaVuSans-34\" d=\"M 2419 4116 \nL 825 1625 \nL 2419 1625 \nL 2419 4116 \nz\nM 2253 4666 \nL 3047 4666 \nL 3047 1625 \nL 3713 1625 \nL 3713 1100 \nL 3047 1100 \nL 3047 0 \nL 2419 0 \nL 2419 1100 \nL 313 1100 \nL 313 1709 \nL 2253 4666 \nz\n\" transform=\"scale(0.015625)\"/>\n       </defs>\n       <use xlink:href=\"#DejaVuSans-30\"/>\n       <use xlink:href=\"#DejaVuSans-2e\" x=\"63.623047\"/>\n       <use xlink:href=\"#DejaVuSans-34\" x=\"95.410156\"/>\n      </g>\n     </g>\n    </g>\n    <g id=\"xtick_4\">\n     <g id=\"line2d_4\">\n      <path d=\"M 311.62125 354.958125 \nL 311.62125 22.318125 \n\" clip-path=\"url(#pb73b335e7a)\" style=\"fill: none; stroke: #cccccc; stroke-width: 0.8; stroke-linecap: round\"/>\n     </g>\n     <g id=\"text_4\">\n      <!-- 0.6 -->\n      <g style=\"fill: #262626\" transform=\"translate(303.669688 369.556562) scale(0.1 -0.1)\">\n       <defs>\n        <path id=\"DejaVuSans-36\" d=\"M 2113 2584 \nQ 1688 2584 1439 2293 \nQ 1191 2003 1191 1497 \nQ 1191 994 1439 701 \nQ 1688 409 2113 409 \nQ 2538 409 2786 701 \nQ 3034 994 3034 1497 \nQ 3034 2003 2786 2293 \nQ 2538 2584 2113 2584 \nz\nM 3366 4563 \nL 3366 3988 \nQ 3128 4100 2886 4159 \nQ 2644 4219 2406 4219 \nQ 1781 4219 1451 3797 \nQ 1122 3375 1075 2522 \nQ 1259 2794 1537 2939 \nQ 1816 3084 2150 3084 \nQ 2853 3084 3261 2657 \nQ 3669 2231 3669 1497 \nQ 3669 778 3244 343 \nQ 2819 -91 2113 -91 \nQ 1303 -91 875 529 \nQ 447 1150 447 2328 \nQ 447 3434 972 4092 \nQ 1497 4750 2381 4750 \nQ 2619 4750 2861 4703 \nQ 3103 4656 3366 4563 \nz\n\" transform=\"scale(0.015625)\"/>\n       </defs>\n       <use xlink:href=\"#DejaVuSans-30\"/>\n       <use xlink:href=\"#DejaVuSans-2e\" x=\"63.623047\"/>\n       <use xlink:href=\"#DejaVuSans-36\" x=\"95.410156\"/>\n      </g>\n     </g>\n    </g>\n    <g id=\"xtick_5\">\n     <g id=\"line2d_5\">\n      <path d=\"M 400.90125 354.958125 \nL 400.90125 22.318125 \n\" clip-path=\"url(#pb73b335e7a)\" style=\"fill: none; stroke: #cccccc; stroke-width: 0.8; stroke-linecap: round\"/>\n     </g>\n     <g id=\"text_5\">\n      <!-- 0.8 -->\n      <g style=\"fill: #262626\" transform=\"translate(392.949687 369.556562) scale(0.1 -0.1)\">\n       <defs>\n        <path id=\"DejaVuSans-38\" d=\"M 2034 2216 \nQ 1584 2216 1326 1975 \nQ 1069 1734 1069 1313 \nQ 1069 891 1326 650 \nQ 1584 409 2034 409 \nQ 2484 409 2743 651 \nQ 3003 894 3003 1313 \nQ 3003 1734 2745 1975 \nQ 2488 2216 2034 2216 \nz\nM 1403 2484 \nQ 997 2584 770 2862 \nQ 544 3141 544 3541 \nQ 544 4100 942 4425 \nQ 1341 4750 2034 4750 \nQ 2731 4750 3128 4425 \nQ 3525 4100 3525 3541 \nQ 3525 3141 3298 2862 \nQ 3072 2584 2669 2484 \nQ 3125 2378 3379 2068 \nQ 3634 1759 3634 1313 \nQ 3634 634 3220 271 \nQ 2806 -91 2034 -91 \nQ 1263 -91 848 271 \nQ 434 634 434 1313 \nQ 434 1759 690 2068 \nQ 947 2378 1403 2484 \nz\nM 1172 3481 \nQ 1172 3119 1398 2916 \nQ 1625 2713 2034 2713 \nQ 2441 2713 2670 2916 \nQ 2900 3119 2900 3481 \nQ 2900 3844 2670 4047 \nQ 2441 4250 2034 4250 \nQ 1625 4250 1398 4047 \nQ 1172 3844 1172 3481 \nz\n\" transform=\"scale(0.015625)\"/>\n       </defs>\n       <use xlink:href=\"#DejaVuSans-30\"/>\n       <use xlink:href=\"#DejaVuSans-2e\" x=\"63.623047\"/>\n       <use xlink:href=\"#DejaVuSans-38\" x=\"95.410156\"/>\n      </g>\n     </g>\n    </g>\n    <g id=\"xtick_6\">\n     <g id=\"line2d_6\">\n      <path d=\"M 490.18125 354.958125 \nL 490.18125 22.318125 \n\" clip-path=\"url(#pb73b335e7a)\" style=\"fill: none; stroke: #cccccc; stroke-width: 0.8; stroke-linecap: round\"/>\n     </g>\n     <g id=\"text_6\">\n      <!-- 1.0 -->\n      <g style=\"fill: #262626\" transform=\"translate(482.229687 369.556562) scale(0.1 -0.1)\">\n       <defs>\n        <path id=\"DejaVuSans-31\" d=\"M 794 531 \nL 1825 531 \nL 1825 4091 \nL 703 3866 \nL 703 4441 \nL 1819 4666 \nL 2450 4666 \nL 2450 531 \nL 3481 531 \nL 3481 0 \nL 794 0 \nL 794 531 \nz\n\" transform=\"scale(0.015625)\"/>\n       </defs>\n       <use xlink:href=\"#DejaVuSans-31\"/>\n       <use xlink:href=\"#DejaVuSans-2e\" x=\"63.623047\"/>\n       <use xlink:href=\"#DejaVuSans-30\" x=\"95.410156\"/>\n      </g>\n     </g>\n    </g>\n    <g id=\"text_7\">\n     <!-- False Positive Rate -->\n     <g style=\"fill: #262626\" transform=\"translate(220.514844 383.234687) scale(0.1 -0.1)\">\n      <defs>\n       <path id=\"DejaVuSans-46\" d=\"M 628 4666 \nL 3309 4666 \nL 3309 4134 \nL 1259 4134 \nL 1259 2759 \nL 3109 2759 \nL 3109 2228 \nL 1259 2228 \nL 1259 0 \nL 628 0 \nL 628 4666 \nz\n\" transform=\"scale(0.015625)\"/>\n       <path id=\"DejaVuSans-61\" d=\"M 2194 1759 \nQ 1497 1759 1228 1600 \nQ 959 1441 959 1056 \nQ 959 750 1161 570 \nQ 1363 391 1709 391 \nQ 2188 391 2477 730 \nQ 2766 1069 2766 1631 \nL 2766 1759 \nL 2194 1759 \nz\nM 3341 1997 \nL 3341 0 \nL 2766 0 \nL 2766 531 \nQ 2569 213 2275 61 \nQ 1981 -91 1556 -91 \nQ 1019 -91 701 211 \nQ 384 513 384 1019 \nQ 384 1609 779 1909 \nQ 1175 2209 1959 2209 \nL 2766 2209 \nL 2766 2266 \nQ 2766 2663 2505 2880 \nQ 2244 3097 1772 3097 \nQ 1472 3097 1187 3025 \nQ 903 2953 641 2809 \nL 641 3341 \nQ 956 3463 1253 3523 \nQ 1550 3584 1831 3584 \nQ 2591 3584 2966 3190 \nQ 3341 2797 3341 1997 \nz\n\" transform=\"scale(0.015625)\"/>\n       <path id=\"DejaVuSans-6c\" d=\"M 603 4863 \nL 1178 4863 \nL 1178 0 \nL 603 0 \nL 603 4863 \nz\n\" transform=\"scale(0.015625)\"/>\n       <path id=\"DejaVuSans-73\" d=\"M 2834 3397 \nL 2834 2853 \nQ 2591 2978 2328 3040 \nQ 2066 3103 1784 3103 \nQ 1356 3103 1142 2972 \nQ 928 2841 928 2578 \nQ 928 2378 1081 2264 \nQ 1234 2150 1697 2047 \nL 1894 2003 \nQ 2506 1872 2764 1633 \nQ 3022 1394 3022 966 \nQ 3022 478 2636 193 \nQ 2250 -91 1575 -91 \nQ 1294 -91 989 -36 \nQ 684 19 347 128 \nL 347 722 \nQ 666 556 975 473 \nQ 1284 391 1588 391 \nQ 1994 391 2212 530 \nQ 2431 669 2431 922 \nQ 2431 1156 2273 1281 \nQ 2116 1406 1581 1522 \nL 1381 1569 \nQ 847 1681 609 1914 \nQ 372 2147 372 2553 \nQ 372 3047 722 3315 \nQ 1072 3584 1716 3584 \nQ 2034 3584 2315 3537 \nQ 2597 3491 2834 3397 \nz\n\" transform=\"scale(0.015625)\"/>\n       <path id=\"DejaVuSans-65\" d=\"M 3597 1894 \nL 3597 1613 \nL 953 1613 \nQ 991 1019 1311 708 \nQ 1631 397 2203 397 \nQ 2534 397 2845 478 \nQ 3156 559 3463 722 \nL 3463 178 \nQ 3153 47 2828 -22 \nQ 2503 -91 2169 -91 \nQ 1331 -91 842 396 \nQ 353 884 353 1716 \nQ 353 2575 817 3079 \nQ 1281 3584 2069 3584 \nQ 2775 3584 3186 3129 \nQ 3597 2675 3597 1894 \nz\nM 3022 2063 \nQ 3016 2534 2758 2815 \nQ 2500 3097 2075 3097 \nQ 1594 3097 1305 2825 \nQ 1016 2553 972 2059 \nL 3022 2063 \nz\n\" transform=\"scale(0.015625)\"/>\n       <path id=\"DejaVuSans-20\" transform=\"scale(0.015625)\"/>\n       <path id=\"DejaVuSans-50\" d=\"M 1259 4147 \nL 1259 2394 \nL 2053 2394 \nQ 2494 2394 2734 2622 \nQ 2975 2850 2975 3272 \nQ 2975 3691 2734 3919 \nQ 2494 4147 2053 4147 \nL 1259 4147 \nz\nM 628 4666 \nL 2053 4666 \nQ 2838 4666 3239 4311 \nQ 3641 3956 3641 3272 \nQ 3641 2581 3239 2228 \nQ 2838 1875 2053 1875 \nL 1259 1875 \nL 1259 0 \nL 628 0 \nL 628 4666 \nz\n\" transform=\"scale(0.015625)\"/>\n       <path id=\"DejaVuSans-6f\" d=\"M 1959 3097 \nQ 1497 3097 1228 2736 \nQ 959 2375 959 1747 \nQ 959 1119 1226 758 \nQ 1494 397 1959 397 \nQ 2419 397 2687 759 \nQ 2956 1122 2956 1747 \nQ 2956 2369 2687 2733 \nQ 2419 3097 1959 3097 \nz\nM 1959 3584 \nQ 2709 3584 3137 3096 \nQ 3566 2609 3566 1747 \nQ 3566 888 3137 398 \nQ 2709 -91 1959 -91 \nQ 1206 -91 779 398 \nQ 353 888 353 1747 \nQ 353 2609 779 3096 \nQ 1206 3584 1959 3584 \nz\n\" transform=\"scale(0.015625)\"/>\n       <path id=\"DejaVuSans-69\" d=\"M 603 3500 \nL 1178 3500 \nL 1178 0 \nL 603 0 \nL 603 3500 \nz\nM 603 4863 \nL 1178 4863 \nL 1178 4134 \nL 603 4134 \nL 603 4863 \nz\n\" transform=\"scale(0.015625)\"/>\n       <path id=\"DejaVuSans-74\" d=\"M 1172 4494 \nL 1172 3500 \nL 2356 3500 \nL 2356 3053 \nL 1172 3053 \nL 1172 1153 \nQ 1172 725 1289 603 \nQ 1406 481 1766 481 \nL 2356 481 \nL 2356 0 \nL 1766 0 \nQ 1100 0 847 248 \nQ 594 497 594 1153 \nL 594 3053 \nL 172 3053 \nL 172 3500 \nL 594 3500 \nL 594 4494 \nL 1172 4494 \nz\n\" transform=\"scale(0.015625)\"/>\n       <path id=\"DejaVuSans-76\" d=\"M 191 3500 \nL 800 3500 \nL 1894 563 \nL 2988 3500 \nL 3597 3500 \nL 2284 0 \nL 1503 0 \nL 191 3500 \nz\n\" transform=\"scale(0.015625)\"/>\n       <path id=\"DejaVuSans-52\" d=\"M 2841 2188 \nQ 3044 2119 3236 1894 \nQ 3428 1669 3622 1275 \nL 4263 0 \nL 3584 0 \nL 2988 1197 \nQ 2756 1666 2539 1819 \nQ 2322 1972 1947 1972 \nL 1259 1972 \nL 1259 0 \nL 628 0 \nL 628 4666 \nL 2053 4666 \nQ 2853 4666 3247 4331 \nQ 3641 3997 3641 3322 \nQ 3641 2881 3436 2590 \nQ 3231 2300 2841 2188 \nz\nM 1259 4147 \nL 1259 2491 \nL 2053 2491 \nQ 2509 2491 2742 2702 \nQ 2975 2913 2975 3322 \nQ 2975 3731 2742 3939 \nQ 2509 4147 2053 4147 \nL 1259 4147 \nz\n\" transform=\"scale(0.015625)\"/>\n      </defs>\n      <use xlink:href=\"#DejaVuSans-46\"/>\n      <use xlink:href=\"#DejaVuSans-61\" x=\"48.394531\"/>\n      <use xlink:href=\"#DejaVuSans-6c\" x=\"109.673828\"/>\n      <use xlink:href=\"#DejaVuSans-73\" x=\"137.457031\"/>\n      <use xlink:href=\"#DejaVuSans-65\" x=\"189.556641\"/>\n      <use xlink:href=\"#DejaVuSans-20\" x=\"251.080078\"/>\n      <use xlink:href=\"#DejaVuSans-50\" x=\"282.867188\"/>\n      <use xlink:href=\"#DejaVuSans-6f\" x=\"339.544922\"/>\n      <use xlink:href=\"#DejaVuSans-73\" x=\"400.726562\"/>\n      <use xlink:href=\"#DejaVuSans-69\" x=\"452.826172\"/>\n      <use xlink:href=\"#DejaVuSans-74\" x=\"480.609375\"/>\n      <use xlink:href=\"#DejaVuSans-69\" x=\"519.818359\"/>\n      <use xlink:href=\"#DejaVuSans-76\" x=\"547.601562\"/>\n      <use xlink:href=\"#DejaVuSans-65\" x=\"606.78125\"/>\n      <use xlink:href=\"#DejaVuSans-20\" x=\"668.304688\"/>\n      <use xlink:href=\"#DejaVuSans-52\" x=\"700.091797\"/>\n      <use xlink:href=\"#DejaVuSans-61\" x=\"767.324219\"/>\n      <use xlink:href=\"#DejaVuSans-74\" x=\"828.603516\"/>\n      <use xlink:href=\"#DejaVuSans-65\" x=\"867.8125\"/>\n     </g>\n    </g>\n   </g>\n   <g id=\"matplotlib.axis_2\">\n    <g id=\"ytick_1\">\n     <g id=\"line2d_7\">\n      <path d=\"M 43.78125 354.958125 \nL 490.18125 354.958125 \n\" clip-path=\"url(#pb73b335e7a)\" style=\"fill: none; stroke: #cccccc; stroke-width: 0.8; stroke-linecap: round\"/>\n     </g>\n     <g id=\"text_8\">\n      <!-- 0.0 -->\n      <g style=\"fill: #262626\" transform=\"translate(20.878125 358.757344) scale(0.1 -0.1)\">\n       <use xlink:href=\"#DejaVuSans-30\"/>\n       <use xlink:href=\"#DejaVuSans-2e\" x=\"63.623047\"/>\n       <use xlink:href=\"#DejaVuSans-30\" x=\"95.410156\"/>\n      </g>\n     </g>\n    </g>\n    <g id=\"ytick_2\">\n     <g id=\"line2d_8\">\n      <path d=\"M 43.78125 291.598125 \nL 490.18125 291.598125 \n\" clip-path=\"url(#pb73b335e7a)\" style=\"fill: none; stroke: #cccccc; stroke-width: 0.8; stroke-linecap: round\"/>\n     </g>\n     <g id=\"text_9\">\n      <!-- 0.2 -->\n      <g style=\"fill: #262626\" transform=\"translate(20.878125 295.397344) scale(0.1 -0.1)\">\n       <use xlink:href=\"#DejaVuSans-30\"/>\n       <use xlink:href=\"#DejaVuSans-2e\" x=\"63.623047\"/>\n       <use xlink:href=\"#DejaVuSans-32\" x=\"95.410156\"/>\n      </g>\n     </g>\n    </g>\n    <g id=\"ytick_3\">\n     <g id=\"line2d_9\">\n      <path d=\"M 43.78125 228.238125 \nL 490.18125 228.238125 \n\" clip-path=\"url(#pb73b335e7a)\" style=\"fill: none; stroke: #cccccc; stroke-width: 0.8; stroke-linecap: round\"/>\n     </g>\n     <g id=\"text_10\">\n      <!-- 0.4 -->\n      <g style=\"fill: #262626\" transform=\"translate(20.878125 232.037344) scale(0.1 -0.1)\">\n       <use xlink:href=\"#DejaVuSans-30\"/>\n       <use xlink:href=\"#DejaVuSans-2e\" x=\"63.623047\"/>\n       <use xlink:href=\"#DejaVuSans-34\" x=\"95.410156\"/>\n      </g>\n     </g>\n    </g>\n    <g id=\"ytick_4\">\n     <g id=\"line2d_10\">\n      <path d=\"M 43.78125 164.878125 \nL 490.18125 164.878125 \n\" clip-path=\"url(#pb73b335e7a)\" style=\"fill: none; stroke: #cccccc; stroke-width: 0.8; stroke-linecap: round\"/>\n     </g>\n     <g id=\"text_11\">\n      <!-- 0.6 -->\n      <g style=\"fill: #262626\" transform=\"translate(20.878125 168.677344) scale(0.1 -0.1)\">\n       <use xlink:href=\"#DejaVuSans-30\"/>\n       <use xlink:href=\"#DejaVuSans-2e\" x=\"63.623047\"/>\n       <use xlink:href=\"#DejaVuSans-36\" x=\"95.410156\"/>\n      </g>\n     </g>\n    </g>\n    <g id=\"ytick_5\">\n     <g id=\"line2d_11\">\n      <path d=\"M 43.78125 101.518125 \nL 490.18125 101.518125 \n\" clip-path=\"url(#pb73b335e7a)\" style=\"fill: none; stroke: #cccccc; stroke-width: 0.8; stroke-linecap: round\"/>\n     </g>\n     <g id=\"text_12\">\n      <!-- 0.8 -->\n      <g style=\"fill: #262626\" transform=\"translate(20.878125 105.317344) scale(0.1 -0.1)\">\n       <use xlink:href=\"#DejaVuSans-30\"/>\n       <use xlink:href=\"#DejaVuSans-2e\" x=\"63.623047\"/>\n       <use xlink:href=\"#DejaVuSans-38\" x=\"95.410156\"/>\n      </g>\n     </g>\n    </g>\n    <g id=\"ytick_6\">\n     <g id=\"line2d_12\">\n      <path d=\"M 43.78125 38.158125 \nL 490.18125 38.158125 \n\" clip-path=\"url(#pb73b335e7a)\" style=\"fill: none; stroke: #cccccc; stroke-width: 0.8; stroke-linecap: round\"/>\n     </g>\n     <g id=\"text_13\">\n      <!-- 1.0 -->\n      <g style=\"fill: #262626\" transform=\"translate(20.878125 41.957344) scale(0.1 -0.1)\">\n       <use xlink:href=\"#DejaVuSans-31\"/>\n       <use xlink:href=\"#DejaVuSans-2e\" x=\"63.623047\"/>\n       <use xlink:href=\"#DejaVuSans-30\" x=\"95.410156\"/>\n      </g>\n     </g>\n    </g>\n    <g id=\"text_14\">\n     <!-- True Positive Rate -->\n     <g style=\"fill: #262626\" transform=\"translate(14.798438 233.167812) rotate(-90) scale(0.1 -0.1)\">\n      <defs>\n       <path id=\"DejaVuSans-54\" d=\"M -19 4666 \nL 3928 4666 \nL 3928 4134 \nL 2272 4134 \nL 2272 0 \nL 1638 0 \nL 1638 4134 \nL -19 4134 \nL -19 4666 \nz\n\" transform=\"scale(0.015625)\"/>\n       <path id=\"DejaVuSans-72\" d=\"M 2631 2963 \nQ 2534 3019 2420 3045 \nQ 2306 3072 2169 3072 \nQ 1681 3072 1420 2755 \nQ 1159 2438 1159 1844 \nL 1159 0 \nL 581 0 \nL 581 3500 \nL 1159 3500 \nL 1159 2956 \nQ 1341 3275 1631 3429 \nQ 1922 3584 2338 3584 \nQ 2397 3584 2469 3576 \nQ 2541 3569 2628 3553 \nL 2631 2963 \nz\n\" transform=\"scale(0.015625)\"/>\n       <path id=\"DejaVuSans-75\" d=\"M 544 1381 \nL 544 3500 \nL 1119 3500 \nL 1119 1403 \nQ 1119 906 1312 657 \nQ 1506 409 1894 409 \nQ 2359 409 2629 706 \nQ 2900 1003 2900 1516 \nL 2900 3500 \nL 3475 3500 \nL 3475 0 \nL 2900 0 \nL 2900 538 \nQ 2691 219 2414 64 \nQ 2138 -91 1772 -91 \nQ 1169 -91 856 284 \nQ 544 659 544 1381 \nz\nM 1991 3584 \nL 1991 3584 \nz\n\" transform=\"scale(0.015625)\"/>\n      </defs>\n      <use xlink:href=\"#DejaVuSans-54\"/>\n      <use xlink:href=\"#DejaVuSans-72\" x=\"46.333984\"/>\n      <use xlink:href=\"#DejaVuSans-75\" x=\"87.447266\"/>\n      <use xlink:href=\"#DejaVuSans-65\" x=\"150.826172\"/>\n      <use xlink:href=\"#DejaVuSans-20\" x=\"212.349609\"/>\n      <use xlink:href=\"#DejaVuSans-50\" x=\"244.136719\"/>\n      <use xlink:href=\"#DejaVuSans-6f\" x=\"300.814453\"/>\n      <use xlink:href=\"#DejaVuSans-73\" x=\"361.996094\"/>\n      <use xlink:href=\"#DejaVuSans-69\" x=\"414.095703\"/>\n      <use xlink:href=\"#DejaVuSans-74\" x=\"441.878906\"/>\n      <use xlink:href=\"#DejaVuSans-69\" x=\"481.087891\"/>\n      <use xlink:href=\"#DejaVuSans-76\" x=\"508.871094\"/>\n      <use xlink:href=\"#DejaVuSans-65\" x=\"568.050781\"/>\n      <use xlink:href=\"#DejaVuSans-20\" x=\"629.574219\"/>\n      <use xlink:href=\"#DejaVuSans-52\" x=\"661.361328\"/>\n      <use xlink:href=\"#DejaVuSans-61\" x=\"728.59375\"/>\n      <use xlink:href=\"#DejaVuSans-74\" x=\"789.873047\"/>\n      <use xlink:href=\"#DejaVuSans-65\" x=\"829.082031\"/>\n     </g>\n    </g>\n   </g>\n   <g id=\"line2d_13\">\n    <path d=\"M 43.78125 354.958125 \nL 43.78125 350.998125 \nL 43.78125 93.598125 \nL 49.36125 93.598125 \nL 49.36125 81.718125 \nL 54.94125 81.718125 \nL 54.94125 73.798125 \nL 60.52125 73.798125 \nL 60.52125 69.838125 \nL 77.26125 69.838125 \nL 77.26125 65.878125 \nL 82.84125 65.878125 \nL 82.84125 61.918125 \nL 99.58125 61.918125 \nL 99.58125 50.038125 \nL 105.16125 50.038125 \nL 105.16125 42.118125 \nL 177.70125 42.118125 \nL 177.70125 38.158125 \nL 250.24125 38.158125 \nL 261.40125 38.158125 \nL 490.18125 38.158125 \n\" clip-path=\"url(#pb73b335e7a)\" style=\"fill: none; stroke: #1f77b4; stroke-width: 1.5; stroke-linecap: round\"/>\n   </g>\n   <g id=\"line2d_14\">\n    <path d=\"M 43.78125 354.958125 \nL 43.78125 350.998125 \nL 43.78125 192.598125 \nL 43.78125 184.678125 \nL 43.78125 133.198125 \nL 49.36125 133.198125 \nL 49.36125 81.718125 \nL 60.52125 81.718125 \nL 60.52125 77.758125 \nL 77.26125 77.758125 \nL 77.26125 65.878125 \nL 82.84125 65.878125 \nL 82.84125 61.918125 \nL 88.42125 61.918125 \nL 88.42125 50.038125 \nL 94.00125 50.038125 \nL 94.00125 46.078125 \nL 105.16125 46.078125 \nL 105.16125 42.118125 \nL 121.90125 42.118125 \nL 121.90125 38.158125 \nL 490.18125 38.158125 \n\" clip-path=\"url(#pb73b335e7a)\" style=\"fill: none; stroke: #ff7f0e; stroke-width: 1.5; stroke-linecap: round\"/>\n   </g>\n   <g id=\"line2d_15\">\n    <path d=\"M 43.78125 354.958125 \nL 490.18125 38.158125 \n\" clip-path=\"url(#pb73b335e7a)\" style=\"fill: none; stroke-dasharray: 5.55,2.4; stroke-dashoffset: 0; stroke: #000000; stroke-width: 1.5\"/>\n   </g>\n   <g id=\"patch_3\">\n    <path d=\"M 43.78125 354.958125 \nL 43.78125 22.318125 \n\" style=\"fill: none; stroke: #cccccc; stroke-width: 0.8; stroke-linejoin: miter; stroke-linecap: square\"/>\n   </g>\n   <g id=\"patch_4\">\n    <path d=\"M 490.18125 354.958125 \nL 490.18125 22.318125 \n\" style=\"fill: none; stroke: #cccccc; stroke-width: 0.8; stroke-linejoin: miter; stroke-linecap: square\"/>\n   </g>\n   <g id=\"patch_5\">\n    <path d=\"M 43.78125 354.958125 \nL 490.18125 354.958125 \n\" style=\"fill: none; stroke: #cccccc; stroke-width: 0.8; stroke-linejoin: miter; stroke-linecap: square\"/>\n   </g>\n   <g id=\"patch_6\">\n    <path d=\"M 43.78125 22.318125 \nL 490.18125 22.318125 \n\" style=\"fill: none; stroke: #cccccc; stroke-width: 0.8; stroke-linejoin: miter; stroke-linecap: square\"/>\n   </g>\n   <g id=\"text_15\">\n    <!-- Receiver Operating Characteristic (ROC) -->\n    <g style=\"fill: #262626\" transform=\"translate(145.8075 16.318125) scale(0.12 -0.12)\">\n     <defs>\n      <path id=\"DejaVuSans-63\" d=\"M 3122 3366 \nL 3122 2828 \nQ 2878 2963 2633 3030 \nQ 2388 3097 2138 3097 \nQ 1578 3097 1268 2742 \nQ 959 2388 959 1747 \nQ 959 1106 1268 751 \nQ 1578 397 2138 397 \nQ 2388 397 2633 464 \nQ 2878 531 3122 666 \nL 3122 134 \nQ 2881 22 2623 -34 \nQ 2366 -91 2075 -91 \nQ 1284 -91 818 406 \nQ 353 903 353 1747 \nQ 353 2603 823 3093 \nQ 1294 3584 2113 3584 \nQ 2378 3584 2631 3529 \nQ 2884 3475 3122 3366 \nz\n\" transform=\"scale(0.015625)\"/>\n      <path id=\"DejaVuSans-4f\" d=\"M 2522 4238 \nQ 1834 4238 1429 3725 \nQ 1025 3213 1025 2328 \nQ 1025 1447 1429 934 \nQ 1834 422 2522 422 \nQ 3209 422 3611 934 \nQ 4013 1447 4013 2328 \nQ 4013 3213 3611 3725 \nQ 3209 4238 2522 4238 \nz\nM 2522 4750 \nQ 3503 4750 4090 4092 \nQ 4678 3434 4678 2328 \nQ 4678 1225 4090 567 \nQ 3503 -91 2522 -91 \nQ 1538 -91 948 565 \nQ 359 1222 359 2328 \nQ 359 3434 948 4092 \nQ 1538 4750 2522 4750 \nz\n\" transform=\"scale(0.015625)\"/>\n      <path id=\"DejaVuSans-70\" d=\"M 1159 525 \nL 1159 -1331 \nL 581 -1331 \nL 581 3500 \nL 1159 3500 \nL 1159 2969 \nQ 1341 3281 1617 3432 \nQ 1894 3584 2278 3584 \nQ 2916 3584 3314 3078 \nQ 3713 2572 3713 1747 \nQ 3713 922 3314 415 \nQ 2916 -91 2278 -91 \nQ 1894 -91 1617 61 \nQ 1341 213 1159 525 \nz\nM 3116 1747 \nQ 3116 2381 2855 2742 \nQ 2594 3103 2138 3103 \nQ 1681 3103 1420 2742 \nQ 1159 2381 1159 1747 \nQ 1159 1113 1420 752 \nQ 1681 391 2138 391 \nQ 2594 391 2855 752 \nQ 3116 1113 3116 1747 \nz\n\" transform=\"scale(0.015625)\"/>\n      <path id=\"DejaVuSans-6e\" d=\"M 3513 2113 \nL 3513 0 \nL 2938 0 \nL 2938 2094 \nQ 2938 2591 2744 2837 \nQ 2550 3084 2163 3084 \nQ 1697 3084 1428 2787 \nQ 1159 2491 1159 1978 \nL 1159 0 \nL 581 0 \nL 581 3500 \nL 1159 3500 \nL 1159 2956 \nQ 1366 3272 1645 3428 \nQ 1925 3584 2291 3584 \nQ 2894 3584 3203 3211 \nQ 3513 2838 3513 2113 \nz\n\" transform=\"scale(0.015625)\"/>\n      <path id=\"DejaVuSans-67\" d=\"M 2906 1791 \nQ 2906 2416 2648 2759 \nQ 2391 3103 1925 3103 \nQ 1463 3103 1205 2759 \nQ 947 2416 947 1791 \nQ 947 1169 1205 825 \nQ 1463 481 1925 481 \nQ 2391 481 2648 825 \nQ 2906 1169 2906 1791 \nz\nM 3481 434 \nQ 3481 -459 3084 -895 \nQ 2688 -1331 1869 -1331 \nQ 1566 -1331 1297 -1286 \nQ 1028 -1241 775 -1147 \nL 775 -588 \nQ 1028 -725 1275 -790 \nQ 1522 -856 1778 -856 \nQ 2344 -856 2625 -561 \nQ 2906 -266 2906 331 \nL 2906 616 \nQ 2728 306 2450 153 \nQ 2172 0 1784 0 \nQ 1141 0 747 490 \nQ 353 981 353 1791 \nQ 353 2603 747 3093 \nQ 1141 3584 1784 3584 \nQ 2172 3584 2450 3431 \nQ 2728 3278 2906 2969 \nL 2906 3500 \nL 3481 3500 \nL 3481 434 \nz\n\" transform=\"scale(0.015625)\"/>\n      <path id=\"DejaVuSans-43\" d=\"M 4122 4306 \nL 4122 3641 \nQ 3803 3938 3442 4084 \nQ 3081 4231 2675 4231 \nQ 1875 4231 1450 3742 \nQ 1025 3253 1025 2328 \nQ 1025 1406 1450 917 \nQ 1875 428 2675 428 \nQ 3081 428 3442 575 \nQ 3803 722 4122 1019 \nL 4122 359 \nQ 3791 134 3420 21 \nQ 3050 -91 2638 -91 \nQ 1578 -91 968 557 \nQ 359 1206 359 2328 \nQ 359 3453 968 4101 \nQ 1578 4750 2638 4750 \nQ 3056 4750 3426 4639 \nQ 3797 4528 4122 4306 \nz\n\" transform=\"scale(0.015625)\"/>\n      <path id=\"DejaVuSans-68\" d=\"M 3513 2113 \nL 3513 0 \nL 2938 0 \nL 2938 2094 \nQ 2938 2591 2744 2837 \nQ 2550 3084 2163 3084 \nQ 1697 3084 1428 2787 \nQ 1159 2491 1159 1978 \nL 1159 0 \nL 581 0 \nL 581 4863 \nL 1159 4863 \nL 1159 2956 \nQ 1366 3272 1645 3428 \nQ 1925 3584 2291 3584 \nQ 2894 3584 3203 3211 \nQ 3513 2838 3513 2113 \nz\n\" transform=\"scale(0.015625)\"/>\n      <path id=\"DejaVuSans-28\" d=\"M 1984 4856 \nQ 1566 4138 1362 3434 \nQ 1159 2731 1159 2009 \nQ 1159 1288 1364 580 \nQ 1569 -128 1984 -844 \nL 1484 -844 \nQ 1016 -109 783 600 \nQ 550 1309 550 2009 \nQ 550 2706 781 3412 \nQ 1013 4119 1484 4856 \nL 1984 4856 \nz\n\" transform=\"scale(0.015625)\"/>\n      <path id=\"DejaVuSans-29\" d=\"M 513 4856 \nL 1013 4856 \nQ 1481 4119 1714 3412 \nQ 1947 2706 1947 2009 \nQ 1947 1309 1714 600 \nQ 1481 -109 1013 -844 \nL 513 -844 \nQ 928 -128 1133 580 \nQ 1338 1288 1338 2009 \nQ 1338 2731 1133 3434 \nQ 928 4138 513 4856 \nz\n\" transform=\"scale(0.015625)\"/>\n     </defs>\n     <use xlink:href=\"#DejaVuSans-52\"/>\n     <use xlink:href=\"#DejaVuSans-65\" x=\"64.982422\"/>\n     <use xlink:href=\"#DejaVuSans-63\" x=\"126.505859\"/>\n     <use xlink:href=\"#DejaVuSans-65\" x=\"181.486328\"/>\n     <use xlink:href=\"#DejaVuSans-69\" x=\"243.009766\"/>\n     <use xlink:href=\"#DejaVuSans-76\" x=\"270.792969\"/>\n     <use xlink:href=\"#DejaVuSans-65\" x=\"329.972656\"/>\n     <use xlink:href=\"#DejaVuSans-72\" x=\"391.496094\"/>\n     <use xlink:href=\"#DejaVuSans-20\" x=\"432.609375\"/>\n     <use xlink:href=\"#DejaVuSans-4f\" x=\"464.396484\"/>\n     <use xlink:href=\"#DejaVuSans-70\" x=\"543.107422\"/>\n     <use xlink:href=\"#DejaVuSans-65\" x=\"606.583984\"/>\n     <use xlink:href=\"#DejaVuSans-72\" x=\"668.107422\"/>\n     <use xlink:href=\"#DejaVuSans-61\" x=\"709.220703\"/>\n     <use xlink:href=\"#DejaVuSans-74\" x=\"770.5\"/>\n     <use xlink:href=\"#DejaVuSans-69\" x=\"809.708984\"/>\n     <use xlink:href=\"#DejaVuSans-6e\" x=\"837.492188\"/>\n     <use xlink:href=\"#DejaVuSans-67\" x=\"900.871094\"/>\n     <use xlink:href=\"#DejaVuSans-20\" x=\"964.347656\"/>\n     <use xlink:href=\"#DejaVuSans-43\" x=\"996.134766\"/>\n     <use xlink:href=\"#DejaVuSans-68\" x=\"1065.958984\"/>\n     <use xlink:href=\"#DejaVuSans-61\" x=\"1129.337891\"/>\n     <use xlink:href=\"#DejaVuSans-72\" x=\"1190.617188\"/>\n     <use xlink:href=\"#DejaVuSans-61\" x=\"1231.730469\"/>\n     <use xlink:href=\"#DejaVuSans-63\" x=\"1293.009766\"/>\n     <use xlink:href=\"#DejaVuSans-74\" x=\"1347.990234\"/>\n     <use xlink:href=\"#DejaVuSans-65\" x=\"1387.199219\"/>\n     <use xlink:href=\"#DejaVuSans-72\" x=\"1448.722656\"/>\n     <use xlink:href=\"#DejaVuSans-69\" x=\"1489.835938\"/>\n     <use xlink:href=\"#DejaVuSans-73\" x=\"1517.619141\"/>\n     <use xlink:href=\"#DejaVuSans-74\" x=\"1569.71875\"/>\n     <use xlink:href=\"#DejaVuSans-69\" x=\"1608.927734\"/>\n     <use xlink:href=\"#DejaVuSans-63\" x=\"1636.710938\"/>\n     <use xlink:href=\"#DejaVuSans-20\" x=\"1691.691406\"/>\n     <use xlink:href=\"#DejaVuSans-28\" x=\"1723.478516\"/>\n     <use xlink:href=\"#DejaVuSans-52\" x=\"1762.492188\"/>\n     <use xlink:href=\"#DejaVuSans-4f\" x=\"1831.974609\"/>\n     <use xlink:href=\"#DejaVuSans-43\" x=\"1910.685547\"/>\n     <use xlink:href=\"#DejaVuSans-29\" x=\"1980.509766\"/>\n    </g>\n   </g>\n   <g id=\"legend_1\">\n    <g id=\"patch_7\">\n     <path d=\"M 273.432812 349.958125 \nL 483.18125 349.958125 \nQ 485.18125 349.958125 485.18125 347.958125 \nL 485.18125 319.601875 \nQ 485.18125 317.601875 483.18125 317.601875 \nL 273.432812 317.601875 \nQ 271.432812 317.601875 271.432812 319.601875 \nL 271.432812 347.958125 \nQ 271.432812 349.958125 273.432812 349.958125 \nz\n\" style=\"fill: #ffffff; opacity: 0.8; stroke: #cccccc; stroke-linejoin: miter\"/>\n    </g>\n    <g id=\"line2d_16\">\n     <path d=\"M 275.432812 325.700312 \nL 285.432812 325.700312 \nL 295.432812 325.700312 \n\" style=\"fill: none; stroke: #1f77b4; stroke-width: 1.5; stroke-linecap: round\"/>\n    </g>\n    <g id=\"text_16\">\n     <!-- ROC curve (area = 0.98) for class 0 -->\n     <g style=\"fill: #262626\" transform=\"translate(303.432812 329.200312) scale(0.1 -0.1)\">\n      <defs>\n       <path id=\"DejaVuSans-3d\" d=\"M 678 2906 \nL 4684 2906 \nL 4684 2381 \nL 678 2381 \nL 678 2906 \nz\nM 678 1631 \nL 4684 1631 \nL 4684 1100 \nL 678 1100 \nL 678 1631 \nz\n\" transform=\"scale(0.015625)\"/>\n       <path id=\"DejaVuSans-39\" d=\"M 703 97 \nL 703 672 \nQ 941 559 1184 500 \nQ 1428 441 1663 441 \nQ 2288 441 2617 861 \nQ 2947 1281 2994 2138 \nQ 2813 1869 2534 1725 \nQ 2256 1581 1919 1581 \nQ 1219 1581 811 2004 \nQ 403 2428 403 3163 \nQ 403 3881 828 4315 \nQ 1253 4750 1959 4750 \nQ 2769 4750 3195 4129 \nQ 3622 3509 3622 2328 \nQ 3622 1225 3098 567 \nQ 2575 -91 1691 -91 \nQ 1453 -91 1209 -44 \nQ 966 3 703 97 \nz\nM 1959 2075 \nQ 2384 2075 2632 2365 \nQ 2881 2656 2881 3163 \nQ 2881 3666 2632 3958 \nQ 2384 4250 1959 4250 \nQ 1534 4250 1286 3958 \nQ 1038 3666 1038 3163 \nQ 1038 2656 1286 2365 \nQ 1534 2075 1959 2075 \nz\n\" transform=\"scale(0.015625)\"/>\n       <path id=\"DejaVuSans-66\" d=\"M 2375 4863 \nL 2375 4384 \nL 1825 4384 \nQ 1516 4384 1395 4259 \nQ 1275 4134 1275 3809 \nL 1275 3500 \nL 2222 3500 \nL 2222 3053 \nL 1275 3053 \nL 1275 0 \nL 697 0 \nL 697 3053 \nL 147 3053 \nL 147 3500 \nL 697 3500 \nL 697 3744 \nQ 697 4328 969 4595 \nQ 1241 4863 1831 4863 \nL 2375 4863 \nz\n\" transform=\"scale(0.015625)\"/>\n      </defs>\n      <use xlink:href=\"#DejaVuSans-52\"/>\n      <use xlink:href=\"#DejaVuSans-4f\" x=\"69.482422\"/>\n      <use xlink:href=\"#DejaVuSans-43\" x=\"148.193359\"/>\n      <use xlink:href=\"#DejaVuSans-20\" x=\"218.017578\"/>\n      <use xlink:href=\"#DejaVuSans-63\" x=\"249.804688\"/>\n      <use xlink:href=\"#DejaVuSans-75\" x=\"304.785156\"/>\n      <use xlink:href=\"#DejaVuSans-72\" x=\"368.164062\"/>\n      <use xlink:href=\"#DejaVuSans-76\" x=\"409.277344\"/>\n      <use xlink:href=\"#DejaVuSans-65\" x=\"468.457031\"/>\n      <use xlink:href=\"#DejaVuSans-20\" x=\"529.980469\"/>\n      <use xlink:href=\"#DejaVuSans-28\" x=\"561.767578\"/>\n      <use xlink:href=\"#DejaVuSans-61\" x=\"600.78125\"/>\n      <use xlink:href=\"#DejaVuSans-72\" x=\"662.060547\"/>\n      <use xlink:href=\"#DejaVuSans-65\" x=\"700.923828\"/>\n      <use xlink:href=\"#DejaVuSans-61\" x=\"762.447266\"/>\n      <use xlink:href=\"#DejaVuSans-20\" x=\"823.726562\"/>\n      <use xlink:href=\"#DejaVuSans-3d\" x=\"855.513672\"/>\n      <use xlink:href=\"#DejaVuSans-20\" x=\"939.302734\"/>\n      <use xlink:href=\"#DejaVuSans-30\" x=\"971.089844\"/>\n      <use xlink:href=\"#DejaVuSans-2e\" x=\"1034.712891\"/>\n      <use xlink:href=\"#DejaVuSans-39\" x=\"1066.5\"/>\n      <use xlink:href=\"#DejaVuSans-38\" x=\"1130.123047\"/>\n      <use xlink:href=\"#DejaVuSans-29\" x=\"1193.746094\"/>\n      <use xlink:href=\"#DejaVuSans-20\" x=\"1232.759766\"/>\n      <use xlink:href=\"#DejaVuSans-66\" x=\"1264.546875\"/>\n      <use xlink:href=\"#DejaVuSans-6f\" x=\"1299.751953\"/>\n      <use xlink:href=\"#DejaVuSans-72\" x=\"1360.933594\"/>\n      <use xlink:href=\"#DejaVuSans-20\" x=\"1402.046875\"/>\n      <use xlink:href=\"#DejaVuSans-63\" x=\"1433.833984\"/>\n      <use xlink:href=\"#DejaVuSans-6c\" x=\"1488.814453\"/>\n      <use xlink:href=\"#DejaVuSans-61\" x=\"1516.597656\"/>\n      <use xlink:href=\"#DejaVuSans-73\" x=\"1577.876953\"/>\n      <use xlink:href=\"#DejaVuSans-73\" x=\"1629.976562\"/>\n      <use xlink:href=\"#DejaVuSans-20\" x=\"1682.076172\"/>\n      <use xlink:href=\"#DejaVuSans-30\" x=\"1713.863281\"/>\n     </g>\n    </g>\n    <g id=\"line2d_17\">\n     <path d=\"M 275.432812 340.378437 \nL 285.432812 340.378437 \nL 295.432812 340.378437 \n\" style=\"fill: none; stroke: #ff7f0e; stroke-width: 1.5; stroke-linecap: round\"/>\n    </g>\n    <g id=\"text_17\">\n     <!-- ROC curve (area = 0.98) for class 1 -->\n     <g style=\"fill: #262626\" transform=\"translate(303.432812 343.878437) scale(0.1 -0.1)\">\n      <use xlink:href=\"#DejaVuSans-52\"/>\n      <use xlink:href=\"#DejaVuSans-4f\" x=\"69.482422\"/>\n      <use xlink:href=\"#DejaVuSans-43\" x=\"148.193359\"/>\n      <use xlink:href=\"#DejaVuSans-20\" x=\"218.017578\"/>\n      <use xlink:href=\"#DejaVuSans-63\" x=\"249.804688\"/>\n      <use xlink:href=\"#DejaVuSans-75\" x=\"304.785156\"/>\n      <use xlink:href=\"#DejaVuSans-72\" x=\"368.164062\"/>\n      <use xlink:href=\"#DejaVuSans-76\" x=\"409.277344\"/>\n      <use xlink:href=\"#DejaVuSans-65\" x=\"468.457031\"/>\n      <use xlink:href=\"#DejaVuSans-20\" x=\"529.980469\"/>\n      <use xlink:href=\"#DejaVuSans-28\" x=\"561.767578\"/>\n      <use xlink:href=\"#DejaVuSans-61\" x=\"600.78125\"/>\n      <use xlink:href=\"#DejaVuSans-72\" x=\"662.060547\"/>\n      <use xlink:href=\"#DejaVuSans-65\" x=\"700.923828\"/>\n      <use xlink:href=\"#DejaVuSans-61\" x=\"762.447266\"/>\n      <use xlink:href=\"#DejaVuSans-20\" x=\"823.726562\"/>\n      <use xlink:href=\"#DejaVuSans-3d\" x=\"855.513672\"/>\n      <use xlink:href=\"#DejaVuSans-20\" x=\"939.302734\"/>\n      <use xlink:href=\"#DejaVuSans-30\" x=\"971.089844\"/>\n      <use xlink:href=\"#DejaVuSans-2e\" x=\"1034.712891\"/>\n      <use xlink:href=\"#DejaVuSans-39\" x=\"1066.5\"/>\n      <use xlink:href=\"#DejaVuSans-38\" x=\"1130.123047\"/>\n      <use xlink:href=\"#DejaVuSans-29\" x=\"1193.746094\"/>\n      <use xlink:href=\"#DejaVuSans-20\" x=\"1232.759766\"/>\n      <use xlink:href=\"#DejaVuSans-66\" x=\"1264.546875\"/>\n      <use xlink:href=\"#DejaVuSans-6f\" x=\"1299.751953\"/>\n      <use xlink:href=\"#DejaVuSans-72\" x=\"1360.933594\"/>\n      <use xlink:href=\"#DejaVuSans-20\" x=\"1402.046875\"/>\n      <use xlink:href=\"#DejaVuSans-63\" x=\"1433.833984\"/>\n      <use xlink:href=\"#DejaVuSans-6c\" x=\"1488.814453\"/>\n      <use xlink:href=\"#DejaVuSans-61\" x=\"1516.597656\"/>\n      <use xlink:href=\"#DejaVuSans-73\" x=\"1577.876953\"/>\n      <use xlink:href=\"#DejaVuSans-73\" x=\"1629.976562\"/>\n      <use xlink:href=\"#DejaVuSans-20\" x=\"1682.076172\"/>\n      <use xlink:href=\"#DejaVuSans-31\" x=\"1713.863281\"/>\n     </g>\n    </g>\n   </g>\n  </g>\n </g>\n <defs>\n  <clipPath id=\"pb73b335e7a\">\n   <rect x=\"43.78125\" y=\"22.318125\" width=\"446.4\" height=\"332.64\"/>\n  </clipPath>\n </defs>\n</svg>\n"
          },
          "metadata": {}
        }
      ]
    },
    {
      "cell_type": "code",
      "source": [
        "print(y_pred_prob)"
      ],
      "metadata": {
        "colab": {
          "base_uri": "https://localhost:8080/"
        },
        "id": "NnWjoTgAsmgY",
        "outputId": "244e0877-88bf-4942-deee-44d9235c07b3"
      },
      "execution_count": 27,
      "outputs": [
        {
          "output_type": "stream",
          "name": "stdout",
          "text": [
            "[[9.99285161e-01 7.14889728e-04]\n",
            " [4.72415149e-01 5.27584851e-01]\n",
            " [9.98878539e-01 1.12139643e-03]\n",
            " [9.98418808e-01 1.58121844e-03]\n",
            " [9.96558011e-01 3.44193541e-03]\n",
            " [2.50884295e-01 7.49115705e-01]\n",
            " [9.86406863e-01 1.35931950e-02]\n",
            " [9.97794986e-01 2.20505637e-03]\n",
            " [9.86453712e-01 1.35462871e-02]\n",
            " [9.99754846e-01 2.45152711e-04]\n",
            " [9.95727897e-01 4.27212520e-03]\n",
            " [9.99008775e-01 9.91240959e-04]\n",
            " [9.99684215e-01 3.15794081e-04]\n",
            " [9.98034775e-01 1.96520751e-03]\n",
            " [9.99677896e-01 3.22123436e-04]\n",
            " [9.85254109e-01 1.47459097e-02]\n",
            " [9.88516688e-01 1.14833005e-02]\n",
            " [9.63104784e-01 3.68951596e-02]\n",
            " [1.78527683e-01 8.21472287e-01]\n",
            " [8.40308487e-01 1.59691468e-01]\n",
            " [9.97933030e-01 2.06695776e-03]\n",
            " [9.99733865e-01 2.66146031e-04]\n",
            " [8.98642063e-01 1.01357907e-01]\n",
            " [9.63442385e-01 3.65575999e-02]\n",
            " [9.95585918e-01 4.41412022e-03]\n",
            " [9.95132744e-01 4.86724637e-03]\n",
            " [9.99462783e-01 5.37200016e-04]\n",
            " [9.98120606e-01 1.87934656e-03]\n",
            " [9.81869757e-01 1.81302559e-02]\n",
            " [2.34241225e-02 9.76575851e-01]\n",
            " [9.98533130e-01 1.46685436e-03]\n",
            " [9.96501327e-01 3.49867577e-03]\n",
            " [9.94755387e-01 5.24459220e-03]\n",
            " [9.86796856e-01 1.32032139e-02]\n",
            " [9.19227004e-01 8.07730481e-02]\n",
            " [7.72345960e-01 2.27654025e-01]\n",
            " [3.33641678e-01 6.66358352e-01]\n",
            " [9.90622818e-01 9.37720295e-03]\n",
            " [9.80214596e-01 1.97853893e-02]\n",
            " [9.98656273e-01 1.34369719e-03]\n",
            " [9.97437596e-01 2.56234384e-03]\n",
            " [5.36905050e-01 4.63094980e-01]\n",
            " [9.83842850e-01 1.61571149e-02]\n",
            " [9.94299650e-01 5.70028275e-03]\n",
            " [9.97191131e-01 2.80889077e-03]\n",
            " [2.35176414e-01 7.64823556e-01]\n",
            " [9.96402860e-01 3.59711098e-03]\n",
            " [9.91941929e-01 8.05804972e-03]\n",
            " [9.69332039e-01 3.06679606e-02]\n",
            " [9.99756515e-01 2.43438626e-04]\n",
            " [9.98929083e-01 1.07086229e-03]\n",
            " [9.96235430e-01 3.76460003e-03]\n",
            " [9.99501109e-01 4.98876208e-04]\n",
            " [9.73097801e-01 2.69021913e-02]\n",
            " [9.98333633e-01 1.66634656e-03]\n",
            " [9.85308707e-01 1.46912942e-02]\n",
            " [9.82689738e-01 1.73102878e-02]\n",
            " [9.45412815e-01 5.45872040e-02]\n",
            " [2.26416975e-01 7.73582995e-01]\n",
            " [9.22545254e-01 7.74547309e-02]\n",
            " [9.63465393e-01 3.65345627e-02]\n",
            " [9.99722421e-01 2.77571438e-04]\n",
            " [8.42906475e-01 1.57093540e-01]\n",
            " [9.71262991e-01 2.87370495e-02]\n",
            " [9.93536294e-01 6.46367343e-03]\n",
            " [9.99216199e-01 7.83796189e-04]\n",
            " [9.92725849e-01 7.27414573e-03]\n",
            " [9.98896360e-01 1.10362563e-03]\n",
            " [9.88841772e-01 1.11582475e-02]\n",
            " [8.02066565e-01 1.97933450e-01]\n",
            " [9.98177290e-01 1.82276405e-03]\n",
            " [9.94873106e-01 5.12683392e-03]\n",
            " [9.93766427e-01 6.23352127e-03]\n",
            " [9.91728067e-01 8.27196147e-03]\n",
            " [9.94492769e-01 5.50721260e-03]\n",
            " [9.22088087e-01 7.79119283e-02]\n",
            " [6.56509221e-01 3.43490809e-01]\n",
            " [9.88134205e-01 1.18657826e-02]\n",
            " [9.90978837e-01 9.02111828e-03]\n",
            " [9.98593628e-01 1.40640873e-03]\n",
            " [5.99878609e-01 4.00121391e-01]\n",
            " [3.44349217e-04 9.99655604e-01]\n",
            " [9.42439437e-02 9.05756056e-01]\n",
            " [1.12530105e-02 9.88747060e-01]\n",
            " [7.69272912e-04 9.99230742e-01]\n",
            " [9.75832736e-05 9.99902368e-01]\n",
            " [4.02592086e-05 9.99959707e-01]\n",
            " [1.26936322e-03 9.98730600e-01]\n",
            " [4.23838264e-06 9.99995708e-01]\n",
            " [1.36289920e-04 9.99863744e-01]\n",
            " [9.52930539e-04 9.99047101e-01]\n",
            " [2.26080796e-04 9.99773920e-01]\n",
            " [2.06814526e-04 9.99793231e-01]\n",
            " [1.20520424e-02 9.87948000e-01]\n",
            " [4.98027891e-01 5.01972079e-01]\n",
            " [1.62420180e-02 9.83758032e-01]\n",
            " [2.72745547e-05 9.99972701e-01]\n",
            " [2.69178245e-02 9.73082185e-01]\n",
            " [5.47672755e-07 9.99999404e-01]\n",
            " [1.58458054e-01 8.41541946e-01]\n",
            " [1.01799984e-02 9.89820063e-01]\n",
            " [9.99301323e-04 9.99000728e-01]\n",
            " [3.61488052e-02 9.63851213e-01]\n",
            " [3.66225317e-02 9.63377416e-01]\n",
            " [3.80786689e-04 9.99619246e-01]\n",
            " [7.42108047e-01 2.57892013e-01]\n",
            " [5.13117239e-02 9.48688269e-01]\n",
            " [1.89863076e-03 9.98101413e-01]\n",
            " [1.69024323e-04 9.99830961e-01]\n",
            " [1.72871888e-01 8.27128053e-01]\n",
            " [3.34434956e-02 9.66556549e-01]\n",
            " [1.33411286e-05 9.99986649e-01]\n",
            " [6.18575990e-01 3.81424010e-01]\n",
            " [1.28450512e-03 9.98715520e-01]\n",
            " [2.24789651e-03 9.97752130e-01]\n",
            " [1.08059158e-03 9.98919487e-01]\n",
            " [3.62029709e-07 9.99999642e-01]\n",
            " [1.78991549e-03 9.98210073e-01]\n",
            " [9.03136075e-01 9.68639031e-02]\n",
            " [3.81802842e-02 9.61819768e-01]\n",
            " [5.37992120e-01 4.62007850e-01]\n",
            " [5.63873851e-04 9.99436080e-01]\n",
            " [2.66038608e-02 9.73396122e-01]\n",
            " [3.03892768e-04 9.99696136e-01]\n",
            " [2.51796772e-03 9.97482002e-01]\n",
            " [1.92679101e-04 9.99807298e-01]\n",
            " [2.49593049e-05 9.99975085e-01]\n",
            " [2.51796772e-03 9.97482002e-01]\n",
            " [8.99011320e-06 9.99991059e-01]\n",
            " [4.15852737e-05 9.99958396e-01]\n",
            " [4.20267199e-04 9.99579728e-01]\n",
            " [2.01736082e-04 9.99798238e-01]\n",
            " [2.20575414e-04 9.99779403e-01]\n",
            " [6.63466752e-03 9.93365347e-01]\n",
            " [3.66666019e-01 6.33334041e-01]\n",
            " [2.00992241e-03 9.97990131e-01]\n",
            " [1.62234519e-05 9.99983788e-01]\n",
            " [2.11064946e-02 9.78893459e-01]\n",
            " [1.12456419e-07 9.99999881e-01]\n",
            " [2.29295060e-01 7.70704985e-01]\n",
            " [8.28961004e-03 9.91710365e-01]\n",
            " [7.78240268e-04 9.99221802e-01]\n",
            " [3.86213395e-03 9.96137798e-01]\n",
            " [3.42314306e-04 9.99657631e-01]\n",
            " [3.41699051e-04 9.99658346e-01]\n",
            " [4.29042608e-01 5.70957422e-01]\n",
            " [6.57904521e-02 9.34209585e-01]\n",
            " [5.09006763e-03 9.94909942e-01]\n",
            " [1.98059337e-04 9.99801934e-01]\n",
            " [3.56596662e-03 9.96433973e-01]\n",
            " [4.07905877e-02 9.59209442e-01]\n",
            " [9.44725889e-06 9.99990582e-01]\n",
            " [4.55013514e-01 5.44986486e-01]\n",
            " [3.14708031e-03 9.96852934e-01]\n",
            " [3.70192388e-03 9.96298134e-01]\n",
            " [8.14125000e-04 9.99185860e-01]\n",
            " [1.79164758e-07 9.99999762e-01]\n",
            " [3.57152848e-03 9.96428430e-01]\n",
            " [8.25634122e-01 1.74365804e-01]\n",
            " [2.61644386e-02 9.73835588e-01]]\n"
          ]
        }
      ]
    }
  ]
}